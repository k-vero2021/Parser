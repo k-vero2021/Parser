{
 "cells": [
  {
   "cell_type": "markdown",
   "metadata": {},
   "source": [
    "# Парсер HeadHunter\n",
    "## Цель проекта:\n",
    "Создать парсер, чтобы получать вакансии под свои запросы поиска\n"
   ]
  },
  {
   "cell_type": "markdown",
   "metadata": {},
   "source": [
    "### Импорт библиотек"
   ]
  },
  {
   "cell_type": "code",
   "execution_count": 1,
   "metadata": {
    "scrolled": true
   },
   "outputs": [],
   "source": [
    "import requests\n",
    "import pandas as pd\n",
    "import numpy as np\n",
    "\n",
    "import json\n",
    "\n",
    "from datetime import datetime, timedelta\n",
    "import time\n",
    "import os\n",
    "from IPython.core.display import display, HTML, clear_output\n",
    "import ipywidgets as widgets\n",
    "from typing import Union\n",
    "\n",
    "import matplotlib.pyplot as plt\n",
    "import seaborn as sns"
   ]
  },
  {
   "cell_type": "markdown",
   "metadata": {},
   "source": [
    "### Делаем выгрузку из HeadHunter\n",
    "Создадим необходимые константы: BASE_URL\n",
    "<br>Добавим перечень требуемых вакансий"
   ]
  },
  {
   "cell_type": "code",
   "execution_count": 2,
   "metadata": {
    "scrolled": true
   },
   "outputs": [],
   "source": [
    "BASE_URL = \"https://api.hh.ru/\"\n",
    "\n",
    "TEXT = f'SQL NAME:(\"Аналитик\" or \"Analyst\" or \"BI\" or \"Business Intelligence\" or \"Data Scientist\" or \"Data Analyst\" or \"Системный/бизнес-аналитик\" or \"Системный аналитик\")'\n",
    "\n",
    "dt_now = datetime.now().date()\n",
    "dt_from = dt_now - timedelta(days=7)\n",
    "DATE_TO = dt_now.isoformat() #API в формате ISO 8601 YYYY-MM-DD или YYYY-MM-DDThh:mm:ss±hhmm\n",
    "DATE_FROM = dt_from.isoformat()\n",
    "\n",
    "VAC_URL = BASE_URL + f'vacancies?text={TEXT}&date_from={DATE_FROM}&date_to={DATE_TO}&responses_count_enabled=True&per_page=100'"
   ]
  },
  {
   "cell_type": "code",
   "execution_count": 3,
   "metadata": {
    "scrolled": true
   },
   "outputs": [],
   "source": [
    "# Cоздаем датафрейм в который будем сохранять наши данные\n",
    "\n",
    "vacancy_df = pd.DataFrame() "
   ]
  },
  {
   "cell_type": "markdown",
   "metadata": {},
   "source": [
    "В выдаче API HH нет опыта работы, поэтому мы укажем его в запросе самостоятельно"
   ]
  },
  {
   "cell_type": "code",
   "execution_count": 4,
   "metadata": {
    "scrolled": true
   },
   "outputs": [],
   "source": [
    "# Название категорий опыта (особое внимание к первым двум пунктам)\n",
    "\n",
    "experiences = ['noExperience',\n",
    "               'between1And3',\n",
    "               'between3And6', \n",
    "               'moreThan6']"
   ]
  },
  {
   "cell_type": "markdown",
   "metadata": {},
   "source": [
    "Напишем цикл для направления запросов к API"
   ]
  },
  {
   "cell_type": "code",
   "execution_count": 5,
   "metadata": {
    "scrolled": true
   },
   "outputs": [
    {
     "name": "stdout",
     "output_type": "stream",
     "text": [
      "noExperience - 3\n",
      "between1And3 - 20\n",
      "between3And6 - 9\n",
      "moreThan6 - 1\n"
     ]
    }
   ],
   "source": [
    "# Количество страниц вакансий по категориям опыта\n",
    "\n",
    "for exp in experiences:\n",
    "    page = 0\n",
    "    url = VAC_URL + f'&experience={exp}'\n",
    "    try:\n",
    "        r = requests.get(url + f'&page={page}')\n",
    "        data = json.loads(r.text) \n",
    "        print(exp, '-', data ['pages'])\n",
    "        items = data['items']\n",
    "    except Exception as e:\n",
    "        print(e)"
   ]
  },
  {
   "cell_type": "code",
   "execution_count": 6,
   "metadata": {},
   "outputs": [],
   "source": [
    "# Вывод перечня вакансий с данными по столбцам\n",
    "\n",
    "for exp in experiences:\n",
    "    page = 0\n",
    "    url = VAC_URL + f'&experience={exp}'\n",
    "    try:\n",
    "        r = requests.get(url + f'&page={page}')\n",
    "        data = json.loads(r.text)\n",
    "        items = data['items']\n",
    "        for page in range(1, data ['pages']):\n",
    "            r = requests.get(url + f'&page={page}')\n",
    "            data = json.loads(r.text)\n",
    "            items += data['items']\n",
    "        df = pd.DataFrame(items)\n",
    "        df['experience'] = exp\n",
    "        vacancy_df = pd.concat([vacancy_df, df])\n",
    "    except Exception as e:\n",
    "        print(exp, '-',e)\n",
    "        time.sleep(5)"
   ]
  },
  {
   "cell_type": "code",
   "execution_count": 7,
   "metadata": {},
   "outputs": [
    {
     "name": "stdout",
     "output_type": "stream",
     "text": [
      "<class 'pandas.core.frame.DataFrame'>\n",
      "Int64Index: 3147 entries, 0 to 26\n",
      "Data columns (total 30 columns):\n",
      "id                          3147 non-null object\n",
      "premium                     3147 non-null bool\n",
      "name                        3147 non-null object\n",
      "department                  448 non-null object\n",
      "has_test                    3147 non-null bool\n",
      "response_letter_required    3147 non-null bool\n",
      "area                        3147 non-null object\n",
      "salary                      607 non-null object\n",
      "type                        3147 non-null object\n",
      "address                     1604 non-null object\n",
      "response_url                0 non-null object\n",
      "sort_point_distance         0 non-null object\n",
      "published_at                3147 non-null object\n",
      "created_at                  3147 non-null object\n",
      "archived                    3147 non-null bool\n",
      "apply_alternate_url         3147 non-null object\n",
      "insider_interview           16 non-null object\n",
      "url                         3147 non-null object\n",
      "alternate_url               3147 non-null object\n",
      "relations                   3147 non-null object\n",
      "employer                    3147 non-null object\n",
      "snippet                     3147 non-null object\n",
      "contacts                    0 non-null object\n",
      "schedule                    3147 non-null object\n",
      "counters                    3147 non-null object\n",
      "working_days                3147 non-null object\n",
      "working_time_intervals      3147 non-null object\n",
      "working_time_modes          3147 non-null object\n",
      "accept_temporary            3147 non-null bool\n",
      "experience                  3147 non-null object\n",
      "dtypes: bool(5), object(25)\n",
      "memory usage: 654.6+ KB\n"
     ]
    }
   ],
   "source": [
    "# Столбцы с типами данных\n",
    "\n",
    "vacancy_df.info()"
   ]
  },
  {
   "cell_type": "code",
   "execution_count": 8,
   "metadata": {},
   "outputs": [
    {
     "data": {
      "text/html": [
       "<div>\n",
       "<style scoped>\n",
       "    .dataframe tbody tr th:only-of-type {\n",
       "        vertical-align: middle;\n",
       "    }\n",
       "\n",
       "    .dataframe tbody tr th {\n",
       "        vertical-align: top;\n",
       "    }\n",
       "\n",
       "    .dataframe thead th {\n",
       "        text-align: right;\n",
       "    }\n",
       "</style>\n",
       "<table border=\"1\" class=\"dataframe\">\n",
       "  <thead>\n",
       "    <tr style=\"text-align: right;\">\n",
       "      <th></th>\n",
       "      <th>id</th>\n",
       "      <th>premium</th>\n",
       "      <th>name</th>\n",
       "      <th>department</th>\n",
       "      <th>has_test</th>\n",
       "      <th>response_letter_required</th>\n",
       "      <th>area</th>\n",
       "      <th>salary</th>\n",
       "      <th>type</th>\n",
       "      <th>address</th>\n",
       "      <th>...</th>\n",
       "      <th>employer</th>\n",
       "      <th>snippet</th>\n",
       "      <th>contacts</th>\n",
       "      <th>schedule</th>\n",
       "      <th>counters</th>\n",
       "      <th>working_days</th>\n",
       "      <th>working_time_intervals</th>\n",
       "      <th>working_time_modes</th>\n",
       "      <th>accept_temporary</th>\n",
       "      <th>experience</th>\n",
       "    </tr>\n",
       "  </thead>\n",
       "  <tbody>\n",
       "    <tr>\n",
       "      <td>0</td>\n",
       "      <td>52059152</td>\n",
       "      <td>False</td>\n",
       "      <td>Системный аналитик</td>\n",
       "      <td>None</td>\n",
       "      <td>False</td>\n",
       "      <td>False</td>\n",
       "      <td>{'id': '1', 'name': 'Москва', 'url': 'https://...</td>\n",
       "      <td>None</td>\n",
       "      <td>{'id': 'open', 'name': 'Открытая'}</td>\n",
       "      <td>{'city': 'Москва', 'street': 'Преображенская п...</td>\n",
       "      <td>...</td>\n",
       "      <td>{'id': '4170597', 'name': 'ЭЛТ-ПОИСК', 'url': ...</td>\n",
       "      <td>{'requirement': 'Коммуникативные навыки, умени...</td>\n",
       "      <td>None</td>\n",
       "      <td>{'id': 'fullDay', 'name': 'Полный день'}</td>\n",
       "      <td>{'responses': 18}</td>\n",
       "      <td>[]</td>\n",
       "      <td>[]</td>\n",
       "      <td>[]</td>\n",
       "      <td>False</td>\n",
       "      <td>noExperience</td>\n",
       "    </tr>\n",
       "    <tr>\n",
       "      <td>1</td>\n",
       "      <td>52361035</td>\n",
       "      <td>False</td>\n",
       "      <td>Medical Data Analyst / Медицинский аналитик</td>\n",
       "      <td>None</td>\n",
       "      <td>False</td>\n",
       "      <td>False</td>\n",
       "      <td>{'id': '1002', 'name': 'Минск', 'url': 'https:...</td>\n",
       "      <td>None</td>\n",
       "      <td>{'id': 'open', 'name': 'Открытая'}</td>\n",
       "      <td>{'city': 'Минск', 'street': 'улица Мельникайте...</td>\n",
       "      <td>...</td>\n",
       "      <td>{'id': '4424273', 'name': 'Одиссеус Дата Серви...</td>\n",
       "      <td>{'requirement': 'Знание &lt;highlighttext&gt;SQL&lt;/hi...</td>\n",
       "      <td>None</td>\n",
       "      <td>{'id': 'flexible', 'name': 'Гибкий график'}</td>\n",
       "      <td>{'responses': 1}</td>\n",
       "      <td>[]</td>\n",
       "      <td>[{'id': 'from_four_to_six_hours_in_a_day', 'na...</td>\n",
       "      <td>[]</td>\n",
       "      <td>False</td>\n",
       "      <td>noExperience</td>\n",
       "    </tr>\n",
       "    <tr>\n",
       "      <td>2</td>\n",
       "      <td>50344878</td>\n",
       "      <td>False</td>\n",
       "      <td>Начинающий системный аналитик / Junior system ...</td>\n",
       "      <td>None</td>\n",
       "      <td>False</td>\n",
       "      <td>True</td>\n",
       "      <td>{'id': '76', 'name': 'Ростов-на-Дону', 'url': ...</td>\n",
       "      <td>{'from': 35000, 'to': None, 'currency': 'RUR',...</td>\n",
       "      <td>{'id': 'open', 'name': 'Открытая'}</td>\n",
       "      <td>{'city': 'Ростов-на-Дону', 'street': 'Обсерват...</td>\n",
       "      <td>...</td>\n",
       "      <td>{'id': '681319', 'name': 'ЗАЗЕКС', 'url': 'htt...</td>\n",
       "      <td>{'requirement': 'Будет большим плюсом, но не о...</td>\n",
       "      <td>None</td>\n",
       "      <td>{'id': 'fullDay', 'name': 'Полный день'}</td>\n",
       "      <td>{'responses': 10}</td>\n",
       "      <td>[]</td>\n",
       "      <td>[]</td>\n",
       "      <td>[]</td>\n",
       "      <td>False</td>\n",
       "      <td>noExperience</td>\n",
       "    </tr>\n",
       "  </tbody>\n",
       "</table>\n",
       "<p>3 rows × 30 columns</p>\n",
       "</div>"
      ],
      "text/plain": [
       "         id  premium                                               name  \\\n",
       "0  52059152    False                                 Системный аналитик   \n",
       "1  52361035    False        Medical Data Analyst / Медицинский аналитик   \n",
       "2  50344878    False  Начинающий системный аналитик / Junior system ...   \n",
       "\n",
       "  department  has_test  response_letter_required  \\\n",
       "0       None     False                     False   \n",
       "1       None     False                     False   \n",
       "2       None     False                      True   \n",
       "\n",
       "                                                area  \\\n",
       "0  {'id': '1', 'name': 'Москва', 'url': 'https://...   \n",
       "1  {'id': '1002', 'name': 'Минск', 'url': 'https:...   \n",
       "2  {'id': '76', 'name': 'Ростов-на-Дону', 'url': ...   \n",
       "\n",
       "                                              salary  \\\n",
       "0                                               None   \n",
       "1                                               None   \n",
       "2  {'from': 35000, 'to': None, 'currency': 'RUR',...   \n",
       "\n",
       "                                 type  \\\n",
       "0  {'id': 'open', 'name': 'Открытая'}   \n",
       "1  {'id': 'open', 'name': 'Открытая'}   \n",
       "2  {'id': 'open', 'name': 'Открытая'}   \n",
       "\n",
       "                                             address  ...  \\\n",
       "0  {'city': 'Москва', 'street': 'Преображенская п...  ...   \n",
       "1  {'city': 'Минск', 'street': 'улица Мельникайте...  ...   \n",
       "2  {'city': 'Ростов-на-Дону', 'street': 'Обсерват...  ...   \n",
       "\n",
       "                                            employer  \\\n",
       "0  {'id': '4170597', 'name': 'ЭЛТ-ПОИСК', 'url': ...   \n",
       "1  {'id': '4424273', 'name': 'Одиссеус Дата Серви...   \n",
       "2  {'id': '681319', 'name': 'ЗАЗЕКС', 'url': 'htt...   \n",
       "\n",
       "                                             snippet contacts  \\\n",
       "0  {'requirement': 'Коммуникативные навыки, умени...     None   \n",
       "1  {'requirement': 'Знание <highlighttext>SQL</hi...     None   \n",
       "2  {'requirement': 'Будет большим плюсом, но не о...     None   \n",
       "\n",
       "                                      schedule           counters  \\\n",
       "0     {'id': 'fullDay', 'name': 'Полный день'}  {'responses': 18}   \n",
       "1  {'id': 'flexible', 'name': 'Гибкий график'}   {'responses': 1}   \n",
       "2     {'id': 'fullDay', 'name': 'Полный день'}  {'responses': 10}   \n",
       "\n",
       "  working_days                             working_time_intervals  \\\n",
       "0           []                                                 []   \n",
       "1           []  [{'id': 'from_four_to_six_hours_in_a_day', 'na...   \n",
       "2           []                                                 []   \n",
       "\n",
       "  working_time_modes accept_temporary    experience  \n",
       "0                 []            False  noExperience  \n",
       "1                 []            False  noExperience  \n",
       "2                 []            False  noExperience  \n",
       "\n",
       "[3 rows x 30 columns]"
      ]
     },
     "execution_count": 8,
     "metadata": {},
     "output_type": "execute_result"
    }
   ],
   "source": [
    "vacancy_df.head(3)  "
   ]
  },
  {
   "cell_type": "code",
   "execution_count": 9,
   "metadata": {},
   "outputs": [],
   "source": [
    "#Сброс индексов \n",
    "\n",
    "vacancy_df.reset_index(drop=True, inplace=True)"
   ]
  },
  {
   "cell_type": "code",
   "execution_count": 10,
   "metadata": {},
   "outputs": [
    {
     "data": {
      "text/html": [
       "<div>\n",
       "<style scoped>\n",
       "    .dataframe tbody tr th:only-of-type {\n",
       "        vertical-align: middle;\n",
       "    }\n",
       "\n",
       "    .dataframe tbody tr th {\n",
       "        vertical-align: top;\n",
       "    }\n",
       "\n",
       "    .dataframe thead th {\n",
       "        text-align: right;\n",
       "    }\n",
       "</style>\n",
       "<table border=\"1\" class=\"dataframe\">\n",
       "  <thead>\n",
       "    <tr style=\"text-align: right;\">\n",
       "      <th></th>\n",
       "      <th>id</th>\n",
       "      <th>premium</th>\n",
       "      <th>name</th>\n",
       "      <th>department</th>\n",
       "      <th>has_test</th>\n",
       "      <th>response_letter_required</th>\n",
       "      <th>area</th>\n",
       "      <th>salary</th>\n",
       "      <th>type</th>\n",
       "      <th>address</th>\n",
       "      <th>...</th>\n",
       "      <th>employer</th>\n",
       "      <th>snippet</th>\n",
       "      <th>contacts</th>\n",
       "      <th>schedule</th>\n",
       "      <th>counters</th>\n",
       "      <th>working_days</th>\n",
       "      <th>working_time_intervals</th>\n",
       "      <th>working_time_modes</th>\n",
       "      <th>accept_temporary</th>\n",
       "      <th>experience</th>\n",
       "    </tr>\n",
       "  </thead>\n",
       "  <tbody>\n",
       "    <tr>\n",
       "      <td>3144</td>\n",
       "      <td>51056038</td>\n",
       "      <td>False</td>\n",
       "      <td>Старший Специалист Power BI</td>\n",
       "      <td>None</td>\n",
       "      <td>False</td>\n",
       "      <td>False</td>\n",
       "      <td>{'id': '1', 'name': 'Москва', 'url': 'https://...</td>\n",
       "      <td>None</td>\n",
       "      <td>{'id': 'open', 'name': 'Открытая'}</td>\n",
       "      <td>{'city': 'Москва', 'street': 'МКАД, 72-й килом...</td>\n",
       "      <td>...</td>\n",
       "      <td>{'id': '42419', 'name': 'Mareven Food Central'...</td>\n",
       "      <td>{'requirement': 'Устойчивые знания средств раз...</td>\n",
       "      <td>None</td>\n",
       "      <td>{'id': 'fullDay', 'name': 'Полный день'}</td>\n",
       "      <td>{'responses': 0}</td>\n",
       "      <td>[]</td>\n",
       "      <td>[]</td>\n",
       "      <td>[]</td>\n",
       "      <td>False</td>\n",
       "      <td>moreThan6</td>\n",
       "    </tr>\n",
       "    <tr>\n",
       "      <td>3145</td>\n",
       "      <td>50185357</td>\n",
       "      <td>False</td>\n",
       "      <td>Аналитик-Консультант 1С ERP (Бухгалтерия)</td>\n",
       "      <td>None</td>\n",
       "      <td>False</td>\n",
       "      <td>False</td>\n",
       "      <td>{'id': '2', 'name': 'Санкт-Петербург', 'url': ...</td>\n",
       "      <td>{'from': 150000, 'to': None, 'currency': 'RUR'...</td>\n",
       "      <td>{'id': 'open', 'name': 'Открытая'}</td>\n",
       "      <td>{'city': 'Санкт-Петербург', 'street': 'Пражска...</td>\n",
       "      <td>...</td>\n",
       "      <td>{'id': '28435', 'name': 'Группа компаний БТК',...</td>\n",
       "      <td>{'requirement': '...описания &lt;highlighttext&gt;би...</td>\n",
       "      <td>None</td>\n",
       "      <td>{'id': 'fullDay', 'name': 'Полный день'}</td>\n",
       "      <td>{'responses': 1}</td>\n",
       "      <td>[]</td>\n",
       "      <td>[]</td>\n",
       "      <td>[]</td>\n",
       "      <td>False</td>\n",
       "      <td>moreThan6</td>\n",
       "    </tr>\n",
       "    <tr>\n",
       "      <td>3146</td>\n",
       "      <td>52293949</td>\n",
       "      <td>False</td>\n",
       "      <td>Продуктовый аналитик (команда монетизации плат...</td>\n",
       "      <td>{'id': 'mailru-15478-other', 'name': 'VK'}</td>\n",
       "      <td>False</td>\n",
       "      <td>False</td>\n",
       "      <td>{'id': '1', 'name': 'Москва', 'url': 'https://...</td>\n",
       "      <td>None</td>\n",
       "      <td>{'id': 'open', 'name': 'Открытая'}</td>\n",
       "      <td>None</td>\n",
       "      <td>...</td>\n",
       "      <td>{'id': '15478', 'name': 'VK', 'url': 'https://...</td>\n",
       "      <td>{'requirement': 'Имеешь опыт работы в &lt;highlig...</td>\n",
       "      <td>None</td>\n",
       "      <td>{'id': 'fullDay', 'name': 'Полный день'}</td>\n",
       "      <td>{'responses': 1}</td>\n",
       "      <td>[]</td>\n",
       "      <td>[]</td>\n",
       "      <td>[]</td>\n",
       "      <td>False</td>\n",
       "      <td>moreThan6</td>\n",
       "    </tr>\n",
       "  </tbody>\n",
       "</table>\n",
       "<p>3 rows × 30 columns</p>\n",
       "</div>"
      ],
      "text/plain": [
       "            id  premium                                               name  \\\n",
       "3144  51056038    False                        Старший Специалист Power BI   \n",
       "3145  50185357    False          Аналитик-Консультант 1С ERP (Бухгалтерия)   \n",
       "3146  52293949    False  Продуктовый аналитик (команда монетизации плат...   \n",
       "\n",
       "                                      department  has_test  \\\n",
       "3144                                        None     False   \n",
       "3145                                        None     False   \n",
       "3146  {'id': 'mailru-15478-other', 'name': 'VK'}     False   \n",
       "\n",
       "      response_letter_required  \\\n",
       "3144                     False   \n",
       "3145                     False   \n",
       "3146                     False   \n",
       "\n",
       "                                                   area  \\\n",
       "3144  {'id': '1', 'name': 'Москва', 'url': 'https://...   \n",
       "3145  {'id': '2', 'name': 'Санкт-Петербург', 'url': ...   \n",
       "3146  {'id': '1', 'name': 'Москва', 'url': 'https://...   \n",
       "\n",
       "                                                 salary  \\\n",
       "3144                                               None   \n",
       "3145  {'from': 150000, 'to': None, 'currency': 'RUR'...   \n",
       "3146                                               None   \n",
       "\n",
       "                                    type  \\\n",
       "3144  {'id': 'open', 'name': 'Открытая'}   \n",
       "3145  {'id': 'open', 'name': 'Открытая'}   \n",
       "3146  {'id': 'open', 'name': 'Открытая'}   \n",
       "\n",
       "                                                address  ...  \\\n",
       "3144  {'city': 'Москва', 'street': 'МКАД, 72-й килом...  ...   \n",
       "3145  {'city': 'Санкт-Петербург', 'street': 'Пражска...  ...   \n",
       "3146                                               None  ...   \n",
       "\n",
       "                                               employer  \\\n",
       "3144  {'id': '42419', 'name': 'Mareven Food Central'...   \n",
       "3145  {'id': '28435', 'name': 'Группа компаний БТК',...   \n",
       "3146  {'id': '15478', 'name': 'VK', 'url': 'https://...   \n",
       "\n",
       "                                                snippet contacts  \\\n",
       "3144  {'requirement': 'Устойчивые знания средств раз...     None   \n",
       "3145  {'requirement': '...описания <highlighttext>би...     None   \n",
       "3146  {'requirement': 'Имеешь опыт работы в <highlig...     None   \n",
       "\n",
       "                                      schedule          counters working_days  \\\n",
       "3144  {'id': 'fullDay', 'name': 'Полный день'}  {'responses': 0}           []   \n",
       "3145  {'id': 'fullDay', 'name': 'Полный день'}  {'responses': 1}           []   \n",
       "3146  {'id': 'fullDay', 'name': 'Полный день'}  {'responses': 1}           []   \n",
       "\n",
       "     working_time_intervals working_time_modes accept_temporary experience  \n",
       "3144                     []                 []            False  moreThan6  \n",
       "3145                     []                 []            False  moreThan6  \n",
       "3146                     []                 []            False  moreThan6  \n",
       "\n",
       "[3 rows x 30 columns]"
      ]
     },
     "execution_count": 10,
     "metadata": {},
     "output_type": "execute_result"
    }
   ],
   "source": [
    "vacancy_df.tail(3)"
   ]
  },
  {
   "cell_type": "markdown",
   "metadata": {},
   "source": [
    "### Вытащим информацию из словарей"
   ]
  },
  {
   "cell_type": "code",
   "execution_count": 11,
   "metadata": {
    "scrolled": true
   },
   "outputs": [],
   "source": [
    "#Поиск по id\n",
    "\n",
    "def return_id(x, key='id', nan_value=np.nan):\n",
    "    try:\n",
    "        return x[key]\n",
    "    except Exception as e:\n",
    "        return nan_value"
   ]
  },
  {
   "cell_type": "code",
   "execution_count": 12,
   "metadata": {},
   "outputs": [],
   "source": [
    "#Выбор важных столбцов по ключу\n",
    "\n",
    "vacancy_df['employer_name'] = vacancy_df['employer'].apply(return_id, key='name')\n",
    "vacancy_df['department_name'] = vacancy_df['department'].apply(return_id, key='name')\n",
    "vacancy_df['salary_from'] = vacancy_df['salary'].apply(return_id, key='from')\n",
    "vacancy_df['salary_to'] = vacancy_df['salary'].apply(return_id, key='to')\n",
    "vacancy_df['city'] = vacancy_df['area'].apply(return_id, key='name')\n",
    "vacancy_df['metro_name'] = vacancy_df['address'].apply(return_id, key='metro')\n",
    "vacancy_df['station_name'] = vacancy_df['metro_name'].apply(return_id, key='station_name')\n",
    "vacancy_df['line_name'] = vacancy_df['metro_name'].apply(return_id, key='line_name')\n",
    "vacancy_df['address_street'] = vacancy_df['address'].apply(return_id, key='street')\n",
    "vacancy_df['responses'] = vacancy_df['counters'].apply(return_id, key='responses')"
   ]
  },
  {
   "cell_type": "code",
   "execution_count": 13,
   "metadata": {},
   "outputs": [
    {
     "data": {
      "text/html": [
       "<div>\n",
       "<style scoped>\n",
       "    .dataframe tbody tr th:only-of-type {\n",
       "        vertical-align: middle;\n",
       "    }\n",
       "\n",
       "    .dataframe tbody tr th {\n",
       "        vertical-align: top;\n",
       "    }\n",
       "\n",
       "    .dataframe thead th {\n",
       "        text-align: right;\n",
       "    }\n",
       "</style>\n",
       "<table border=\"1\" class=\"dataframe\">\n",
       "  <thead>\n",
       "    <tr style=\"text-align: right;\">\n",
       "      <th></th>\n",
       "      <th>id</th>\n",
       "      <th>premium</th>\n",
       "      <th>name</th>\n",
       "      <th>department</th>\n",
       "      <th>has_test</th>\n",
       "      <th>response_letter_required</th>\n",
       "      <th>area</th>\n",
       "      <th>salary</th>\n",
       "      <th>type</th>\n",
       "      <th>address</th>\n",
       "      <th>...</th>\n",
       "      <th>employer_name</th>\n",
       "      <th>department_name</th>\n",
       "      <th>salary_from</th>\n",
       "      <th>salary_to</th>\n",
       "      <th>city</th>\n",
       "      <th>metro_name</th>\n",
       "      <th>station_name</th>\n",
       "      <th>line_name</th>\n",
       "      <th>address_street</th>\n",
       "      <th>responses</th>\n",
       "    </tr>\n",
       "  </thead>\n",
       "  <tbody>\n",
       "    <tr>\n",
       "      <td>0</td>\n",
       "      <td>52059152</td>\n",
       "      <td>False</td>\n",
       "      <td>Системный аналитик</td>\n",
       "      <td>None</td>\n",
       "      <td>False</td>\n",
       "      <td>False</td>\n",
       "      <td>{'id': '1', 'name': 'Москва', 'url': 'https://...</td>\n",
       "      <td>None</td>\n",
       "      <td>{'id': 'open', 'name': 'Открытая'}</td>\n",
       "      <td>{'city': 'Москва', 'street': 'Преображенская п...</td>\n",
       "      <td>...</td>\n",
       "      <td>ЭЛТ-ПОИСК</td>\n",
       "      <td>NaN</td>\n",
       "      <td>NaN</td>\n",
       "      <td>NaN</td>\n",
       "      <td>Москва</td>\n",
       "      <td>None</td>\n",
       "      <td>NaN</td>\n",
       "      <td>NaN</td>\n",
       "      <td>Преображенская площадь</td>\n",
       "      <td>18</td>\n",
       "    </tr>\n",
       "    <tr>\n",
       "      <td>1</td>\n",
       "      <td>52361035</td>\n",
       "      <td>False</td>\n",
       "      <td>Medical Data Analyst / Медицинский аналитик</td>\n",
       "      <td>None</td>\n",
       "      <td>False</td>\n",
       "      <td>False</td>\n",
       "      <td>{'id': '1002', 'name': 'Минск', 'url': 'https:...</td>\n",
       "      <td>None</td>\n",
       "      <td>{'id': 'open', 'name': 'Открытая'}</td>\n",
       "      <td>{'city': 'Минск', 'street': 'улица Мельникайте...</td>\n",
       "      <td>...</td>\n",
       "      <td>Одиссеус Дата Сервисес</td>\n",
       "      <td>NaN</td>\n",
       "      <td>NaN</td>\n",
       "      <td>NaN</td>\n",
       "      <td>Минск</td>\n",
       "      <td>None</td>\n",
       "      <td>NaN</td>\n",
       "      <td>NaN</td>\n",
       "      <td>улица Мельникайте</td>\n",
       "      <td>1</td>\n",
       "    </tr>\n",
       "    <tr>\n",
       "      <td>2</td>\n",
       "      <td>50344878</td>\n",
       "      <td>False</td>\n",
       "      <td>Начинающий системный аналитик / Junior system ...</td>\n",
       "      <td>None</td>\n",
       "      <td>False</td>\n",
       "      <td>True</td>\n",
       "      <td>{'id': '76', 'name': 'Ростов-на-Дону', 'url': ...</td>\n",
       "      <td>{'from': 35000, 'to': None, 'currency': 'RUR',...</td>\n",
       "      <td>{'id': 'open', 'name': 'Открытая'}</td>\n",
       "      <td>{'city': 'Ростов-на-Дону', 'street': 'Обсерват...</td>\n",
       "      <td>...</td>\n",
       "      <td>ЗАЗЕКС</td>\n",
       "      <td>NaN</td>\n",
       "      <td>35000.0</td>\n",
       "      <td>NaN</td>\n",
       "      <td>Ростов-на-Дону</td>\n",
       "      <td>None</td>\n",
       "      <td>NaN</td>\n",
       "      <td>NaN</td>\n",
       "      <td>Обсерваторная улица</td>\n",
       "      <td>10</td>\n",
       "    </tr>\n",
       "  </tbody>\n",
       "</table>\n",
       "<p>3 rows × 40 columns</p>\n",
       "</div>"
      ],
      "text/plain": [
       "         id  premium                                               name  \\\n",
       "0  52059152    False                                 Системный аналитик   \n",
       "1  52361035    False        Medical Data Analyst / Медицинский аналитик   \n",
       "2  50344878    False  Начинающий системный аналитик / Junior system ...   \n",
       "\n",
       "  department  has_test  response_letter_required  \\\n",
       "0       None     False                     False   \n",
       "1       None     False                     False   \n",
       "2       None     False                      True   \n",
       "\n",
       "                                                area  \\\n",
       "0  {'id': '1', 'name': 'Москва', 'url': 'https://...   \n",
       "1  {'id': '1002', 'name': 'Минск', 'url': 'https:...   \n",
       "2  {'id': '76', 'name': 'Ростов-на-Дону', 'url': ...   \n",
       "\n",
       "                                              salary  \\\n",
       "0                                               None   \n",
       "1                                               None   \n",
       "2  {'from': 35000, 'to': None, 'currency': 'RUR',...   \n",
       "\n",
       "                                 type  \\\n",
       "0  {'id': 'open', 'name': 'Открытая'}   \n",
       "1  {'id': 'open', 'name': 'Открытая'}   \n",
       "2  {'id': 'open', 'name': 'Открытая'}   \n",
       "\n",
       "                                             address  ...  \\\n",
       "0  {'city': 'Москва', 'street': 'Преображенская п...  ...   \n",
       "1  {'city': 'Минск', 'street': 'улица Мельникайте...  ...   \n",
       "2  {'city': 'Ростов-на-Дону', 'street': 'Обсерват...  ...   \n",
       "\n",
       "            employer_name department_name salary_from salary_to  \\\n",
       "0               ЭЛТ-ПОИСК             NaN         NaN       NaN   \n",
       "1  Одиссеус Дата Сервисес             NaN         NaN       NaN   \n",
       "2                  ЗАЗЕКС             NaN     35000.0       NaN   \n",
       "\n",
       "             city metro_name station_name line_name          address_street  \\\n",
       "0          Москва       None          NaN       NaN  Преображенская площадь   \n",
       "1           Минск       None          NaN       NaN       улица Мельникайте   \n",
       "2  Ростов-на-Дону       None          NaN       NaN     Обсерваторная улица   \n",
       "\n",
       "  responses  \n",
       "0        18  \n",
       "1         1  \n",
       "2        10  \n",
       "\n",
       "[3 rows x 40 columns]"
      ]
     },
     "execution_count": 13,
     "metadata": {},
     "output_type": "execute_result"
    }
   ],
   "source": [
    "vacancy_df.head(3)"
   ]
  },
  {
   "cell_type": "code",
   "execution_count": 14,
   "metadata": {
    "scrolled": true
   },
   "outputs": [
    {
     "data": {
      "text/plain": [
       "array(['Москва', 'Минск', 'Ростов-на-Дону', 'Новосибирск',\n",
       "       'Санкт-Петербург', 'Нижний Новгород', 'Киев', 'Алматы',\n",
       "       'Нижневартовск', 'Уфа', 'Нур-Султан', 'Самара', 'Воронеж', 'Пермь',\n",
       "       'Саратов', 'Караганда', 'Казань', 'Львов', 'Кипр',\n",
       "       'Киров (Кировская область)', 'Екатеринбург', 'Ярославль',\n",
       "       'Калининград', 'Волгоград', 'Краснодар', 'Щелково',\n",
       "       'Иваново (Ивановская область)', 'Томск', 'Красноярск', 'Таганрог',\n",
       "       'Белая Церковь', 'Хабаровск', 'Кемерово', 'Балашиха', 'Ижевск',\n",
       "       'Владимир', 'Владивосток', 'Челябинск', 'Днепр (Днепропетровск)',\n",
       "       'Польша', 'Тольятти', 'Кострома', 'Серпухов', 'Харьков', 'Рязань',\n",
       "       'Тюмень', 'Чебоксары', 'Омск', 'Новокузнецк', 'Пенза', 'Барнаул',\n",
       "       'Зеленоград', 'Химки', 'Майкоп', 'Тула', 'Иннополис', 'Череповец',\n",
       "       'Курск', 'Симферополь', 'Липецк', 'Ташкент', 'Дубна', 'Саранск',\n",
       "       'Тверь', 'Бейнеу (Мангистауская обл)', 'Жансугуров', 'Чита',\n",
       "       'Благовещенск (Амурская область)', 'Улан-Удэ', 'Иркутск', 'Братск',\n",
       "       'Абакан', 'Белгород', 'Севастополь', 'Баку', 'Оренбург', 'Бишкек',\n",
       "       'Ульяновск', 'Сертолово', 'Сестрорецк', 'Смоленск', 'Вологда',\n",
       "       'Брянск', 'Йошкар-Ола', 'Сызрань', 'Великий Новгород', 'Махачкала',\n",
       "       'Ялта', 'Псков', 'Керчь', 'Новороссийск', 'Красногорск', 'Тамбов',\n",
       "       'Астрахань', 'Солнечногорск', 'Видное', 'Одесса', 'Гомель',\n",
       "       'Сергиев Посад', 'Нерюнгри', 'Ковров', 'Сочи',\n",
       "       'Петропавловск-Камчатский', 'Николаев', 'США', 'Атырау', 'Обнинск',\n",
       "       'Калуга', 'Витебск', 'Железнодорожный', 'Реутов', 'Гродно',\n",
       "       'Могилев'], dtype=object)"
      ]
     },
     "execution_count": 14,
     "metadata": {},
     "output_type": "execute_result"
    }
   ],
   "source": [
    "# Перечень городов ('city')\n",
    "\n",
    "vacancy_df['city'].unique()"
   ]
  },
  {
   "cell_type": "code",
   "execution_count": 15,
   "metadata": {},
   "outputs": [],
   "source": [
    "# Выбор вакансии только по г.Москва\n",
    "\n",
    "vacancy_df_msk = vacancy_df[vacancy_df.loc[:,\"city\"].isin([\"Москва\"])]"
   ]
  },
  {
   "cell_type": "code",
   "execution_count": 16,
   "metadata": {},
   "outputs": [
    {
     "data": {
      "text/html": [
       "<div>\n",
       "<style scoped>\n",
       "    .dataframe tbody tr th:only-of-type {\n",
       "        vertical-align: middle;\n",
       "    }\n",
       "\n",
       "    .dataframe tbody tr th {\n",
       "        vertical-align: top;\n",
       "    }\n",
       "\n",
       "    .dataframe thead th {\n",
       "        text-align: right;\n",
       "    }\n",
       "</style>\n",
       "<table border=\"1\" class=\"dataframe\">\n",
       "  <thead>\n",
       "    <tr style=\"text-align: right;\">\n",
       "      <th></th>\n",
       "      <th>id</th>\n",
       "      <th>premium</th>\n",
       "      <th>name</th>\n",
       "      <th>department</th>\n",
       "      <th>has_test</th>\n",
       "      <th>response_letter_required</th>\n",
       "      <th>area</th>\n",
       "      <th>salary</th>\n",
       "      <th>type</th>\n",
       "      <th>address</th>\n",
       "      <th>...</th>\n",
       "      <th>employer_name</th>\n",
       "      <th>department_name</th>\n",
       "      <th>salary_from</th>\n",
       "      <th>salary_to</th>\n",
       "      <th>city</th>\n",
       "      <th>metro_name</th>\n",
       "      <th>station_name</th>\n",
       "      <th>line_name</th>\n",
       "      <th>address_street</th>\n",
       "      <th>responses</th>\n",
       "    </tr>\n",
       "  </thead>\n",
       "  <tbody>\n",
       "    <tr>\n",
       "      <td>3143</td>\n",
       "      <td>50574062</td>\n",
       "      <td>False</td>\n",
       "      <td>Менеджер по коммерческой и рыночной аналитике</td>\n",
       "      <td>None</td>\n",
       "      <td>False</td>\n",
       "      <td>False</td>\n",
       "      <td>{'id': '1', 'name': 'Москва', 'url': 'https://...</td>\n",
       "      <td>None</td>\n",
       "      <td>{'id': 'open', 'name': 'Открытая'}</td>\n",
       "      <td>{'city': 'Москва', 'street': 'Электрозаводская...</td>\n",
       "      <td>...</td>\n",
       "      <td>DPD в России</td>\n",
       "      <td>NaN</td>\n",
       "      <td>NaN</td>\n",
       "      <td>NaN</td>\n",
       "      <td>Москва</td>\n",
       "      <td>{'station_name': 'Преображенская площадь', 'li...</td>\n",
       "      <td>Преображенская площадь</td>\n",
       "      <td>Сокольническая</td>\n",
       "      <td>Электрозаводская улица</td>\n",
       "      <td>6</td>\n",
       "    </tr>\n",
       "    <tr>\n",
       "      <td>3144</td>\n",
       "      <td>51056038</td>\n",
       "      <td>False</td>\n",
       "      <td>Старший Специалист Power BI</td>\n",
       "      <td>None</td>\n",
       "      <td>False</td>\n",
       "      <td>False</td>\n",
       "      <td>{'id': '1', 'name': 'Москва', 'url': 'https://...</td>\n",
       "      <td>None</td>\n",
       "      <td>{'id': 'open', 'name': 'Открытая'}</td>\n",
       "      <td>{'city': 'Москва', 'street': 'МКАД, 72-й килом...</td>\n",
       "      <td>...</td>\n",
       "      <td>Mareven Food Central</td>\n",
       "      <td>NaN</td>\n",
       "      <td>NaN</td>\n",
       "      <td>NaN</td>\n",
       "      <td>Москва</td>\n",
       "      <td>{'station_name': 'Сходненская', 'line_name': '...</td>\n",
       "      <td>Сходненская</td>\n",
       "      <td>Таганско-Краснопресненская</td>\n",
       "      <td>МКАД, 72-й километр, внешняя сторона</td>\n",
       "      <td>0</td>\n",
       "    </tr>\n",
       "    <tr>\n",
       "      <td>3146</td>\n",
       "      <td>52293949</td>\n",
       "      <td>False</td>\n",
       "      <td>Продуктовый аналитик (команда монетизации плат...</td>\n",
       "      <td>{'id': 'mailru-15478-other', 'name': 'VK'}</td>\n",
       "      <td>False</td>\n",
       "      <td>False</td>\n",
       "      <td>{'id': '1', 'name': 'Москва', 'url': 'https://...</td>\n",
       "      <td>None</td>\n",
       "      <td>{'id': 'open', 'name': 'Открытая'}</td>\n",
       "      <td>None</td>\n",
       "      <td>...</td>\n",
       "      <td>VK</td>\n",
       "      <td>VK</td>\n",
       "      <td>NaN</td>\n",
       "      <td>NaN</td>\n",
       "      <td>Москва</td>\n",
       "      <td>NaN</td>\n",
       "      <td>NaN</td>\n",
       "      <td>NaN</td>\n",
       "      <td>NaN</td>\n",
       "      <td>1</td>\n",
       "    </tr>\n",
       "  </tbody>\n",
       "</table>\n",
       "<p>3 rows × 40 columns</p>\n",
       "</div>"
      ],
      "text/plain": [
       "            id  premium                                               name  \\\n",
       "3143  50574062    False      Менеджер по коммерческой и рыночной аналитике   \n",
       "3144  51056038    False                        Старший Специалист Power BI   \n",
       "3146  52293949    False  Продуктовый аналитик (команда монетизации плат...   \n",
       "\n",
       "                                      department  has_test  \\\n",
       "3143                                        None     False   \n",
       "3144                                        None     False   \n",
       "3146  {'id': 'mailru-15478-other', 'name': 'VK'}     False   \n",
       "\n",
       "      response_letter_required  \\\n",
       "3143                     False   \n",
       "3144                     False   \n",
       "3146                     False   \n",
       "\n",
       "                                                   area salary  \\\n",
       "3143  {'id': '1', 'name': 'Москва', 'url': 'https://...   None   \n",
       "3144  {'id': '1', 'name': 'Москва', 'url': 'https://...   None   \n",
       "3146  {'id': '1', 'name': 'Москва', 'url': 'https://...   None   \n",
       "\n",
       "                                    type  \\\n",
       "3143  {'id': 'open', 'name': 'Открытая'}   \n",
       "3144  {'id': 'open', 'name': 'Открытая'}   \n",
       "3146  {'id': 'open', 'name': 'Открытая'}   \n",
       "\n",
       "                                                address  ...  \\\n",
       "3143  {'city': 'Москва', 'street': 'Электрозаводская...  ...   \n",
       "3144  {'city': 'Москва', 'street': 'МКАД, 72-й килом...  ...   \n",
       "3146                                               None  ...   \n",
       "\n",
       "             employer_name department_name salary_from salary_to    city  \\\n",
       "3143          DPD в России             NaN         NaN       NaN  Москва   \n",
       "3144  Mareven Food Central             NaN         NaN       NaN  Москва   \n",
       "3146                    VK              VK         NaN       NaN  Москва   \n",
       "\n",
       "                                             metro_name  \\\n",
       "3143  {'station_name': 'Преображенская площадь', 'li...   \n",
       "3144  {'station_name': 'Сходненская', 'line_name': '...   \n",
       "3146                                                NaN   \n",
       "\n",
       "                station_name                   line_name  \\\n",
       "3143  Преображенская площадь              Сокольническая   \n",
       "3144             Сходненская  Таганско-Краснопресненская   \n",
       "3146                     NaN                         NaN   \n",
       "\n",
       "                            address_street responses  \n",
       "3143                Электрозаводская улица         6  \n",
       "3144  МКАД, 72-й километр, внешняя сторона         0  \n",
       "3146                                   NaN         1  \n",
       "\n",
       "[3 rows x 40 columns]"
      ]
     },
     "execution_count": 16,
     "metadata": {},
     "output_type": "execute_result"
    }
   ],
   "source": [
    "vacancy_df_msk.tail(3)"
   ]
  },
  {
   "cell_type": "code",
   "execution_count": 17,
   "metadata": {},
   "outputs": [],
   "source": [
    "# Выбор вакансии только по опыту работы до 3-х лет (около 1200)\n",
    "\n",
    "vacancy_df_to3years = vacancy_df_msk[vacancy_df_msk.loc[:,\"experience\"].isin([\"noExperience\", \"between1And3\"])]"
   ]
  },
  {
   "cell_type": "code",
   "execution_count": 18,
   "metadata": {},
   "outputs": [
    {
     "name": "stdout",
     "output_type": "stream",
     "text": [
      "<class 'pandas.core.frame.DataFrame'>\n",
      "Int64Index: 1176 entries, 0 to 2234\n",
      "Data columns (total 40 columns):\n",
      "id                          1176 non-null object\n",
      "premium                     1176 non-null bool\n",
      "name                        1176 non-null object\n",
      "department                  216 non-null object\n",
      "has_test                    1176 non-null bool\n",
      "response_letter_required    1176 non-null bool\n",
      "area                        1176 non-null object\n",
      "salary                      184 non-null object\n",
      "type                        1176 non-null object\n",
      "address                     680 non-null object\n",
      "response_url                0 non-null object\n",
      "sort_point_distance         0 non-null object\n",
      "published_at                1176 non-null object\n",
      "created_at                  1176 non-null object\n",
      "archived                    1176 non-null bool\n",
      "apply_alternate_url         1176 non-null object\n",
      "insider_interview           9 non-null object\n",
      "url                         1176 non-null object\n",
      "alternate_url               1176 non-null object\n",
      "relations                   1176 non-null object\n",
      "employer                    1176 non-null object\n",
      "snippet                     1176 non-null object\n",
      "contacts                    0 non-null object\n",
      "schedule                    1176 non-null object\n",
      "counters                    1176 non-null object\n",
      "working_days                1176 non-null object\n",
      "working_time_intervals      1176 non-null object\n",
      "working_time_modes          1176 non-null object\n",
      "accept_temporary            1176 non-null bool\n",
      "experience                  1176 non-null object\n",
      "employer_name               1176 non-null object\n",
      "department_name             216 non-null object\n",
      "salary_from                 152 non-null float64\n",
      "salary_to                   116 non-null float64\n",
      "city                        1176 non-null object\n",
      "metro_name                  544 non-null object\n",
      "station_name                544 non-null object\n",
      "line_name                   544 non-null object\n",
      "address_street              598 non-null object\n",
      "responses                   1176 non-null int64\n",
      "dtypes: bool(5), float64(2), int64(1), object(32)\n",
      "memory usage: 336.5+ KB\n"
     ]
    }
   ],
   "source": [
    "# Столбцы с типами данных\n",
    "\n",
    "vacancy_df_to3years.info()"
   ]
  },
  {
   "cell_type": "code",
   "execution_count": 19,
   "metadata": {},
   "outputs": [
    {
     "data": {
      "text/plain": [
       "id                             0\n",
       "premium                        0\n",
       "name                           0\n",
       "department                   960\n",
       "has_test                       0\n",
       "response_letter_required       0\n",
       "area                           0\n",
       "salary                       992\n",
       "type                           0\n",
       "address                      496\n",
       "response_url                1176\n",
       "sort_point_distance         1176\n",
       "published_at                   0\n",
       "created_at                     0\n",
       "archived                       0\n",
       "apply_alternate_url            0\n",
       "insider_interview           1167\n",
       "url                            0\n",
       "alternate_url                  0\n",
       "relations                      0\n",
       "employer                       0\n",
       "snippet                        0\n",
       "contacts                    1176\n",
       "schedule                       0\n",
       "counters                       0\n",
       "working_days                   0\n",
       "working_time_intervals         0\n",
       "working_time_modes             0\n",
       "accept_temporary               0\n",
       "experience                     0\n",
       "employer_name                  0\n",
       "department_name              960\n",
       "salary_from                 1024\n",
       "salary_to                   1060\n",
       "city                           0\n",
       "metro_name                   632\n",
       "station_name                 632\n",
       "line_name                    632\n",
       "address_street               578\n",
       "responses                      0\n",
       "dtype: int64"
      ]
     },
     "execution_count": 19,
     "metadata": {},
     "output_type": "execute_result"
    }
   ],
   "source": [
    "# Количество незаполненных значений по столбцам\n",
    "\n",
    "vacancy_df_to3years.isna().sum()"
   ]
  },
  {
   "cell_type": "code",
   "execution_count": 20,
   "metadata": {},
   "outputs": [
    {
     "data": {
      "text/html": [
       "<div>\n",
       "<style scoped>\n",
       "    .dataframe tbody tr th:only-of-type {\n",
       "        vertical-align: middle;\n",
       "    }\n",
       "\n",
       "    .dataframe tbody tr th {\n",
       "        vertical-align: top;\n",
       "    }\n",
       "\n",
       "    .dataframe thead th {\n",
       "        text-align: right;\n",
       "    }\n",
       "</style>\n",
       "<table border=\"1\" class=\"dataframe\">\n",
       "  <thead>\n",
       "    <tr style=\"text-align: right;\">\n",
       "      <th></th>\n",
       "      <th>id</th>\n",
       "      <th>premium</th>\n",
       "      <th>name</th>\n",
       "      <th>department</th>\n",
       "      <th>has_test</th>\n",
       "      <th>response_letter_required</th>\n",
       "      <th>area</th>\n",
       "      <th>salary</th>\n",
       "      <th>type</th>\n",
       "      <th>address</th>\n",
       "      <th>...</th>\n",
       "      <th>employer_name</th>\n",
       "      <th>department_name</th>\n",
       "      <th>salary_from</th>\n",
       "      <th>salary_to</th>\n",
       "      <th>city</th>\n",
       "      <th>metro_name</th>\n",
       "      <th>station_name</th>\n",
       "      <th>line_name</th>\n",
       "      <th>address_street</th>\n",
       "      <th>responses</th>\n",
       "    </tr>\n",
       "  </thead>\n",
       "  <tbody>\n",
       "    <tr>\n",
       "      <td>2230</td>\n",
       "      <td>52288615</td>\n",
       "      <td>False</td>\n",
       "      <td>Главный аналитик в департамент по работе с про...</td>\n",
       "      <td>{'id': '2492-2492-14883', 'name': 'Московский ...</td>\n",
       "      <td>False</td>\n",
       "      <td>False</td>\n",
       "      <td>{'id': '1', 'name': 'Москва', 'url': 'https://...</td>\n",
       "      <td>None</td>\n",
       "      <td>{'id': 'open', 'name': 'Открытая'}</td>\n",
       "      <td>{'city': 'Москва', 'street': 'Очаковское шоссе...</td>\n",
       "      <td>...</td>\n",
       "      <td>Московский Кредитный Банк</td>\n",
       "      <td>Московский Кредитный Банк. Профессионалы</td>\n",
       "      <td>NaN</td>\n",
       "      <td>NaN</td>\n",
       "      <td>Москва</td>\n",
       "      <td>{'station_name': 'Кунцевская', 'line_name': 'А...</td>\n",
       "      <td>Кунцевская</td>\n",
       "      <td>Арбатско-Покровская</td>\n",
       "      <td>Очаковское шоссе</td>\n",
       "      <td>6</td>\n",
       "    </tr>\n",
       "    <tr>\n",
       "      <td>2233</td>\n",
       "      <td>52160191</td>\n",
       "      <td>False</td>\n",
       "      <td>Менеджер по стратегии и развитию регионов / ан...</td>\n",
       "      <td>None</td>\n",
       "      <td>False</td>\n",
       "      <td>False</td>\n",
       "      <td>{'id': '1', 'name': 'Москва', 'url': 'https://...</td>\n",
       "      <td>None</td>\n",
       "      <td>{'id': 'open', 'name': 'Открытая'}</td>\n",
       "      <td>{'city': 'Москва', 'street': 'Краснопролетарск...</td>\n",
       "      <td>...</td>\n",
       "      <td>билайн</td>\n",
       "      <td>NaN</td>\n",
       "      <td>NaN</td>\n",
       "      <td>NaN</td>\n",
       "      <td>Москва</td>\n",
       "      <td>None</td>\n",
       "      <td>NaN</td>\n",
       "      <td>NaN</td>\n",
       "      <td>Краснопролетарская улица</td>\n",
       "      <td>51</td>\n",
       "    </tr>\n",
       "    <tr>\n",
       "      <td>2234</td>\n",
       "      <td>44141540</td>\n",
       "      <td>False</td>\n",
       "      <td>Архитектор BI ( аналитических и прогнозных реш...</td>\n",
       "      <td>None</td>\n",
       "      <td>False</td>\n",
       "      <td>False</td>\n",
       "      <td>{'id': '1', 'name': 'Москва', 'url': 'https://...</td>\n",
       "      <td>None</td>\n",
       "      <td>{'id': 'open', 'name': 'Открытая'}</td>\n",
       "      <td>{'city': 'Москва', 'street': 'Пресненская набе...</td>\n",
       "      <td>...</td>\n",
       "      <td>УРАЛХИМ</td>\n",
       "      <td>NaN</td>\n",
       "      <td>NaN</td>\n",
       "      <td>NaN</td>\n",
       "      <td>Москва</td>\n",
       "      <td>{'station_name': 'Выставочная', 'line_name': '...</td>\n",
       "      <td>Выставочная</td>\n",
       "      <td>Филевская</td>\n",
       "      <td>Пресненская набережная</td>\n",
       "      <td>1</td>\n",
       "    </tr>\n",
       "  </tbody>\n",
       "</table>\n",
       "<p>3 rows × 40 columns</p>\n",
       "</div>"
      ],
      "text/plain": [
       "            id  premium                                               name  \\\n",
       "2230  52288615    False  Главный аналитик в департамент по работе с про...   \n",
       "2233  52160191    False  Менеджер по стратегии и развитию регионов / ан...   \n",
       "2234  44141540    False  Архитектор BI ( аналитических и прогнозных реш...   \n",
       "\n",
       "                                             department  has_test  \\\n",
       "2230  {'id': '2492-2492-14883', 'name': 'Московский ...     False   \n",
       "2233                                               None     False   \n",
       "2234                                               None     False   \n",
       "\n",
       "      response_letter_required  \\\n",
       "2230                     False   \n",
       "2233                     False   \n",
       "2234                     False   \n",
       "\n",
       "                                                   area salary  \\\n",
       "2230  {'id': '1', 'name': 'Москва', 'url': 'https://...   None   \n",
       "2233  {'id': '1', 'name': 'Москва', 'url': 'https://...   None   \n",
       "2234  {'id': '1', 'name': 'Москва', 'url': 'https://...   None   \n",
       "\n",
       "                                    type  \\\n",
       "2230  {'id': 'open', 'name': 'Открытая'}   \n",
       "2233  {'id': 'open', 'name': 'Открытая'}   \n",
       "2234  {'id': 'open', 'name': 'Открытая'}   \n",
       "\n",
       "                                                address  ...  \\\n",
       "2230  {'city': 'Москва', 'street': 'Очаковское шоссе...  ...   \n",
       "2233  {'city': 'Москва', 'street': 'Краснопролетарск...  ...   \n",
       "2234  {'city': 'Москва', 'street': 'Пресненская набе...  ...   \n",
       "\n",
       "                  employer_name                           department_name  \\\n",
       "2230  Московский Кредитный Банк  Московский Кредитный Банк. Профессионалы   \n",
       "2233                     билайн                                       NaN   \n",
       "2234                    УРАЛХИМ                                       NaN   \n",
       "\n",
       "     salary_from salary_to    city  \\\n",
       "2230         NaN       NaN  Москва   \n",
       "2233         NaN       NaN  Москва   \n",
       "2234         NaN       NaN  Москва   \n",
       "\n",
       "                                             metro_name station_name  \\\n",
       "2230  {'station_name': 'Кунцевская', 'line_name': 'А...   Кунцевская   \n",
       "2233                                               None          NaN   \n",
       "2234  {'station_name': 'Выставочная', 'line_name': '...  Выставочная   \n",
       "\n",
       "                line_name            address_street responses  \n",
       "2230  Арбатско-Покровская          Очаковское шоссе         6  \n",
       "2233                  NaN  Краснопролетарская улица        51  \n",
       "2234            Филевская    Пресненская набережная         1  \n",
       "\n",
       "[3 rows x 40 columns]"
      ]
     },
     "execution_count": 20,
     "metadata": {},
     "output_type": "execute_result"
    }
   ],
   "source": [
    "vacancy_df_to3years.tail(3)"
   ]
  },
  {
   "cell_type": "markdown",
   "metadata": {},
   "source": [
    "### Про дубликаты"
   ]
  },
  {
   "cell_type": "code",
   "execution_count": 21,
   "metadata": {
    "scrolled": true
   },
   "outputs": [
    {
     "data": {
      "text/html": [
       "<div>\n",
       "<style scoped>\n",
       "    .dataframe tbody tr th:only-of-type {\n",
       "        vertical-align: middle;\n",
       "    }\n",
       "\n",
       "    .dataframe tbody tr th {\n",
       "        vertical-align: top;\n",
       "    }\n",
       "\n",
       "    .dataframe thead th {\n",
       "        text-align: right;\n",
       "    }\n",
       "</style>\n",
       "<table border=\"1\" class=\"dataframe\">\n",
       "  <thead>\n",
       "    <tr style=\"text-align: right;\">\n",
       "      <th></th>\n",
       "      <th>employer_name</th>\n",
       "      <th>name</th>\n",
       "      <th>city</th>\n",
       "      <th>experience</th>\n",
       "    </tr>\n",
       "  </thead>\n",
       "  <tbody>\n",
       "    <tr>\n",
       "      <td>1344</td>\n",
       "      <td>ИЦ АЙ-ТЕКО</td>\n",
       "      <td>Data Scientist</td>\n",
       "      <td>Москва</td>\n",
       "      <td>between1And3</td>\n",
       "    </tr>\n",
       "    <tr>\n",
       "      <td>1346</td>\n",
       "      <td>ИЦ АЙ-ТЕКО</td>\n",
       "      <td>Data Scientist</td>\n",
       "      <td>Москва</td>\n",
       "      <td>between1And3</td>\n",
       "    </tr>\n",
       "    <tr>\n",
       "      <td>5</td>\n",
       "      <td>Спортмастер</td>\n",
       "      <td>Аналитик</td>\n",
       "      <td>Москва</td>\n",
       "      <td>noExperience</td>\n",
       "    </tr>\n",
       "    <tr>\n",
       "      <td>1440</td>\n",
       "      <td>Сбербанк</td>\n",
       "      <td>Аналитик</td>\n",
       "      <td>Москва</td>\n",
       "      <td>between1And3</td>\n",
       "    </tr>\n",
       "    <tr>\n",
       "      <td>1436</td>\n",
       "      <td>Ростелеком</td>\n",
       "      <td>Аналитик</td>\n",
       "      <td>Москва</td>\n",
       "      <td>between1And3</td>\n",
       "    </tr>\n",
       "    <tr>\n",
       "      <td>...</td>\n",
       "      <td>...</td>\n",
       "      <td>...</td>\n",
       "      <td>...</td>\n",
       "      <td>...</td>\n",
       "    </tr>\n",
       "    <tr>\n",
       "      <td>1248</td>\n",
       "      <td>Займ-Экспресс</td>\n",
       "      <td>Скоринг-аналитик / Data scientist / Аналитик (...</td>\n",
       "      <td>Москва</td>\n",
       "      <td>between1And3</td>\n",
       "    </tr>\n",
       "    <tr>\n",
       "      <td>2202</td>\n",
       "      <td>Тинькофф</td>\n",
       "      <td>Старший аналитик на развитие моделей принятия ...</td>\n",
       "      <td>Москва</td>\n",
       "      <td>between1And3</td>\n",
       "    </tr>\n",
       "    <tr>\n",
       "      <td>2203</td>\n",
       "      <td>Тинькофф</td>\n",
       "      <td>Старший аналитик на развитие моделей принятия ...</td>\n",
       "      <td>Москва</td>\n",
       "      <td>between1And3</td>\n",
       "    </tr>\n",
       "    <tr>\n",
       "      <td>747</td>\n",
       "      <td>Иннотех, Группа компаний</td>\n",
       "      <td>Финансовый аналитик (Источники данных)</td>\n",
       "      <td>Москва</td>\n",
       "      <td>between1And3</td>\n",
       "    </tr>\n",
       "    <tr>\n",
       "      <td>604</td>\n",
       "      <td>Иннотех, Группа компаний</td>\n",
       "      <td>Финансовый аналитик (Источники данных)</td>\n",
       "      <td>Москва</td>\n",
       "      <td>between1And3</td>\n",
       "    </tr>\n",
       "  </tbody>\n",
       "</table>\n",
       "<p>72 rows × 4 columns</p>\n",
       "</div>"
      ],
      "text/plain": [
       "                 employer_name  \\\n",
       "1344                ИЦ АЙ-ТЕКО   \n",
       "1346                ИЦ АЙ-ТЕКО   \n",
       "5                  Спортмастер   \n",
       "1440                  Сбербанк   \n",
       "1436                Ростелеком   \n",
       "...                        ...   \n",
       "1248             Займ-Экспресс   \n",
       "2202                  Тинькофф   \n",
       "2203                  Тинькофф   \n",
       "747   Иннотех, Группа компаний   \n",
       "604   Иннотех, Группа компаний   \n",
       "\n",
       "                                                   name    city    experience  \n",
       "1344                                     Data Scientist  Москва  between1And3  \n",
       "1346                                     Data Scientist  Москва  between1And3  \n",
       "5                                              Аналитик  Москва  noExperience  \n",
       "1440                                           Аналитик  Москва  between1And3  \n",
       "1436                                           Аналитик  Москва  between1And3  \n",
       "...                                                 ...     ...           ...  \n",
       "1248  Скоринг-аналитик / Data scientist / Аналитик (...  Москва  between1And3  \n",
       "2202  Старший аналитик на развитие моделей принятия ...  Москва  between1And3  \n",
       "2203  Старший аналитик на развитие моделей принятия ...  Москва  between1And3  \n",
       "747              Финансовый аналитик (Источники данных)  Москва  between1And3  \n",
       "604              Финансовый аналитик (Источники данных)  Москва  between1And3  \n",
       "\n",
       "[72 rows x 4 columns]"
      ]
     },
     "execution_count": 21,
     "metadata": {},
     "output_type": "execute_result"
    }
   ],
   "source": [
    "# Проверка выборки на наличие дубликатов (около 90)\n",
    "\n",
    "vacancy_df_to3years[vacancy_df_to3years.duplicated(['employer_name', 'name', 'city'], keep=False)][\n",
    "['employer_name', 'name', 'city', 'experience']].sort_values(by=['name'])"
   ]
  },
  {
   "cell_type": "code",
   "execution_count": 22,
   "metadata": {},
   "outputs": [
    {
     "data": {
      "text/html": [
       "<div>\n",
       "<style scoped>\n",
       "    .dataframe tbody tr th:only-of-type {\n",
       "        vertical-align: middle;\n",
       "    }\n",
       "\n",
       "    .dataframe tbody tr th {\n",
       "        vertical-align: top;\n",
       "    }\n",
       "\n",
       "    .dataframe thead th {\n",
       "        text-align: right;\n",
       "    }\n",
       "</style>\n",
       "<table border=\"1\" class=\"dataframe\">\n",
       "  <thead>\n",
       "    <tr style=\"text-align: right;\">\n",
       "      <th></th>\n",
       "      <th>id</th>\n",
       "      <th>premium</th>\n",
       "      <th>name</th>\n",
       "      <th>department</th>\n",
       "      <th>has_test</th>\n",
       "      <th>response_letter_required</th>\n",
       "      <th>area</th>\n",
       "      <th>salary</th>\n",
       "      <th>type</th>\n",
       "      <th>address</th>\n",
       "      <th>...</th>\n",
       "      <th>employer_name</th>\n",
       "      <th>department_name</th>\n",
       "      <th>salary_from</th>\n",
       "      <th>salary_to</th>\n",
       "      <th>city</th>\n",
       "      <th>metro_name</th>\n",
       "      <th>station_name</th>\n",
       "      <th>line_name</th>\n",
       "      <th>address_street</th>\n",
       "      <th>responses</th>\n",
       "    </tr>\n",
       "  </thead>\n",
       "  <tbody>\n",
       "    <tr>\n",
       "      <td>1344</td>\n",
       "      <td>52218639</td>\n",
       "      <td>False</td>\n",
       "      <td>Data Scientist</td>\n",
       "      <td>None</td>\n",
       "      <td>False</td>\n",
       "      <td>False</td>\n",
       "      <td>{'id': '1', 'name': 'Москва', 'url': 'https://...</td>\n",
       "      <td>None</td>\n",
       "      <td>{'id': 'open', 'name': 'Открытая'}</td>\n",
       "      <td>{'city': 'Москва', 'street': 'Кутузовский прос...</td>\n",
       "      <td>...</td>\n",
       "      <td>ИЦ АЙ-ТЕКО</td>\n",
       "      <td>NaN</td>\n",
       "      <td>NaN</td>\n",
       "      <td>NaN</td>\n",
       "      <td>Москва</td>\n",
       "      <td>{'station_name': 'Деловой центр', 'line_name':...</td>\n",
       "      <td>Деловой центр</td>\n",
       "      <td>МЦК</td>\n",
       "      <td>Кутузовский проспект</td>\n",
       "      <td>20</td>\n",
       "    </tr>\n",
       "    <tr>\n",
       "      <td>1346</td>\n",
       "      <td>52219113</td>\n",
       "      <td>False</td>\n",
       "      <td>Data Scientist</td>\n",
       "      <td>None</td>\n",
       "      <td>False</td>\n",
       "      <td>False</td>\n",
       "      <td>{'id': '1', 'name': 'Москва', 'url': 'https://...</td>\n",
       "      <td>None</td>\n",
       "      <td>{'id': 'open', 'name': 'Открытая'}</td>\n",
       "      <td>{'city': 'Москва', 'street': 'Кутузовский прос...</td>\n",
       "      <td>...</td>\n",
       "      <td>ИЦ АЙ-ТЕКО</td>\n",
       "      <td>NaN</td>\n",
       "      <td>NaN</td>\n",
       "      <td>NaN</td>\n",
       "      <td>Москва</td>\n",
       "      <td>{'station_name': 'Деловой центр', 'line_name':...</td>\n",
       "      <td>Деловой центр</td>\n",
       "      <td>МЦК</td>\n",
       "      <td>Кутузовский проспект</td>\n",
       "      <td>37</td>\n",
       "    </tr>\n",
       "  </tbody>\n",
       "</table>\n",
       "<p>2 rows × 40 columns</p>\n",
       "</div>"
      ],
      "text/plain": [
       "            id  premium            name department  has_test  \\\n",
       "1344  52218639    False  Data Scientist       None     False   \n",
       "1346  52219113    False  Data Scientist       None     False   \n",
       "\n",
       "      response_letter_required  \\\n",
       "1344                     False   \n",
       "1346                     False   \n",
       "\n",
       "                                                   area salary  \\\n",
       "1344  {'id': '1', 'name': 'Москва', 'url': 'https://...   None   \n",
       "1346  {'id': '1', 'name': 'Москва', 'url': 'https://...   None   \n",
       "\n",
       "                                    type  \\\n",
       "1344  {'id': 'open', 'name': 'Открытая'}   \n",
       "1346  {'id': 'open', 'name': 'Открытая'}   \n",
       "\n",
       "                                                address  ... employer_name  \\\n",
       "1344  {'city': 'Москва', 'street': 'Кутузовский прос...  ...    ИЦ АЙ-ТЕКО   \n",
       "1346  {'city': 'Москва', 'street': 'Кутузовский прос...  ...    ИЦ АЙ-ТЕКО   \n",
       "\n",
       "     department_name salary_from salary_to    city  \\\n",
       "1344             NaN         NaN       NaN  Москва   \n",
       "1346             NaN         NaN       NaN  Москва   \n",
       "\n",
       "                                             metro_name   station_name  \\\n",
       "1344  {'station_name': 'Деловой центр', 'line_name':...  Деловой центр   \n",
       "1346  {'station_name': 'Деловой центр', 'line_name':...  Деловой центр   \n",
       "\n",
       "     line_name        address_street responses  \n",
       "1344       МЦК  Кутузовский проспект        20  \n",
       "1346       МЦК  Кутузовский проспект        37  \n",
       "\n",
       "[2 rows x 40 columns]"
      ]
     },
     "execution_count": 22,
     "metadata": {},
     "output_type": "execute_result"
    }
   ],
   "source": [
    "# Пример дубликатов\n",
    "\n",
    "vacancy_df_to3years.loc[[1344, 1346]]\n",
    "\n",
    "# Необходимо постоянно обновлять индексы!!!"
   ]
  },
  {
   "cell_type": "markdown",
   "metadata": {},
   "source": [
    "### Посмотрим компании, предлагающие вакансии, а также требуемый опыт работы"
   ]
  },
  {
   "cell_type": "code",
   "execution_count": 23,
   "metadata": {},
   "outputs": [
    {
     "data": {
      "text/plain": [
       "Text(0.5, 1.0, 'Вакансии по опыту работы')"
      ]
     },
     "execution_count": 23,
     "metadata": {},
     "output_type": "execute_result"
    },
    {
     "data": {
      "image/png": "[encoded data removed]",
      "text/plain": [
       "<Figure size 288x144 with 1 Axes>"
      ]
     },
     "metadata": {
      "needs_background": "light"
     },
     "output_type": "display_data"
    }
   ],
   "source": [
    "# Гистограмма вакансий по опыту работу (около 1200)\n",
    "\n",
    "experience = (vacancy_df_to3years['experience']).value_counts().head()\n",
    "\n",
    "plt.figure(figsize=(4,2))\n",
    "sns.barplot(x=experience.index,y=experience)\n",
    "plt.xlabel('Опыт работы')\n",
    "plt.ylabel('Количество вакансий', fontsize=11)\n",
    "plt.title('Вакансии по опыту работы', fontsize=16)"
   ]
  },
  {
   "cell_type": "code",
   "execution_count": 24,
   "metadata": {},
   "outputs": [
    {
     "data": {
      "text/plain": [
       "Text(0.5, 1.0, 'Топ-20 наименований должностей в вакансиях соответстующим обозначенным требованиям поиска')"
      ]
     },
     "execution_count": 24,
     "metadata": {},
     "output_type": "execute_result"
    },
    {
     "data": {
      "image/png": "[encoded data removed]",
      "text/plain": [
       "<Figure size 1080x360 with 1 Axes>"
      ]
     },
     "metadata": {
      "needs_background": "light"
     },
     "output_type": "display_data"
    }
   ],
   "source": [
    "# Гистограмма топ-20 наименований должностей\n",
    "\n",
    "name = (vacancy_df_to3years['name']).value_counts().head(20)\n",
    "\n",
    "plt.figure(figsize=(15,5))\n",
    "sns.barplot(y=name.index,x=name)\n",
    "plt.xlabel('Количество вакансий')\n",
    "plt.ylabel('Название должности', fontsize=11)\n",
    "plt.title('Топ-20 наименований должностей в вакансиях соответстующим обозначенным требованиям поиска', fontsize=16)"
   ]
  },
  {
   "cell_type": "code",
   "execution_count": 25,
   "metadata": {},
   "outputs": [
    {
     "data": {
      "text/plain": [
       "Text(0.5, 1.0, 'Топ-20 компаний с вакансиями соответстующими обозначенным требованиям поиска')"
      ]
     },
     "execution_count": 25,
     "metadata": {},
     "output_type": "execute_result"
    },
    {
     "data": {
      "image/png": "[encoded data removed]",
      "text/plain": [
       "<Figure size 1080x360 with 1 Axes>"
      ]
     },
     "metadata": {
      "needs_background": "light"
     },
     "output_type": "display_data"
    }
   ],
   "source": [
    "# Гистограмма топ-20 компаний\n",
    "\n",
    "vacancy = (vacancy_df_to3years['employer_name']).value_counts().head(20)\n",
    "\n",
    "plt.figure(figsize=(15,5))\n",
    "sns.barplot(y=vacancy.index,x=vacancy)\n",
    "plt.xlabel('Количество вакансий')\n",
    "plt.ylabel('Название компании', fontsize=11)\n",
    "plt.title('Топ-20 компаний с вакансиями соответстующими обозначенным требованиям поиска', fontsize=16)"
   ]
  },
  {
   "cell_type": "code",
   "execution_count": 26,
   "metadata": {},
   "outputs": [
    {
     "data": {
      "text/plain": [
       "Text(0.5, 1.0, 'Топ-20 департаментов с вакансиями соответстующими обозначенным требованиям поиска')"
      ]
     },
     "execution_count": 26,
     "metadata": {},
     "output_type": "execute_result"
    },
    {
     "data": {
      "image/png": "[encoded data removed]",
      "text/plain": [
       "<Figure size 1080x360 with 1 Axes>"
      ]
     },
     "metadata": {
      "needs_background": "light"
     },
     "output_type": "display_data"
    }
   ],
   "source": [
    "# Гистограмма топ-20 подразделений\n",
    "\n",
    "department = (vacancy_df_to3years['department_name']).value_counts().head(20)\n",
    "\n",
    "plt.figure(figsize=(15,5))\n",
    "sns.barplot(y=department.index,x=department)\n",
    "plt.xlabel('Количество вакансий')\n",
    "plt.ylabel('Название департамента', fontsize=11)\n",
    "plt.title('Топ-20 департаментов с вакансиями соответстующими обозначенным требованиям поиска', fontsize=16)"
   ]
  },
  {
   "cell_type": "code",
   "execution_count": 27,
   "metadata": {},
   "outputs": [
    {
     "data": {
      "text/plain": [
       "Text(0.5, 1.0, 'Топ-20 названий метро с вакансиями соответстующими обозначенным требованиям поиска')"
      ]
     },
     "execution_count": 27,
     "metadata": {},
     "output_type": "execute_result"
    },
    {
     "data": {
      "image/png": "[encoded data removed]",
      "text/plain": [
       "<Figure size 1080x360 with 1 Axes>"
      ]
     },
     "metadata": {
      "needs_background": "light"
     },
     "output_type": "display_data"
    }
   ],
   "source": [
    "# Гистограмма топ-20 названий метро  \n",
    "metro = (vacancy_df_to3years['station_name']).value_counts().head(20)\n",
    "\n",
    "plt.figure(figsize=(15,5))\n",
    "sns.barplot(y=metro.index,x=metro)\n",
    "plt.xlabel('Количество вакансий')\n",
    "plt.ylabel('Название метро', fontsize=11)\n",
    "plt.title('Топ-20 названий метро с вакансиями соответстующими обозначенным требованиям поиска', fontsize=16)\n",
    "\n",
    "\n",
    "# здесь надо поменять `metro_name` на `station_name` (выше проверка) ---> metro = (vacancy_df_to3years['metro_name']).value_counts().head(20)"
   ]
  },
  {
   "cell_type": "code",
   "execution_count": 28,
   "metadata": {},
   "outputs": [
    {
     "data": {
      "text/plain": [
       "Text(0.5, 1.0, 'Топ-20 названий улиц с вакансиями соответстующими обозначенным требованиям поиска')"
      ]
     },
     "execution_count": 28,
     "metadata": {},
     "output_type": "execute_result"
    },
    {
     "data": {
      "image/png": "[encoded data removed]",
      "text/plain": [
       "<Figure size 1080x360 with 1 Axes>"
      ]
     },
     "metadata": {
      "needs_background": "light"
     },
     "output_type": "display_data"
    }
   ],
   "source": [
    "# Гистограмма топ-20 названий улиц\n",
    "\n",
    "street = (vacancy_df_to3years['address_street']).value_counts().head(20)\n",
    "\n",
    "plt.figure(figsize=(15,5))\n",
    "sns.barplot(y=street.index,x=street)\n",
    "plt.xlabel('Количество вакансий')\n",
    "plt.ylabel('Название улицы', fontsize=11)\n",
    "plt.title('Топ-20 названий улиц с вакансиями соответстующими обозначенным требованиям поиска', fontsize=16)"
   ]
  },
  {
   "cell_type": "markdown",
   "metadata": {},
   "source": [
    "### Что с зарплатой?"
   ]
  },
  {
   "cell_type": "code",
   "execution_count": 29,
   "metadata": {
    "scrolled": true
   },
   "outputs": [
    {
     "data": {
      "text/plain": [
       "True     0.870748\n",
       "False    0.129252\n",
       "Name: salary_from, dtype: float64"
      ]
     },
     "execution_count": 29,
     "metadata": {},
     "output_type": "execute_result"
    }
   ],
   "source": [
    "# 87% вакансий без указания зарплаты\n",
    "\n",
    "vacancy_df_to3years['salary_from'].isna().value_counts(normalize=True)"
   ]
  },
  {
   "cell_type": "code",
   "execution_count": 30,
   "metadata": {
    "scrolled": true
   },
   "outputs": [],
   "source": [
    "# Минимальная/ максимальная/ средняя зарплаты по компании/ наименованию должности\n",
    "\n",
    "salary_max=pd.pivot_table(vacancy_df_to3years,\n",
    "               index=['employer_name', 'name'],\n",
    "               values=['salary_to'], aggfunc = 'max').sort_values(by='salary_to', ascending=False).reset_index().head(10)"
   ]
  },
  {
   "cell_type": "code",
   "execution_count": 31,
   "metadata": {
    "scrolled": true
   },
   "outputs": [
    {
     "data": {
      "text/html": [
       "<div>\n",
       "<style scoped>\n",
       "    .dataframe tbody tr th:only-of-type {\n",
       "        vertical-align: middle;\n",
       "    }\n",
       "\n",
       "    .dataframe tbody tr th {\n",
       "        vertical-align: top;\n",
       "    }\n",
       "\n",
       "    .dataframe thead th {\n",
       "        text-align: right;\n",
       "    }\n",
       "</style>\n",
       "<table border=\"1\" class=\"dataframe\">\n",
       "  <thead>\n",
       "    <tr style=\"text-align: right;\">\n",
       "      <th></th>\n",
       "      <th>employer_name</th>\n",
       "      <th>name</th>\n",
       "      <th>salary_to</th>\n",
       "    </tr>\n",
       "  </thead>\n",
       "  <tbody>\n",
       "    <tr>\n",
       "      <td>0</td>\n",
       "      <td>HR Prime</td>\n",
       "      <td>System analyst</td>\n",
       "      <td>440000.0</td>\n",
       "    </tr>\n",
       "    <tr>\n",
       "      <td>1</td>\n",
       "      <td>Guavapay Limited</td>\n",
       "      <td>Системный/Бизнес аналитик</td>\n",
       "      <td>400000.0</td>\n",
       "    </tr>\n",
       "    <tr>\n",
       "      <td>2</td>\n",
       "      <td>АЙТИ.СПЕЙС</td>\n",
       "      <td>Системный аналитик (интеграция)</td>\n",
       "      <td>400000.0</td>\n",
       "    </tr>\n",
       "    <tr>\n",
       "      <td>3</td>\n",
       "      <td>HR Prime</td>\n",
       "      <td>Системный Аналитик / Ведущий системный аналитик</td>\n",
       "      <td>350000.0</td>\n",
       "    </tr>\n",
       "    <tr>\n",
       "      <td>4</td>\n",
       "      <td>HR Prime</td>\n",
       "      <td>Системный аналитик</td>\n",
       "      <td>350000.0</td>\n",
       "    </tr>\n",
       "    <tr>\n",
       "      <td>5</td>\n",
       "      <td>Леруа Мерлен</td>\n",
       "      <td>Data Scientist (Middle)</td>\n",
       "      <td>330000.0</td>\n",
       "    </tr>\n",
       "    <tr>\n",
       "      <td>6</td>\n",
       "      <td>HR Prime</td>\n",
       "      <td>Системный Аналитик/System Analyst</td>\n",
       "      <td>320000.0</td>\n",
       "    </tr>\n",
       "    <tr>\n",
       "      <td>7</td>\n",
       "      <td>Галлямов Раиль Нафисович</td>\n",
       "      <td>Системный аналитик</td>\n",
       "      <td>300000.0</td>\n",
       "    </tr>\n",
       "    <tr>\n",
       "      <td>8</td>\n",
       "      <td>КАЗАНЬЭКСПРЕСС</td>\n",
       "      <td>Продуктовый аналитик</td>\n",
       "      <td>300000.0</td>\n",
       "    </tr>\n",
       "    <tr>\n",
       "      <td>9</td>\n",
       "      <td>РТ КИС</td>\n",
       "      <td>Системный/бизнес аналитик (middle/senior)</td>\n",
       "      <td>300000.0</td>\n",
       "    </tr>\n",
       "  </tbody>\n",
       "</table>\n",
       "</div>"
      ],
      "text/plain": [
       "              employer_name                                             name  \\\n",
       "0                  HR Prime                                   System analyst   \n",
       "1          Guavapay Limited                        Системный/Бизнес аналитик   \n",
       "2                АЙТИ.СПЕЙС                  Системный аналитик (интеграция)   \n",
       "3                  HR Prime  Системный Аналитик / Ведущий системный аналитик   \n",
       "4                  HR Prime                               Системный аналитик   \n",
       "5              Леруа Мерлен                          Data Scientist (Middle)   \n",
       "6                  HR Prime                Системный Аналитик/System Analyst   \n",
       "7  Галлямов Раиль Нафисович                               Системный аналитик   \n",
       "8            КАЗАНЬЭКСПРЕСС                             Продуктовый аналитик   \n",
       "9                    РТ КИС        Системный/бизнес аналитик (middle/senior)   \n",
       "\n",
       "   salary_to  \n",
       "0   440000.0  \n",
       "1   400000.0  \n",
       "2   400000.0  \n",
       "3   350000.0  \n",
       "4   350000.0  \n",
       "5   330000.0  \n",
       "6   320000.0  \n",
       "7   300000.0  \n",
       "8   300000.0  \n",
       "9   300000.0  "
      ]
     },
     "execution_count": 31,
     "metadata": {},
     "output_type": "execute_result"
    }
   ],
   "source": [
    "salary_max"
   ]
  },
  {
   "cell_type": "code",
   "execution_count": 32,
   "metadata": {
    "scrolled": true
   },
   "outputs": [],
   "source": [
    "# Минимальная\n",
    "\n",
    "salary_min=pd.pivot_table(vacancy_df_to3years,\n",
    "               index=['employer_name', 'name'],\n",
    "               values=['salary_from'], aggfunc = 'min').sort_values(by='salary_from', ascending=False).reset_index().tail(10)"
   ]
  },
  {
   "cell_type": "code",
   "execution_count": 33,
   "metadata": {
    "scrolled": true
   },
   "outputs": [
    {
     "data": {
      "text/html": [
       "<div>\n",
       "<style scoped>\n",
       "    .dataframe tbody tr th:only-of-type {\n",
       "        vertical-align: middle;\n",
       "    }\n",
       "\n",
       "    .dataframe tbody tr th {\n",
       "        vertical-align: top;\n",
       "    }\n",
       "\n",
       "    .dataframe thead th {\n",
       "        text-align: right;\n",
       "    }\n",
       "</style>\n",
       "<table border=\"1\" class=\"dataframe\">\n",
       "  <thead>\n",
       "    <tr style=\"text-align: right;\">\n",
       "      <th></th>\n",
       "      <th>employer_name</th>\n",
       "      <th>name</th>\n",
       "      <th>salary_from</th>\n",
       "    </tr>\n",
       "  </thead>\n",
       "  <tbody>\n",
       "    <tr>\n",
       "      <td>142</td>\n",
       "      <td>ПроКонтекст</td>\n",
       "      <td>Помощник аналитика</td>\n",
       "      <td>50000.0</td>\n",
       "    </tr>\n",
       "    <tr>\n",
       "      <td>143</td>\n",
       "      <td>Леруа Мерлен</td>\n",
       "      <td>Практикант продуктовый аналитик</td>\n",
       "      <td>45000.0</td>\n",
       "    </tr>\n",
       "    <tr>\n",
       "      <td>144</td>\n",
       "      <td>Леруа Мерлен</td>\n",
       "      <td>Практикант аналитик ВЭД</td>\n",
       "      <td>45000.0</td>\n",
       "    </tr>\n",
       "    <tr>\n",
       "      <td>145</td>\n",
       "      <td>BAT Russia</td>\n",
       "      <td>Стажер-аналитик в финансовый отдел</td>\n",
       "      <td>41320.0</td>\n",
       "    </tr>\n",
       "    <tr>\n",
       "      <td>146</td>\n",
       "      <td>OMNINET</td>\n",
       "      <td>Младший консультант / Аналитик (автоматизация ...</td>\n",
       "      <td>40000.0</td>\n",
       "    </tr>\n",
       "    <tr>\n",
       "      <td>147</td>\n",
       "      <td>Платформа ОФД</td>\n",
       "      <td>Младший аналитик (Brand Search)</td>\n",
       "      <td>40000.0</td>\n",
       "    </tr>\n",
       "    <tr>\n",
       "      <td>148</td>\n",
       "      <td>REMONT.IO</td>\n",
       "      <td>Junior web-analyst/Младший веб-аналитик</td>\n",
       "      <td>40000.0</td>\n",
       "    </tr>\n",
       "    <tr>\n",
       "      <td>149</td>\n",
       "      <td>DAIMLER KAMAZ RUS</td>\n",
       "      <td>Аналитик-стажер</td>\n",
       "      <td>30000.0</td>\n",
       "    </tr>\n",
       "    <tr>\n",
       "      <td>150</td>\n",
       "      <td>EnglishDom</td>\n",
       "      <td>Marketing analyst</td>\n",
       "      <td>2000.0</td>\n",
       "    </tr>\n",
       "    <tr>\n",
       "      <td>151</td>\n",
       "      <td>App in the Air</td>\n",
       "      <td>Middle Data Scientist</td>\n",
       "      <td>1500.0</td>\n",
       "    </tr>\n",
       "  </tbody>\n",
       "</table>\n",
       "</div>"
      ],
      "text/plain": [
       "         employer_name                                               name  \\\n",
       "142        ПроКонтекст                                 Помощник аналитика   \n",
       "143       Леруа Мерлен                    Практикант продуктовый аналитик   \n",
       "144       Леруа Мерлен                            Практикант аналитик ВЭД   \n",
       "145         BAT Russia                 Стажер-аналитик в финансовый отдел   \n",
       "146            OMNINET  Младший консультант / Аналитик (автоматизация ...   \n",
       "147      Платформа ОФД                    Младший аналитик (Brand Search)   \n",
       "148          REMONT.IO            Junior web-analyst/Младший веб-аналитик   \n",
       "149  DAIMLER KAMAZ RUS                                    Аналитик-стажер   \n",
       "150         EnglishDom                                  Marketing analyst   \n",
       "151     App in the Air                              Middle Data Scientist   \n",
       "\n",
       "     salary_from  \n",
       "142      50000.0  \n",
       "143      45000.0  \n",
       "144      45000.0  \n",
       "145      41320.0  \n",
       "146      40000.0  \n",
       "147      40000.0  \n",
       "148      40000.0  \n",
       "149      30000.0  \n",
       "150       2000.0  \n",
       "151       1500.0  "
      ]
     },
     "execution_count": 33,
     "metadata": {},
     "output_type": "execute_result"
    }
   ],
   "source": [
    "salary_min"
   ]
  },
  {
   "cell_type": "code",
   "execution_count": 34,
   "metadata": {},
   "outputs": [
    {
     "data": {
      "text/plain": [
       "(array([ 0,  1,  2,  3,  4,  5,  6,  7,  8,  9, 10, 11, 12, 13, 14, 15, 16,\n",
       "        17, 18, 19, 20, 21, 22, 23, 24, 25, 26, 27, 28, 29]),\n",
       " <a list of 30 Text xticklabel objects>)"
      ]
     },
     "execution_count": 34,
     "metadata": {},
     "output_type": "execute_result"
    },
    {
     "data": {
      "image/png": "[encoded data removed]",
      "text/plain": [
       "<Figure size 1224x360 with 1 Axes>"
      ]
     },
     "metadata": {
      "needs_background": "light"
     },
     "output_type": "display_data"
    }
   ],
   "source": [
    "# Топ-30 компаний_Средняя зарплата\n",
    "\n",
    "salary_mean_emp = vacancy_df_to3years.pivot_table(index='employer_name', values='salary_from', aggfunc='mean').sort_values(by='salary_from', ascending=False).head(30)\n",
    "\n",
    "plt.figure(figsize=(17,5))\n",
    "sns.barplot(x=salary_mean_emp.index,y=salary_mean_emp['salary_from'])\n",
    "plt.title('Топ-30 компаний по средней зарплате')\n",
    "plt.xlabel(\"Название компании\")\n",
    "plt.ylabel(\"Средняя зарплата\")\n",
    "plt.xticks(rotation=90)"
   ]
  },
  {
   "cell_type": "code",
   "execution_count": 35,
   "metadata": {},
   "outputs": [
    {
     "data": {
      "text/plain": [
       "(array([ 0,  1,  2,  3,  4,  5,  6,  7,  8,  9, 10, 11, 12, 13, 14, 15, 16,\n",
       "        17, 18, 19, 20, 21, 22, 23, 24, 25, 26, 27, 28, 29]),\n",
       " <a list of 30 Text xticklabel objects>)"
      ]
     },
     "execution_count": 35,
     "metadata": {},
     "output_type": "execute_result"
    },
    {
     "data": {
      "image/png": "[encoded data removed]",
      "text/plain": [
       "<Figure size 1224x360 with 1 Axes>"
      ]
     },
     "metadata": {
      "needs_background": "light"
     },
     "output_type": "display_data"
    }
   ],
   "source": [
    "# Топ-30 должностей_Средняя зарплата\n",
    "\n",
    "salary_mean_n = vacancy_df_to3years.pivot_table(index='name', values='salary_from', aggfunc='mean').sort_values(by='salary_from', ascending=False).head(30)\n",
    "\n",
    "plt.figure(figsize=(17,5))\n",
    "sns.barplot(x=salary_mean_n.index,y=salary_mean_n['salary_from'])\n",
    "plt.title('Топ-30 должностей по средней зарплате')\n",
    "plt.xlabel(\"Название должности\")\n",
    "plt.ylabel(\"Средняя зарплата\")\n",
    "plt.xticks(rotation=90)"
   ]
  },
  {
   "cell_type": "code",
   "execution_count": 36,
   "metadata": {},
   "outputs": [
    {
     "data": {
      "text/html": [
       "<div>\n",
       "<style scoped>\n",
       "    .dataframe tbody tr th:only-of-type {\n",
       "        vertical-align: middle;\n",
       "    }\n",
       "\n",
       "    .dataframe tbody tr th {\n",
       "        vertical-align: top;\n",
       "    }\n",
       "\n",
       "    .dataframe thead th {\n",
       "        text-align: right;\n",
       "    }\n",
       "</style>\n",
       "<table border=\"1\" class=\"dataframe\">\n",
       "  <thead>\n",
       "    <tr style=\"text-align: right;\">\n",
       "      <th></th>\n",
       "      <th>id</th>\n",
       "      <th>premium</th>\n",
       "      <th>name</th>\n",
       "      <th>department</th>\n",
       "      <th>has_test</th>\n",
       "      <th>response_letter_required</th>\n",
       "      <th>area</th>\n",
       "      <th>salary</th>\n",
       "      <th>type</th>\n",
       "      <th>address</th>\n",
       "      <th>...</th>\n",
       "      <th>employer_name</th>\n",
       "      <th>department_name</th>\n",
       "      <th>salary_from</th>\n",
       "      <th>salary_to</th>\n",
       "      <th>city</th>\n",
       "      <th>metro_name</th>\n",
       "      <th>station_name</th>\n",
       "      <th>line_name</th>\n",
       "      <th>address_street</th>\n",
       "      <th>responses</th>\n",
       "    </tr>\n",
       "  </thead>\n",
       "  <tbody>\n",
       "    <tr>\n",
       "      <td>0</td>\n",
       "      <td>52059152</td>\n",
       "      <td>False</td>\n",
       "      <td>Системный аналитик</td>\n",
       "      <td>None</td>\n",
       "      <td>False</td>\n",
       "      <td>False</td>\n",
       "      <td>{'id': '1', 'name': 'Москва', 'url': 'https://...</td>\n",
       "      <td>None</td>\n",
       "      <td>{'id': 'open', 'name': 'Открытая'}</td>\n",
       "      <td>{'city': 'Москва', 'street': 'Преображенская п...</td>\n",
       "      <td>...</td>\n",
       "      <td>ЭЛТ-ПОИСК</td>\n",
       "      <td>NaN</td>\n",
       "      <td>NaN</td>\n",
       "      <td>NaN</td>\n",
       "      <td>Москва</td>\n",
       "      <td>None</td>\n",
       "      <td>NaN</td>\n",
       "      <td>NaN</td>\n",
       "      <td>Преображенская площадь</td>\n",
       "      <td>18</td>\n",
       "    </tr>\n",
       "  </tbody>\n",
       "</table>\n",
       "<p>1 rows × 40 columns</p>\n",
       "</div>"
      ],
      "text/plain": [
       "         id  premium                name department  has_test  \\\n",
       "0  52059152    False  Системный аналитик       None     False   \n",
       "\n",
       "   response_letter_required  \\\n",
       "0                     False   \n",
       "\n",
       "                                                area salary  \\\n",
       "0  {'id': '1', 'name': 'Москва', 'url': 'https://...   None   \n",
       "\n",
       "                                 type  \\\n",
       "0  {'id': 'open', 'name': 'Открытая'}   \n",
       "\n",
       "                                             address  ... employer_name  \\\n",
       "0  {'city': 'Москва', 'street': 'Преображенская п...  ...     ЭЛТ-ПОИСК   \n",
       "\n",
       "  department_name salary_from salary_to    city metro_name station_name  \\\n",
       "0             NaN         NaN       NaN  Москва       None          NaN   \n",
       "\n",
       "  line_name          address_street responses  \n",
       "0       NaN  Преображенская площадь        18  \n",
       "\n",
       "[1 rows x 40 columns]"
      ]
     },
     "execution_count": 36,
     "metadata": {},
     "output_type": "execute_result"
    }
   ],
   "source": [
    "vacancy_df_to3years.head(1)\n",
    "\n",
    "# Пример ссылки на hh по id- постоянно меняется!!!\n",
    "# https://hh.ru/vacancy/52059152"
   ]
  },
  {
   "cell_type": "code",
   "execution_count": 37,
   "metadata": {
    "scrolled": true
   },
   "outputs": [
    {
     "name": "stderr",
     "output_type": "stream",
     "text": [
      "/opt/conda/lib/python3.7/site-packages/ipykernel_launcher.py:3: UserWarning: Boolean Series key will be reindexed to match DataFrame index.\n",
      "  This is separate from the ipykernel package so we can avoid doing imports until\n"
     ]
    },
    {
     "data": {
      "text/html": [
       "<div>\n",
       "<style scoped>\n",
       "    .dataframe tbody tr th:only-of-type {\n",
       "        vertical-align: middle;\n",
       "    }\n",
       "\n",
       "    .dataframe tbody tr th {\n",
       "        vertical-align: top;\n",
       "    }\n",
       "\n",
       "    .dataframe thead th {\n",
       "        text-align: right;\n",
       "    }\n",
       "</style>\n",
       "<table border=\"1\" class=\"dataframe\">\n",
       "  <thead>\n",
       "    <tr style=\"text-align: right;\">\n",
       "      <th></th>\n",
       "      <th>id</th>\n",
       "      <th>premium</th>\n",
       "      <th>name</th>\n",
       "      <th>department</th>\n",
       "      <th>has_test</th>\n",
       "      <th>response_letter_required</th>\n",
       "      <th>area</th>\n",
       "      <th>salary</th>\n",
       "      <th>type</th>\n",
       "      <th>address</th>\n",
       "      <th>...</th>\n",
       "      <th>employer_name</th>\n",
       "      <th>department_name</th>\n",
       "      <th>salary_from</th>\n",
       "      <th>salary_to</th>\n",
       "      <th>city</th>\n",
       "      <th>metro_name</th>\n",
       "      <th>station_name</th>\n",
       "      <th>line_name</th>\n",
       "      <th>address_street</th>\n",
       "      <th>responses</th>\n",
       "    </tr>\n",
       "  </thead>\n",
       "  <tbody>\n",
       "    <tr>\n",
       "      <td>1331</td>\n",
       "      <td>51209457</td>\n",
       "      <td>False</td>\n",
       "      <td>System Analyst (Brokerage)</td>\n",
       "      <td>{'id': '3529-3529-prof', 'name': 'Сбер для экс...</td>\n",
       "      <td>False</td>\n",
       "      <td>False</td>\n",
       "      <td>{'id': '1', 'name': 'Москва', 'url': 'https://...</td>\n",
       "      <td>{'from': 220000, 'to': None, 'currency': 'RUR'...</td>\n",
       "      <td>{'id': 'open', 'name': 'Открытая'}</td>\n",
       "      <td>None</td>\n",
       "      <td>...</td>\n",
       "      <td>Сбербанк</td>\n",
       "      <td>Сбер для экспертов</td>\n",
       "      <td>220000.0</td>\n",
       "      <td>NaN</td>\n",
       "      <td>Москва</td>\n",
       "      <td>NaN</td>\n",
       "      <td>NaN</td>\n",
       "      <td>NaN</td>\n",
       "      <td>NaN</td>\n",
       "      <td>0</td>\n",
       "    </tr>\n",
       "  </tbody>\n",
       "</table>\n",
       "<p>1 rows × 40 columns</p>\n",
       "</div>"
      ],
      "text/plain": [
       "            id  premium                        name  \\\n",
       "1331  51209457    False  System Analyst (Brokerage)   \n",
       "\n",
       "                                             department  has_test  \\\n",
       "1331  {'id': '3529-3529-prof', 'name': 'Сбер для экс...     False   \n",
       "\n",
       "      response_letter_required  \\\n",
       "1331                     False   \n",
       "\n",
       "                                                   area  \\\n",
       "1331  {'id': '1', 'name': 'Москва', 'url': 'https://...   \n",
       "\n",
       "                                                 salary  \\\n",
       "1331  {'from': 220000, 'to': None, 'currency': 'RUR'...   \n",
       "\n",
       "                                    type address  ... employer_name  \\\n",
       "1331  {'id': 'open', 'name': 'Открытая'}    None  ...      Сбербанк   \n",
       "\n",
       "         department_name salary_from salary_to    city metro_name  \\\n",
       "1331  Сбер для экспертов    220000.0       NaN  Москва        NaN   \n",
       "\n",
       "     station_name line_name address_street responses  \n",
       "1331          NaN       NaN            NaN         0  \n",
       "\n",
       "[1 rows x 40 columns]"
      ]
     },
     "execution_count": 37,
     "metadata": {},
     "output_type": "execute_result"
    }
   ],
   "source": [
    "# Срез по компании (на примере сбербанк)\n",
    "\n",
    "vacancy_df_to3years.dropna(subset=['employer_name', 'salary_from'])[vacancy_df_to3years['employer_name'].str.lower().str.contains('сбербанк')]"
   ]
  },
  {
   "cell_type": "markdown",
   "metadata": {},
   "source": [
    "### Посмотрим содержание вакансий"
   ]
  },
  {
   "cell_type": "code",
   "execution_count": 38,
   "metadata": {
    "scrolled": true
   },
   "outputs": [],
   "source": [
    "vacs_df=vacancy_df_to3years.copy().reset_index(drop=True)"
   ]
  },
  {
   "cell_type": "code",
   "execution_count": 39,
   "metadata": {
    "scrolled": true
   },
   "outputs": [
    {
     "data": {
      "text/plain": [
       "0       https://api.hh.ru/vacancies/52059152?host=hh.ru\n",
       "1       https://api.hh.ru/vacancies/51718326?host=hh.ru\n",
       "2       https://api.hh.ru/vacancies/49832942?host=hh.ru\n",
       "3       https://api.hh.ru/vacancies/51039267?host=hh.ru\n",
       "4       https://api.hh.ru/vacancies/52264165?host=hh.ru\n",
       "                             ...                       \n",
       "1171    https://api.hh.ru/vacancies/50497173?host=hh.ru\n",
       "1172    https://api.hh.ru/vacancies/52244891?host=hh.ru\n",
       "1173    https://api.hh.ru/vacancies/52288615?host=hh.ru\n",
       "1174    https://api.hh.ru/vacancies/52160191?host=hh.ru\n",
       "1175    https://api.hh.ru/vacancies/44141540?host=hh.ru\n",
       "Name: url, Length: 1176, dtype: object"
      ]
     },
     "execution_count": 39,
     "metadata": {},
     "output_type": "execute_result"
    }
   ],
   "source": [
    "# Вывод вакансий в виде ссылок\n",
    "\n",
    "vacs_df['url']"
   ]
  },
  {
   "cell_type": "code",
   "execution_count": 40,
   "metadata": {
    "scrolled": true
   },
   "outputs": [
    {
     "data": {
      "text/plain": [
       "{'id': '52059152',\n",
       " 'premium': False,\n",
       " 'billing_type': {'id': 'standard_plus', 'name': 'Стандарт плюс'},\n",
       " 'relations': [],\n",
       " 'name': 'Системный аналитик',\n",
       " 'insider_interview': None,\n",
       " 'response_letter_required': False,\n",
       " 'area': {'id': '1',\n",
       "  'name': 'Москва',\n",
       "  'url': 'https://api.hh.ru/areas/1?host=hh.ru'},\n",
       " 'salary': None,\n",
       " 'type': {'id': 'open', 'name': 'Открытая'},\n",
       " 'address': {'city': 'Москва',\n",
       "  'street': 'Преображенская площадь',\n",
       "  'building': '8',\n",
       "  'description': None,\n",
       "  'lat': 55.7950048602,\n",
       "  'lng': 37.7128710086,\n",
       "  'raw': 'Москва, Преображенская площадь, 8',\n",
       "  'metro': None,\n",
       "  'metro_stations': []},\n",
       " 'allow_messages': True,\n",
       " 'site': {'id': 'hh', 'name': 'hh.ru'},\n",
       " 'experience': {'id': 'noExperience', 'name': 'Нет опыта'},\n",
       " 'schedule': {'id': 'fullDay', 'name': 'Полный день'},\n",
       " 'employment': {'id': 'full', 'name': 'Полная занятость'},\n",
       " 'department': None,\n",
       " 'contacts': None,\n",
       " 'description': '<p> </p> <p><strong>Вам предстоит</strong> <strong>заниматься:</strong></p> <ul> <li>Сбором и анализом требований, их детализацией и систематизацией;</li> <li>Системным анализом и описанием протоколов интеграции;</li> <li>Проектированием компонент ИТ-систем в рамках существующих архитектурных принципов;</li> <li>Формированием постановок задач на разработку ПО;</li> <li>Настройкой интеграционного взаимодействия c партнерами (в основном web-сервисы);</li> <li>Разработкой проектной технической документации.</li> </ul> <p><strong>Что для нас важно:</strong></p> <ul> <li>Понимание принципов интеграционного взаимодействия компонент в интеграционной архитектуре (протоколы SOAP, REST, язык SQL и инструменты работы с ними);</li> <li>Архитектура интеграционных сервисов;</li> <li>Опыт работы в команде с использованием инструментов коллективной работы (Jira, Redmine или аналогичные);</li> <li>Коммуникативные навыки, умение работать в кросс функциональной команде;</li> <li>Системное мышление, аналитический склад ума, умение структурно излагать мысли, внимание к деталям;</li> <li>Умение выстраивать отношения с заказчиками и командой (в офисе и дистанционно).</li> </ul> <p><strong>Будет плюсом:</strong></p> <ul> <li>Понимание принципов разработки ПО, навыки программирования на PHP.</li> </ul> <p><strong>Мы предлагаем:</strong></p> <ul> <li>Уровень дохода обсуждается индивидуально с успешным кандидатом;</li> <li>Оформление по ТК РФ;</li> <li>ДМС после испытательного срока;</li> <li>Возможности для развития и самореализации;</li> <li>Обмен лучшими практиками в команде профессионалов;</li> <li>Обучение и участие в конференциях;</li> <li>Современный и комфортный офис в бизнес-центре «Прео 8» (50 метров от м. Преображенская площадь);</li> <li>Удобный график работы.</li> </ul> <p><strong>При отклике на вакансию прошу сообщить Ваши финансовые ожидания.</strong></p> <p> </p> <p> </p>',\n",
       " 'branded_description': None,\n",
       " 'vacancy_constructor_template': None,\n",
       " 'key_skills': [{'name': 'SQL'},\n",
       "  {'name': 'Бизнес-анализ'},\n",
       "  {'name': 'Аналитическое мышление'},\n",
       "  {'name': 'Системный анализ'},\n",
       "  {'name': 'SOAP'}],\n",
       " 'accept_handicapped': False,\n",
       " 'accept_kids': False,\n",
       " 'archived': False,\n",
       " 'response_url': None,\n",
       " 'specializations': [{'id': '17.751',\n",
       "   'name': 'Другое',\n",
       "   'profarea_id': '17',\n",
       "   'profarea_name': 'Продажи'},\n",
       "  {'id': '1.25',\n",
       "   'name': 'Аналитик',\n",
       "   'profarea_id': '1',\n",
       "   'profarea_name': 'Информационные технологии, интернет, телеком'},\n",
       "  {'id': '3.26',\n",
       "   'name': 'Аналитик',\n",
       "   'profarea_id': '3',\n",
       "   'profarea_name': 'Маркетинг, реклама, PR'},\n",
       "  {'id': '12.746',\n",
       "   'name': 'Другое',\n",
       "   'profarea_id': '12',\n",
       "   'profarea_name': 'Консультирование'}],\n",
       " 'professional_roles': [{'id': '10', 'name': 'Аналитик'}],\n",
       " 'code': None,\n",
       " 'hidden': False,\n",
       " 'quick_responses_allowed': False,\n",
       " 'driver_license_types': [],\n",
       " 'accept_incomplete_resumes': False,\n",
       " 'employer': {'id': '4170597',\n",
       "  'name': 'ЭЛТ-ПОИСК',\n",
       "  'url': 'https://api.hh.ru/employers/4170597?host=hh.ru',\n",
       "  'alternate_url': 'https://hh.ru/employer/4170597',\n",
       "  'logo_urls': {'90': 'https://hhcdn.ru/employer-logo/3328288.png',\n",
       "   '240': 'https://hhcdn.ru/employer-logo/3328289.png',\n",
       "   'original': 'https://hhcdn.ru/employer-logo-original/721798.png'},\n",
       "  'vacancies_url': 'https://api.hh.ru/vacancies?employer_id=4170597&host=hh.ru',\n",
       "  'trusted': True},\n",
       " 'published_at': '2022-02-12T09:40:14+0300',\n",
       " 'created_at': '2022-02-12T09:40:14+0300',\n",
       " 'negotiations_url': None,\n",
       " 'suitable_resumes_url': None,\n",
       " 'apply_alternate_url': 'https://hh.ru/applicant/vacancy_response?vacancyId=52059152',\n",
       " 'has_test': False,\n",
       " 'test': None,\n",
       " 'alternate_url': 'https://hh.ru/vacancy/52059152',\n",
       " 'working_days': [],\n",
       " 'working_time_intervals': [],\n",
       " 'working_time_modes': [],\n",
       " 'accept_temporary': False}"
      ]
     },
     "execution_count": 40,
     "metadata": {},
     "output_type": "execute_result"
    }
   ],
   "source": [
    "# Вывод вакансий в виде словаря\n",
    "\n",
    "json.loads(requests.get('https://api.hh.ru/vacancies/52059152?host=hh.ru').text)"
   ]
  },
  {
   "cell_type": "code",
   "execution_count": 41,
   "metadata": {
    "scrolled": true
   },
   "outputs": [
    {
     "data": {
      "text/html": [
       "<p> </p> <p><strong>Вам предстоит</strong> <strong>заниматься:</strong></p> <ul> <li>Сбором и анализом требований, их детализацией и систематизацией;</li> <li>Системным анализом и описанием протоколов интеграции;</li> <li>Проектированием компонент ИТ-систем в рамках существующих архитектурных принципов;</li> <li>Формированием постановок задач на разработку ПО;</li> <li>Настройкой интеграционного взаимодействия c партнерами (в основном web-сервисы);</li> <li>Разработкой проектной технической документации.</li> </ul> <p><strong>Что для нас важно:</strong></p> <ul> <li>Понимание принципов интеграционного взаимодействия компонент в интеграционной архитектуре (протоколы SOAP, REST, язык SQL и инструменты работы с ними);</li> <li>Архитектура интеграционных сервисов;</li> <li>Опыт работы в команде с использованием инструментов коллективной работы (Jira, Redmine или аналогичные);</li> <li>Коммуникативные навыки, умение работать в кросс функциональной команде;</li> <li>Системное мышление, аналитический склад ума, умение структурно излагать мысли, внимание к деталям;</li> <li>Умение выстраивать отношения с заказчиками и командой (в офисе и дистанционно).</li> </ul> <p><strong>Будет плюсом:</strong></p> <ul> <li>Понимание принципов разработки ПО, навыки программирования на PHP.</li> </ul> <p><strong>Мы предлагаем:</strong></p> <ul> <li>Уровень дохода обсуждается индивидуально с успешным кандидатом;</li> <li>Оформление по ТК РФ;</li> <li>ДМС после испытательного срока;</li> <li>Возможности для развития и самореализации;</li> <li>Обмен лучшими практиками в команде профессионалов;</li> <li>Обучение и участие в конференциях;</li> <li>Современный и комфортный офис в бизнес-центре «Прео 8» (50 метров от м. Преображенская площадь);</li> <li>Удобный график работы.</li> </ul> <p><strong>При отклике на вакансию прошу сообщить Ваши финансовые ожидания.</strong></p> <p> </p> <p> </p>"
      ],
      "text/plain": [
       "<IPython.core.display.HTML object>"
      ]
     },
     "execution_count": 41,
     "metadata": {},
     "output_type": "execute_result"
    }
   ],
   "source": [
    "# Вывод вакансий в читаемом виде\n",
    "\n",
    "HTML(json.loads(requests.get('https://api.hh.ru/vacancies/52059152?host=hh.ru').text)['description'])"
   ]
  },
  {
   "cell_type": "code",
   "execution_count": 42,
   "metadata": {},
   "outputs": [],
   "source": [
    "# Вывод лимитированного списка вакансий (до 20 строк)\n",
    "\n",
    "vacs_df_20 = vacs_df[:20]"
   ]
  },
  {
   "cell_type": "code",
   "execution_count": 43,
   "metadata": {},
   "outputs": [],
   "source": [
    "# Выгрузка HTML-объекта по каждой вакансии из списка\n",
    "\n",
    "vacs = vacs_df_20['url'].apply(lambda x: HTML(json.loads(requests.get(x).text)['description']))"
   ]
  },
  {
   "cell_type": "code",
   "execution_count": 44,
   "metadata": {},
   "outputs": [
    {
     "data": {
      "text/plain": [
       "0     <IPython.core.display.HTML object>\n",
       "1     <IPython.core.display.HTML object>\n",
       "2     <IPython.core.display.HTML object>\n",
       "3     <IPython.core.display.HTML object>\n",
       "4     <IPython.core.display.HTML object>\n",
       "5     <IPython.core.display.HTML object>\n",
       "6     <IPython.core.display.HTML object>\n",
       "7     <IPython.core.display.HTML object>\n",
       "8     <IPython.core.display.HTML object>\n",
       "9     <IPython.core.display.HTML object>\n",
       "10    <IPython.core.display.HTML object>\n",
       "11    <IPython.core.display.HTML object>\n",
       "12    <IPython.core.display.HTML object>\n",
       "13    <IPython.core.display.HTML object>\n",
       "14    <IPython.core.display.HTML object>\n",
       "15    <IPython.core.display.HTML object>\n",
       "16    <IPython.core.display.HTML object>\n",
       "17    <IPython.core.display.HTML object>\n",
       "18    <IPython.core.display.HTML object>\n",
       "19    <IPython.core.display.HTML object>\n",
       "Name: url, dtype: object"
      ]
     },
     "execution_count": 44,
     "metadata": {},
     "output_type": "execute_result"
    }
   ],
   "source": [
    "vacs"
   ]
  },
  {
   "cell_type": "code",
   "execution_count": 45,
   "metadata": {},
   "outputs": [
    {
     "data": {
      "application/vnd.jupyter.widget-view+json": {
       "model_id": "a694a89b6cdf4f198c81722a09a0fcb2",
       "version_major": 2,
       "version_minor": 0
      },
      "text/plain": [
       "Button(description='Click Me', style=ButtonStyle())"
      ]
     },
     "metadata": {},
     "output_type": "display_data"
    },
    {
     "data": {
      "application/vnd.jupyter.widget-view+json": {
       "model_id": "2f2b62a2997a49feab2b3979ffa8db3a",
       "version_major": 2,
       "version_minor": 0
      },
      "text/plain": [
       "Output()"
      ]
     },
     "metadata": {},
     "output_type": "display_data"
    }
   ],
   "source": [
    "# Добавление кнопки \"Click Me\", очистка вакансий при переборе, переход по текстовому формату вакансии и смена вакансий при нажатии кнопки\n",
    "\n",
    "button = widgets.Button(description=\"Click Me\")\n",
    "output = widgets.Output()\n",
    "\n",
    "display(button, output)\n",
    "\n",
    "counter=0\n",
    "def on_clicked(b):\n",
    "    with output:\n",
    "        try:\n",
    "            global counter\n",
    "            clear_output()\n",
    "            print('№ вакансии', counter)\n",
    "            \n",
    "            display(HTML(\"<h1>\" + str(vacs_df['name'][counter]) + ' в ' + str(vacs_df['employer_name'][counter]) + \"</h1>\"))\n",
    "            \n",
    "            display(vacs[counter])\n",
    "            display(HTML('<a href=\"' + str(vacs_df['alternate_url'][counter]) + '\" target=\"_blank\">Ссылка на вакансию</a>'))      \n",
    "            counter += 1\n",
    "        except Exception as e:\n",
    "            ('Вакансии закончились')\n",
    "            \n",
    "button.on_click(on_clicked)                  "
   ]
  },
  {
   "cell_type": "markdown",
   "metadata": {},
   "source": [
    "С помощью библиотеки BeautifulSoup извлечем данные из HTML"
   ]
  },
  {
   "cell_type": "code",
   "execution_count": 46,
   "metadata": {
    "scrolled": true
   },
   "outputs": [],
   "source": [
    "from bs4 import BeautifulSoup\n",
    "\n",
    "text = vacs_df_20['url'].apply(lambda x: BeautifulSoup(json.loads(requests.get(x).text)['description']).get_text())"
   ]
  },
  {
   "cell_type": "code",
   "execution_count": 47,
   "metadata": {},
   "outputs": [
    {
     "data": {
      "text/plain": [
       "'Обязанности:  Развиваться и учиться;) Взаимодействие с клиентом (бизнес и ИТ) для сбора, выявления и уточнения требований. Разработка Технических заданий (ТЗ) и\\\\или Функциональных спецификации (в том числе спецификаций на сервисы) и эксплуатационной документации. Разработка макетов графических интерфейсов. Описание бизнес-процессов, разработка сценариев использования. Участие в тестировании разрабатываемого и внедряемого программного обеспечения.  Требования:  Желательно высшее образование. Желание научиться собирать требования, готовить функциональных спецификаций, техническую документацию‚ функциональные схемы и диаграммы. Хорошие коммуникативные и лидерские качества, умение работать в команде и самостоятельность. Желание работать и развиваться!;) Знание принципов построения баз данных, sql.  Условия:  Наш коллектив - это семья, которая всегда придёт на помощь и ей не все равно. Никакой бюрократии! Разнообразные задачи и постоянное развитие. Белая заработная плата. Офис в центре Москвы. '"
      ]
     },
     "execution_count": 47,
     "metadata": {},
     "output_type": "execute_result"
    }
   ],
   "source": [
    "text[1]"
   ]
  }
 ],
 "metadata": {
  "ExecuteTimeLog": [
   {
    "duration": 1269,
    "start_time": "2022-02-09T14:19:24.740Z"
   },
   {
    "duration": 5,
    "start_time": "2022-02-09T14:31:47.497Z"
   },
   {
    "duration": 3,
    "start_time": "2022-02-09T14:31:56.214Z"
   },
   {
    "duration": 3,
    "start_time": "2022-02-09T14:32:37.864Z"
   },
   {
    "duration": 1702,
    "start_time": "2022-02-09T14:39:07.273Z"
   },
   {
    "duration": 1726,
    "start_time": "2022-02-09T14:41:02.573Z"
   },
   {
    "duration": 1655,
    "start_time": "2022-02-09T14:47:02.265Z"
   },
   {
    "duration": 1878,
    "start_time": "2022-02-09T14:47:36.716Z"
   },
   {
    "duration": 1780,
    "start_time": "2022-02-09T14:48:25.226Z"
   },
   {
    "duration": 1875,
    "start_time": "2022-02-09T14:49:13.189Z"
   },
   {
    "duration": 95,
    "start_time": "2022-02-09T14:53:02.482Z"
   },
   {
    "duration": 16893,
    "start_time": "2022-02-09T14:59:45.284Z"
   },
   {
    "duration": 94,
    "start_time": "2022-02-09T15:00:09.139Z"
   },
   {
    "duration": 3,
    "start_time": "2022-02-09T15:03:28.545Z"
   },
   {
    "duration": 44,
    "start_time": "2022-02-09T15:04:19.853Z"
   },
   {
    "duration": 57,
    "start_time": "2022-02-09T15:04:35.009Z"
   },
   {
    "duration": 10,
    "start_time": "2022-02-09T15:05:26.460Z"
   },
   {
    "duration": 47,
    "start_time": "2022-02-09T15:05:42.360Z"
   },
   {
    "duration": 3,
    "start_time": "2022-02-09T15:05:58.454Z"
   },
   {
    "duration": 95,
    "start_time": "2022-02-09T15:06:21.550Z"
   },
   {
    "duration": 3,
    "start_time": "2022-02-09T15:08:26.863Z"
   },
   {
    "duration": 3,
    "start_time": "2022-02-09T15:08:44.287Z"
   },
   {
    "duration": 7,
    "start_time": "2022-02-09T15:09:02.909Z"
   },
   {
    "duration": 7,
    "start_time": "2022-02-09T15:09:28.832Z"
   },
   {
    "duration": 18045,
    "start_time": "2022-02-09T15:10:36.222Z"
   },
   {
    "duration": 18,
    "start_time": "2022-02-09T15:11:01.718Z"
   },
   {
    "duration": 66,
    "start_time": "2022-02-09T15:11:08.379Z"
   },
   {
    "duration": 44,
    "start_time": "2022-02-09T15:11:25.393Z"
   },
   {
    "duration": 36,
    "start_time": "2022-02-09T15:11:31.424Z"
   },
   {
    "duration": 3,
    "start_time": "2022-02-09T15:11:39.095Z"
   },
   {
    "duration": 41,
    "start_time": "2022-02-09T15:11:41.410Z"
   },
   {
    "duration": 33,
    "start_time": "2022-02-09T15:11:52.215Z"
   },
   {
    "duration": 108,
    "start_time": "2022-02-09T15:18:45.250Z"
   },
   {
    "duration": 3,
    "start_time": "2022-02-09T15:18:55.795Z"
   },
   {
    "duration": 8,
    "start_time": "2022-02-09T15:25:07.142Z"
   },
   {
    "duration": 40,
    "start_time": "2022-02-09T15:34:46.256Z"
   },
   {
    "duration": 29,
    "start_time": "2022-02-09T15:34:55.703Z"
   },
   {
    "duration": 37,
    "start_time": "2022-02-09T15:34:57.179Z"
   },
   {
    "duration": 36,
    "start_time": "2022-02-09T15:41:07.534Z"
   },
   {
    "duration": 38,
    "start_time": "2022-02-09T15:41:08.802Z"
   },
   {
    "duration": 94,
    "start_time": "2022-02-09T15:41:20.443Z"
   },
   {
    "duration": 33,
    "start_time": "2022-02-09T15:42:12.027Z"
   },
   {
    "duration": 93,
    "start_time": "2022-02-09T15:42:14.618Z"
   },
   {
    "duration": 36,
    "start_time": "2022-02-09T15:42:32.162Z"
   },
   {
    "duration": 93,
    "start_time": "2022-02-09T15:42:32.841Z"
   },
   {
    "duration": 84,
    "start_time": "2022-02-09T15:42:58.948Z"
   },
   {
    "duration": 92,
    "start_time": "2022-02-09T15:43:34.697Z"
   },
   {
    "duration": 36,
    "start_time": "2022-02-09T15:43:43.552Z"
   },
   {
    "duration": 35,
    "start_time": "2022-02-09T15:45:41.777Z"
   },
   {
    "duration": 89,
    "start_time": "2022-02-09T15:46:56.832Z"
   },
   {
    "duration": 34,
    "start_time": "2022-02-09T15:49:14.624Z"
   },
   {
    "duration": 793,
    "start_time": "2022-02-09T15:49:59.534Z"
   },
   {
    "duration": 3,
    "start_time": "2022-02-09T15:59:22.356Z"
   },
   {
    "duration": 4,
    "start_time": "2022-02-09T15:59:24.316Z"
   },
   {
    "duration": 3,
    "start_time": "2022-02-09T15:59:25.361Z"
   },
   {
    "duration": 3,
    "start_time": "2022-02-09T15:59:27.044Z"
   },
   {
    "duration": 1446,
    "start_time": "2022-02-09T15:59:29.448Z"
   },
   {
    "duration": 15534,
    "start_time": "2022-02-09T15:59:32.252Z"
   },
   {
    "duration": 20,
    "start_time": "2022-02-09T15:59:47.789Z"
   },
   {
    "duration": 35,
    "start_time": "2022-02-09T15:59:51.952Z"
   },
   {
    "duration": 3,
    "start_time": "2022-02-09T15:59:59.724Z"
   },
   {
    "duration": 34,
    "start_time": "2022-02-09T16:00:02.706Z"
   },
   {
    "duration": 6149,
    "start_time": "2022-02-09T16:00:11.690Z"
   },
   {
    "duration": 4,
    "start_time": "2022-02-09T16:02:00.498Z"
   },
   {
    "duration": 27,
    "start_time": "2022-02-09T16:02:06.348Z"
   },
   {
    "duration": 104,
    "start_time": "2022-02-09T16:02:13.785Z"
   },
   {
    "duration": 7,
    "start_time": "2022-02-09T16:02:26.332Z"
   },
   {
    "duration": 222,
    "start_time": "2022-02-09T16:05:20.654Z"
   },
   {
    "duration": 519,
    "start_time": "2022-02-09T16:05:49.542Z"
   },
   {
    "duration": 1254,
    "start_time": "2022-02-09T16:05:59.875Z"
   },
   {
    "duration": 36,
    "start_time": "2022-02-09T16:07:22.013Z"
   },
   {
    "duration": 197,
    "start_time": "2022-02-09T16:08:37.364Z"
   },
   {
    "duration": 7,
    "start_time": "2022-02-09T16:08:50.134Z"
   },
   {
    "duration": 198,
    "start_time": "2022-02-09T16:08:54.677Z"
   },
   {
    "duration": 7,
    "start_time": "2022-02-09T16:09:45.510Z"
   },
   {
    "duration": 1597,
    "start_time": "2022-02-09T16:10:18.950Z"
   },
   {
    "duration": 11,
    "start_time": "2022-02-09T16:29:07.271Z"
   },
   {
    "duration": 89,
    "start_time": "2022-02-09T16:29:14.213Z"
   },
   {
    "duration": 38,
    "start_time": "2022-02-09T16:29:43.441Z"
   },
   {
    "duration": 48,
    "start_time": "2022-02-09T16:30:00.528Z"
   },
   {
    "duration": 6,
    "start_time": "2022-02-09T16:30:52.294Z"
   },
   {
    "duration": 18,
    "start_time": "2022-02-09T16:37:47.774Z"
   },
   {
    "duration": 6,
    "start_time": "2022-02-09T16:40:14.198Z"
   },
   {
    "duration": 37,
    "start_time": "2022-02-09T16:40:32.044Z"
   },
   {
    "duration": 37,
    "start_time": "2022-02-09T16:40:33.476Z"
   },
   {
    "duration": 30,
    "start_time": "2022-02-09T16:41:00.883Z"
   },
   {
    "duration": 36,
    "start_time": "2022-02-09T16:41:02.643Z"
   },
   {
    "duration": 30,
    "start_time": "2022-02-09T16:42:02.837Z"
   },
   {
    "duration": 34,
    "start_time": "2022-02-09T16:42:03.671Z"
   },
   {
    "duration": 29,
    "start_time": "2022-02-09T16:42:27.738Z"
   },
   {
    "duration": 38,
    "start_time": "2022-02-09T16:42:28.435Z"
   },
   {
    "duration": 32,
    "start_time": "2022-02-09T16:42:47.051Z"
   },
   {
    "duration": 33,
    "start_time": "2022-02-09T16:42:48.219Z"
   },
   {
    "duration": 6,
    "start_time": "2022-02-09T16:42:59.413Z"
   },
   {
    "duration": 7,
    "start_time": "2022-02-09T16:43:00.139Z"
   },
   {
    "duration": 33,
    "start_time": "2022-02-09T16:43:00.947Z"
   },
   {
    "duration": 4,
    "start_time": "2022-02-09T16:44:15.555Z"
   },
   {
    "duration": 5,
    "start_time": "2022-02-09T16:44:16.989Z"
   },
   {
    "duration": 3,
    "start_time": "2022-02-09T16:44:17.204Z"
   },
   {
    "duration": 3,
    "start_time": "2022-02-09T16:44:18.753Z"
   },
   {
    "duration": 1520,
    "start_time": "2022-02-09T16:44:20.331Z"
   },
   {
    "duration": 15327,
    "start_time": "2022-02-09T16:44:23.107Z"
   },
   {
    "duration": 21,
    "start_time": "2022-02-09T16:44:45.011Z"
   },
   {
    "duration": 35,
    "start_time": "2022-02-09T16:44:48.189Z"
   },
   {
    "duration": 3,
    "start_time": "2022-02-09T16:44:50.070Z"
   },
   {
    "duration": 35,
    "start_time": "2022-02-09T16:45:00.988Z"
   },
   {
    "duration": 3,
    "start_time": "2022-02-09T16:45:05.431Z"
   },
   {
    "duration": 35,
    "start_time": "2022-02-09T16:45:08.595Z"
   },
   {
    "duration": 39,
    "start_time": "2022-02-09T16:45:12.110Z"
   },
   {
    "duration": 6,
    "start_time": "2022-02-09T16:45:25.827Z"
   },
   {
    "duration": 6,
    "start_time": "2022-02-09T16:45:36.012Z"
   },
   {
    "duration": 12,
    "start_time": "2022-02-09T16:45:38.393Z"
   },
   {
    "duration": 36,
    "start_time": "2022-02-09T16:45:41.100Z"
   },
   {
    "duration": 9,
    "start_time": "2022-02-09T16:48:55.969Z"
   },
   {
    "duration": 7,
    "start_time": "2022-02-09T16:49:45.312Z"
   },
   {
    "duration": 6,
    "start_time": "2022-02-09T16:50:03.520Z"
   },
   {
    "duration": 13,
    "start_time": "2022-02-09T16:50:37.869Z"
   },
   {
    "duration": 11,
    "start_time": "2022-02-09T16:51:50.357Z"
   },
   {
    "duration": 36,
    "start_time": "2022-02-09T16:59:53.619Z"
   },
   {
    "duration": 83,
    "start_time": "2022-02-09T17:08:03.005Z"
   },
   {
    "duration": 9,
    "start_time": "2022-02-09T17:08:07.453Z"
   },
   {
    "duration": 325,
    "start_time": "2022-02-09T17:09:30.983Z"
   },
   {
    "duration": 67,
    "start_time": "2022-02-09T17:10:08.722Z"
   },
   {
    "duration": 76,
    "start_time": "2022-02-09T17:10:53.511Z"
   },
   {
    "duration": 64,
    "start_time": "2022-02-09T17:10:57.397Z"
   },
   {
    "duration": 72,
    "start_time": "2022-02-09T17:11:54.732Z"
   },
   {
    "duration": 63,
    "start_time": "2022-02-09T17:12:07.952Z"
   },
   {
    "duration": 16,
    "start_time": "2022-02-09T17:12:32.779Z"
   },
   {
    "duration": 1406,
    "start_time": "2022-02-09T17:14:08.976Z"
   },
   {
    "duration": 37,
    "start_time": "2022-02-09T17:16:04.345Z"
   },
   {
    "duration": 33,
    "start_time": "2022-02-09T17:18:37.021Z"
   },
   {
    "duration": 202,
    "start_time": "2022-02-09T17:20:43.323Z"
   },
   {
    "duration": 293,
    "start_time": "2022-02-09T17:28:39.507Z"
   },
   {
    "duration": 204,
    "start_time": "2022-02-09T17:28:41.004Z"
   },
   {
    "duration": 319,
    "start_time": "2022-02-09T17:41:13.435Z"
   },
   {
    "duration": 304,
    "start_time": "2022-02-09T17:41:24.908Z"
   },
   {
    "duration": 3,
    "start_time": "2022-02-09T17:41:35.354Z"
   },
   {
    "duration": 145,
    "start_time": "2022-02-09T17:42:50.058Z"
   },
   {
    "duration": 171,
    "start_time": "2022-02-09T17:43:00.866Z"
   },
   {
    "duration": 290,
    "start_time": "2022-02-09T17:44:56.285Z"
   },
   {
    "duration": 407,
    "start_time": "2022-02-09T17:45:15.580Z"
   },
   {
    "duration": 401,
    "start_time": "2022-02-09T17:45:25.206Z"
   },
   {
    "duration": 457,
    "start_time": "2022-02-09T17:45:38.228Z"
   },
   {
    "duration": 379,
    "start_time": "2022-02-09T17:45:45.108Z"
   },
   {
    "duration": 364,
    "start_time": "2022-02-09T17:49:33.158Z"
   },
   {
    "duration": 372,
    "start_time": "2022-02-09T17:49:41.866Z"
   },
   {
    "duration": 401,
    "start_time": "2022-02-09T17:51:49.094Z"
   },
   {
    "duration": 225,
    "start_time": "2022-02-09T17:53:59.028Z"
   },
   {
    "duration": 749,
    "start_time": "2022-02-09T17:54:08.992Z"
   },
   {
    "duration": 364,
    "start_time": "2022-02-09T17:54:24.623Z"
   },
   {
    "duration": 226,
    "start_time": "2022-02-09T17:54:40.374Z"
   },
   {
    "duration": 523,
    "start_time": "2022-02-09T17:55:12.007Z"
   },
   {
    "duration": 375,
    "start_time": "2022-02-09T17:55:20.592Z"
   },
   {
    "duration": 214,
    "start_time": "2022-02-09T17:56:18.609Z"
   },
   {
    "duration": 174,
    "start_time": "2022-02-09T17:56:51.499Z"
   },
   {
    "duration": 144,
    "start_time": "2022-02-09T17:56:57.360Z"
   },
   {
    "duration": 146,
    "start_time": "2022-02-09T17:57:02.476Z"
   },
   {
    "duration": 129,
    "start_time": "2022-02-09T17:57:44.680Z"
   },
   {
    "duration": 137,
    "start_time": "2022-02-09T17:58:08.170Z"
   },
   {
    "duration": 156,
    "start_time": "2022-02-09T17:58:16.092Z"
   },
   {
    "duration": 129,
    "start_time": "2022-02-09T17:58:25.689Z"
   },
   {
    "duration": 128,
    "start_time": "2022-02-09T17:58:31.321Z"
   },
   {
    "duration": 124,
    "start_time": "2022-02-09T17:58:49.453Z"
   },
   {
    "duration": 132,
    "start_time": "2022-02-09T17:59:00.413Z"
   },
   {
    "duration": 383,
    "start_time": "2022-02-09T18:01:02.651Z"
   },
   {
    "duration": 405,
    "start_time": "2022-02-09T18:11:27.112Z"
   },
   {
    "duration": 580,
    "start_time": "2022-02-09T18:13:18.950Z"
   },
   {
    "duration": 384,
    "start_time": "2022-02-09T18:17:00.600Z"
   },
   {
    "duration": 386,
    "start_time": "2022-02-09T18:17:21.577Z"
   },
   {
    "duration": 523,
    "start_time": "2022-02-09T18:17:28.672Z"
   },
   {
    "duration": 1748,
    "start_time": "2022-02-09T18:26:58.181Z"
   },
   {
    "duration": 33,
    "start_time": "2022-02-09T18:31:28.886Z"
   },
   {
    "duration": 39,
    "start_time": "2022-02-09T18:31:30.419Z"
   },
   {
    "duration": 41,
    "start_time": "2022-02-09T18:32:51.408Z"
   },
   {
    "duration": 37,
    "start_time": "2022-02-09T18:32:52.718Z"
   },
   {
    "duration": 38,
    "start_time": "2022-02-09T18:34:10.489Z"
   },
   {
    "duration": 38,
    "start_time": "2022-02-09T18:34:11.714Z"
   },
   {
    "duration": 37,
    "start_time": "2022-02-09T18:34:41.606Z"
   },
   {
    "duration": 7,
    "start_time": "2022-02-09T18:34:42.231Z"
   },
   {
    "duration": 13,
    "start_time": "2022-02-09T18:34:43.189Z"
   },
   {
    "duration": 37,
    "start_time": "2022-02-09T18:34:43.490Z"
   },
   {
    "duration": 6,
    "start_time": "2022-02-09T18:34:44.604Z"
   },
   {
    "duration": 12,
    "start_time": "2022-02-09T18:34:45.493Z"
   },
   {
    "duration": 10,
    "start_time": "2022-02-09T18:34:46.574Z"
   },
   {
    "duration": 34,
    "start_time": "2022-02-09T18:34:47.880Z"
   },
   {
    "duration": 16,
    "start_time": "2022-02-09T18:34:53.053Z"
   },
   {
    "duration": 37,
    "start_time": "2022-02-09T18:34:54.437Z"
   },
   {
    "duration": 4,
    "start_time": "2022-02-09T18:35:23.702Z"
   },
   {
    "duration": 5,
    "start_time": "2022-02-09T18:35:24.743Z"
   },
   {
    "duration": 5,
    "start_time": "2022-02-09T18:35:25.238Z"
   },
   {
    "duration": 3,
    "start_time": "2022-02-09T18:35:25.584Z"
   },
   {
    "duration": 1636,
    "start_time": "2022-02-09T18:35:26.845Z"
   },
   {
    "duration": 14898,
    "start_time": "2022-02-09T18:35:28.483Z"
   },
   {
    "duration": 16,
    "start_time": "2022-02-09T18:35:43.383Z"
   },
   {
    "duration": 33,
    "start_time": "2022-02-09T18:35:43.401Z"
   },
   {
    "duration": 9,
    "start_time": "2022-02-09T18:35:43.435Z"
   },
   {
    "duration": 37,
    "start_time": "2022-02-09T18:35:43.445Z"
   },
   {
    "duration": 4,
    "start_time": "2022-02-09T18:35:48.037Z"
   },
   {
    "duration": 39,
    "start_time": "2022-02-09T18:35:49.239Z"
   },
   {
    "duration": 36,
    "start_time": "2022-02-09T18:35:51.342Z"
   },
   {
    "duration": 7,
    "start_time": "2022-02-09T18:36:14.531Z"
   },
   {
    "duration": 13,
    "start_time": "2022-02-09T18:36:16.990Z"
   },
   {
    "duration": 40,
    "start_time": "2022-02-09T18:36:17.575Z"
   },
   {
    "duration": 6,
    "start_time": "2022-02-09T18:36:18.400Z"
   },
   {
    "duration": 16,
    "start_time": "2022-02-09T18:36:19.549Z"
   },
   {
    "duration": 15,
    "start_time": "2022-02-09T18:36:20.347Z"
   },
   {
    "duration": 60,
    "start_time": "2022-02-09T18:36:21.176Z"
   },
   {
    "duration": 18,
    "start_time": "2022-02-09T18:36:23.328Z"
   },
   {
    "duration": 30,
    "start_time": "2022-02-09T18:36:24.206Z"
   },
   {
    "duration": 36,
    "start_time": "2022-02-09T18:37:03.891Z"
   },
   {
    "duration": 5,
    "start_time": "2022-02-09T18:40:17.710Z"
   },
   {
    "duration": 7,
    "start_time": "2022-02-09T18:40:33.918Z"
   },
   {
    "duration": 38,
    "start_time": "2022-02-09T18:41:32.273Z"
   },
   {
    "duration": 36,
    "start_time": "2022-02-09T18:41:33.382Z"
   },
   {
    "duration": 3,
    "start_time": "2022-02-09T18:41:44.385Z"
   },
   {
    "duration": 4,
    "start_time": "2022-02-09T18:41:45.218Z"
   },
   {
    "duration": 6,
    "start_time": "2022-02-09T18:41:45.776Z"
   },
   {
    "duration": 3,
    "start_time": "2022-02-09T18:41:46.468Z"
   },
   {
    "duration": 1444,
    "start_time": "2022-02-09T18:41:47.481Z"
   },
   {
    "duration": 15126,
    "start_time": "2022-02-09T18:41:48.927Z"
   },
   {
    "duration": 16,
    "start_time": "2022-02-09T18:42:04.055Z"
   },
   {
    "duration": 31,
    "start_time": "2022-02-09T18:42:04.074Z"
   },
   {
    "duration": 9,
    "start_time": "2022-02-09T18:42:04.108Z"
   },
   {
    "duration": 37,
    "start_time": "2022-02-09T18:42:04.118Z"
   },
   {
    "duration": 13,
    "start_time": "2022-02-09T18:42:04.157Z"
   },
   {
    "duration": 47,
    "start_time": "2022-02-09T18:42:04.173Z"
   },
   {
    "duration": 103,
    "start_time": "2022-02-09T18:42:04.222Z"
   },
   {
    "duration": 91,
    "start_time": "2022-02-09T18:42:04.328Z"
   },
   {
    "duration": 110,
    "start_time": "2022-02-09T18:42:04.422Z"
   },
   {
    "duration": 39,
    "start_time": "2022-02-09T18:42:48.459Z"
   },
   {
    "duration": 7,
    "start_time": "2022-02-09T18:42:55.785Z"
   },
   {
    "duration": 13,
    "start_time": "2022-02-09T18:42:56.394Z"
   },
   {
    "duration": 11,
    "start_time": "2022-02-09T18:42:57.043Z"
   },
   {
    "duration": 36,
    "start_time": "2022-02-09T18:42:57.803Z"
   },
   {
    "duration": 18,
    "start_time": "2022-02-09T18:43:00.529Z"
   },
   {
    "duration": 35,
    "start_time": "2022-02-09T18:43:15.522Z"
   },
   {
    "duration": 127,
    "start_time": "2022-02-09T18:43:33.760Z"
   },
   {
    "duration": 386,
    "start_time": "2022-02-09T18:43:41.305Z"
   },
   {
    "duration": 366,
    "start_time": "2022-02-09T18:43:58.842Z"
   },
   {
    "duration": 405,
    "start_time": "2022-02-09T18:44:06.950Z"
   },
   {
    "duration": 239,
    "start_time": "2022-02-09T18:47:22.607Z"
   },
   {
    "duration": 471,
    "start_time": "2022-02-09T18:47:47.020Z"
   },
   {
    "duration": 5423,
    "start_time": "2022-02-09T18:54:12.495Z"
   },
   {
    "duration": 9,
    "start_time": "2022-02-09T18:55:00.255Z"
   },
   {
    "duration": 205,
    "start_time": "2022-02-09T19:05:37.698Z"
   },
   {
    "duration": 234,
    "start_time": "2022-02-09T19:05:57.019Z"
   },
   {
    "duration": 288,
    "start_time": "2022-02-09T19:06:33.823Z"
   },
   {
    "duration": 239,
    "start_time": "2022-02-09T19:07:01.456Z"
   },
   {
    "duration": 239,
    "start_time": "2022-02-09T19:07:23.231Z"
   },
   {
    "duration": 229,
    "start_time": "2022-02-09T19:07:32.265Z"
   },
   {
    "duration": 12,
    "start_time": "2022-02-09T19:11:14.890Z"
   },
   {
    "duration": 11,
    "start_time": "2022-02-09T19:11:17.860Z"
   },
   {
    "duration": 15,
    "start_time": "2022-02-09T19:12:25.221Z"
   },
   {
    "duration": 13,
    "start_time": "2022-02-09T19:12:27.944Z"
   },
   {
    "duration": 224,
    "start_time": "2022-02-09T19:14:25.989Z"
   },
   {
    "duration": 298,
    "start_time": "2022-02-09T19:14:36.102Z"
   },
   {
    "duration": 14,
    "start_time": "2022-02-09T19:14:49.797Z"
   },
   {
    "duration": 15,
    "start_time": "2022-02-09T19:14:57.032Z"
   },
   {
    "duration": 14,
    "start_time": "2022-02-09T19:15:09.204Z"
   },
   {
    "duration": 9,
    "start_time": "2022-02-09T19:15:09.808Z"
   },
   {
    "duration": 238,
    "start_time": "2022-02-09T19:16:15.694Z"
   },
   {
    "duration": 15,
    "start_time": "2022-02-09T19:17:10.435Z"
   },
   {
    "duration": 64,
    "start_time": "2022-02-09T19:17:44.289Z"
   },
   {
    "duration": 84,
    "start_time": "2022-02-09T19:17:50.510Z"
   },
   {
    "duration": 14,
    "start_time": "2022-02-09T19:18:00.611Z"
   },
   {
    "duration": 4982,
    "start_time": "2022-02-09T19:19:10.296Z"
   },
   {
    "duration": 14,
    "start_time": "2022-02-09T19:19:24.746Z"
   },
   {
    "duration": 217,
    "start_time": "2022-02-09T19:25:50.774Z"
   },
   {
    "duration": 209,
    "start_time": "2022-02-09T19:25:59.242Z"
   },
   {
    "duration": 21,
    "start_time": "2022-02-09T19:26:20.178Z"
   },
   {
    "duration": 13,
    "start_time": "2022-02-09T19:26:30.349Z"
   },
   {
    "duration": 8,
    "start_time": "2022-02-09T19:26:31.725Z"
   },
   {
    "duration": 15,
    "start_time": "2022-02-09T19:26:46.193Z"
   },
   {
    "duration": 10,
    "start_time": "2022-02-09T19:26:47.906Z"
   },
   {
    "duration": 15,
    "start_time": "2022-02-09T19:26:57.324Z"
   },
   {
    "duration": 8,
    "start_time": "2022-02-09T19:27:00.627Z"
   },
   {
    "duration": 14,
    "start_time": "2022-02-09T19:27:22.979Z"
   },
   {
    "duration": 9,
    "start_time": "2022-02-09T19:27:24.611Z"
   },
   {
    "duration": 15,
    "start_time": "2022-02-09T19:27:34.466Z"
   },
   {
    "duration": 9,
    "start_time": "2022-02-09T19:27:35.975Z"
   },
   {
    "duration": 15,
    "start_time": "2022-02-09T19:30:21.870Z"
   },
   {
    "duration": 8,
    "start_time": "2022-02-09T19:30:26.452Z"
   },
   {
    "duration": 14,
    "start_time": "2022-02-09T19:31:17.340Z"
   },
   {
    "duration": 8,
    "start_time": "2022-02-09T19:31:18.933Z"
   },
   {
    "duration": 14,
    "start_time": "2022-02-09T19:31:47.901Z"
   },
   {
    "duration": 8,
    "start_time": "2022-02-09T19:31:48.652Z"
   },
   {
    "duration": 14,
    "start_time": "2022-02-09T19:31:49.507Z"
   },
   {
    "duration": 9,
    "start_time": "2022-02-09T19:31:50.326Z"
   },
   {
    "duration": 15,
    "start_time": "2022-02-09T19:32:15.892Z"
   },
   {
    "duration": 9,
    "start_time": "2022-02-09T19:32:16.780Z"
   },
   {
    "duration": 13,
    "start_time": "2022-02-09T19:37:04.955Z"
   },
   {
    "duration": 10,
    "start_time": "2022-02-09T19:37:07.470Z"
   },
   {
    "duration": 13,
    "start_time": "2022-02-09T19:37:11.647Z"
   },
   {
    "duration": 8,
    "start_time": "2022-02-09T19:37:13.019Z"
   },
   {
    "duration": 781,
    "start_time": "2022-02-09T19:41:59.181Z"
   },
   {
    "duration": 234,
    "start_time": "2022-02-09T19:44:54.881Z"
   },
   {
    "duration": 15,
    "start_time": "2022-02-09T19:45:02.195Z"
   },
   {
    "duration": 8,
    "start_time": "2022-02-09T19:45:05.234Z"
   },
   {
    "duration": 913,
    "start_time": "2022-02-09T19:50:53.503Z"
   },
   {
    "duration": 979,
    "start_time": "2022-02-09T19:51:39.143Z"
   },
   {
    "duration": 15,
    "start_time": "2022-02-09T19:51:59.926Z"
   },
   {
    "duration": 9,
    "start_time": "2022-02-09T19:52:00.476Z"
   },
   {
    "duration": 15,
    "start_time": "2022-02-09T19:52:01.443Z"
   },
   {
    "duration": 9,
    "start_time": "2022-02-09T19:52:02.189Z"
   },
   {
    "duration": 808,
    "start_time": "2022-02-09T19:52:04.944Z"
   },
   {
    "duration": 16,
    "start_time": "2022-02-09T19:53:05.989Z"
   },
   {
    "duration": 8,
    "start_time": "2022-02-09T19:53:07.278Z"
   },
   {
    "duration": 17,
    "start_time": "2022-02-09T19:53:19.624Z"
   },
   {
    "duration": 9,
    "start_time": "2022-02-09T19:53:20.164Z"
   },
   {
    "duration": 603,
    "start_time": "2022-02-09T19:53:26.012Z"
   },
   {
    "duration": 389,
    "start_time": "2022-02-09T19:53:55.045Z"
   },
   {
    "duration": 348,
    "start_time": "2022-02-09T19:54:25.997Z"
   },
   {
    "duration": 514,
    "start_time": "2022-02-09T19:56:15.605Z"
   },
   {
    "duration": 320,
    "start_time": "2022-02-09T19:56:28.030Z"
   },
   {
    "duration": 17,
    "start_time": "2022-02-09T19:57:43.773Z"
   },
   {
    "duration": 10,
    "start_time": "2022-02-09T19:57:44.358Z"
   },
   {
    "duration": 332,
    "start_time": "2022-02-09T19:58:25.025Z"
   },
   {
    "duration": 315,
    "start_time": "2022-02-09T19:58:44.311Z"
   },
   {
    "duration": 288,
    "start_time": "2022-02-09T19:59:27.478Z"
   },
   {
    "duration": 301,
    "start_time": "2022-02-09T19:59:40.176Z"
   },
   {
    "duration": 252,
    "start_time": "2022-02-09T19:59:48.247Z"
   },
   {
    "duration": 25,
    "start_time": "2022-02-09T20:05:10.256Z"
   },
   {
    "duration": 8,
    "start_time": "2022-02-09T20:05:11.104Z"
   },
   {
    "duration": 15,
    "start_time": "2022-02-09T20:05:20.288Z"
   },
   {
    "duration": 9,
    "start_time": "2022-02-09T20:05:21.188Z"
   },
   {
    "duration": 720,
    "start_time": "2022-02-09T20:11:21.238Z"
   },
   {
    "duration": 292,
    "start_time": "2022-02-09T20:11:37.147Z"
   },
   {
    "duration": 302,
    "start_time": "2022-02-09T20:24:31.046Z"
   },
   {
    "duration": 67,
    "start_time": "2022-02-09T20:28:07.987Z"
   },
   {
    "duration": 73,
    "start_time": "2022-02-09T20:28:21.626Z"
   },
   {
    "duration": 323,
    "start_time": "2022-02-09T20:28:25.937Z"
   },
   {
    "duration": 271,
    "start_time": "2022-02-09T20:28:52.171Z"
   },
   {
    "duration": 351,
    "start_time": "2022-02-09T20:29:01.793Z"
   },
   {
    "duration": 19,
    "start_time": "2022-02-09T20:34:40.966Z"
   },
   {
    "duration": 9,
    "start_time": "2022-02-09T20:34:41.740Z"
   },
   {
    "duration": 6401,
    "start_time": "2022-02-09T20:34:44.500Z"
   },
   {
    "duration": 451,
    "start_time": "2022-02-09T20:35:12.700Z"
   },
   {
    "duration": 374,
    "start_time": "2022-02-09T20:35:24.965Z"
   },
   {
    "duration": 596,
    "start_time": "2022-02-09T20:35:35.965Z"
   },
   {
    "duration": 372,
    "start_time": "2022-02-09T20:35:53.133Z"
   },
   {
    "duration": 399,
    "start_time": "2022-02-09T20:36:02.029Z"
   },
   {
    "duration": 382,
    "start_time": "2022-02-09T20:37:29.157Z"
   },
   {
    "duration": 363,
    "start_time": "2022-02-09T20:37:42.695Z"
   },
   {
    "duration": 418,
    "start_time": "2022-02-09T20:37:51.796Z"
   },
   {
    "duration": 345,
    "start_time": "2022-02-09T20:38:34.246Z"
   },
   {
    "duration": 468,
    "start_time": "2022-02-09T20:39:38.806Z"
   },
   {
    "duration": 16,
    "start_time": "2022-02-09T20:39:46.621Z"
   },
   {
    "duration": 11,
    "start_time": "2022-02-09T20:39:47.406Z"
   },
   {
    "duration": 6575,
    "start_time": "2022-02-09T20:39:53.237Z"
   },
   {
    "duration": 604,
    "start_time": "2022-02-09T20:40:22.689Z"
   },
   {
    "duration": 569,
    "start_time": "2022-02-09T20:42:52.447Z"
   },
   {
    "duration": 203,
    "start_time": "2022-02-09T20:43:58.697Z"
   },
   {
    "duration": 213,
    "start_time": "2022-02-09T20:44:57.467Z"
   },
   {
    "duration": 224,
    "start_time": "2022-02-09T20:45:30.093Z"
   },
   {
    "duration": 217,
    "start_time": "2022-02-09T20:46:28.835Z"
   },
   {
    "duration": 9,
    "start_time": "2022-02-09T20:46:46.162Z"
   },
   {
    "duration": 630,
    "start_time": "2022-02-09T20:47:56.715Z"
   },
   {
    "duration": 233,
    "start_time": "2022-02-09T20:48:27.804Z"
   },
   {
    "duration": 570,
    "start_time": "2022-02-09T20:50:57.011Z"
   },
   {
    "duration": 695,
    "start_time": "2022-02-09T20:51:08.212Z"
   },
   {
    "duration": 44,
    "start_time": "2022-02-09T20:54:48.908Z"
   },
   {
    "duration": 40,
    "start_time": "2022-02-09T20:55:09.183Z"
   },
   {
    "duration": 27,
    "start_time": "2022-02-09T20:55:36.933Z"
   },
   {
    "duration": 25,
    "start_time": "2022-02-09T20:56:04.276Z"
   },
   {
    "duration": 27,
    "start_time": "2022-02-09T20:56:28.820Z"
   },
   {
    "duration": 259,
    "start_time": "2022-02-09T20:56:55.856Z"
   },
   {
    "duration": 32,
    "start_time": "2022-02-09T20:57:41.029Z"
   },
   {
    "duration": 103,
    "start_time": "2022-02-09T20:57:57.180Z"
   },
   {
    "duration": 29,
    "start_time": "2022-02-09T20:58:27.759Z"
   },
   {
    "duration": 27,
    "start_time": "2022-02-09T20:58:45.621Z"
   },
   {
    "duration": 1263,
    "start_time": "2022-02-09T20:59:34.360Z"
   },
   {
    "duration": 4,
    "start_time": "2022-02-09T20:59:35.626Z"
   },
   {
    "duration": 23,
    "start_time": "2022-02-09T20:59:35.633Z"
   },
   {
    "duration": 13,
    "start_time": "2022-02-09T20:59:35.659Z"
   },
   {
    "duration": 1492,
    "start_time": "2022-02-09T20:59:35.674Z"
   },
   {
    "duration": 14708,
    "start_time": "2022-02-09T20:59:37.168Z"
   },
   {
    "duration": 18,
    "start_time": "2022-02-09T20:59:51.879Z"
   },
   {
    "duration": 35,
    "start_time": "2022-02-09T20:59:51.901Z"
   },
   {
    "duration": 4,
    "start_time": "2022-02-09T20:59:51.939Z"
   },
   {
    "duration": 41,
    "start_time": "2022-02-09T20:59:51.945Z"
   },
   {
    "duration": 3,
    "start_time": "2022-02-09T20:59:51.988Z"
   },
   {
    "duration": 45,
    "start_time": "2022-02-09T20:59:51.993Z"
   },
   {
    "duration": 27,
    "start_time": "2022-02-09T20:59:52.040Z"
   },
   {
    "duration": 7,
    "start_time": "2022-02-09T20:59:52.069Z"
   },
   {
    "duration": 42,
    "start_time": "2022-02-09T20:59:52.078Z"
   },
   {
    "duration": 39,
    "start_time": "2022-02-09T20:59:52.122Z"
   },
   {
    "duration": 6,
    "start_time": "2022-02-09T20:59:52.163Z"
   },
   {
    "duration": 18,
    "start_time": "2022-02-09T20:59:52.171Z"
   },
   {
    "duration": 11,
    "start_time": "2022-02-09T20:59:52.207Z"
   },
   {
    "duration": 30,
    "start_time": "2022-02-09T20:59:52.220Z"
   },
   {
    "duration": 17,
    "start_time": "2022-02-09T20:59:52.252Z"
   },
   {
    "duration": 309,
    "start_time": "2022-02-09T20:59:52.271Z"
   },
   {
    "duration": -2840,
    "start_time": "2022-02-09T20:59:55.423Z"
   },
   {
    "duration": -2846,
    "start_time": "2022-02-09T20:59:55.431Z"
   },
   {
    "duration": -2855,
    "start_time": "2022-02-09T20:59:55.441Z"
   },
   {
    "duration": -2863,
    "start_time": "2022-02-09T20:59:55.450Z"
   },
   {
    "duration": -2870,
    "start_time": "2022-02-09T20:59:55.458Z"
   },
   {
    "duration": -2878,
    "start_time": "2022-02-09T20:59:55.467Z"
   },
   {
    "duration": -2884,
    "start_time": "2022-02-09T20:59:55.475Z"
   },
   {
    "duration": -2932,
    "start_time": "2022-02-09T20:59:55.524Z"
   },
   {
    "duration": -2942,
    "start_time": "2022-02-09T20:59:55.535Z"
   },
   {
    "duration": -2950,
    "start_time": "2022-02-09T20:59:55.544Z"
   },
   {
    "duration": -2957,
    "start_time": "2022-02-09T20:59:55.552Z"
   },
   {
    "duration": -2964,
    "start_time": "2022-02-09T20:59:55.561Z"
   },
   {
    "duration": -2971,
    "start_time": "2022-02-09T20:59:55.569Z"
   },
   {
    "duration": -2977,
    "start_time": "2022-02-09T20:59:55.576Z"
   },
   {
    "duration": -2984,
    "start_time": "2022-02-09T20:59:55.584Z"
   },
   {
    "duration": -2990,
    "start_time": "2022-02-09T20:59:55.592Z"
   },
   {
    "duration": -2997,
    "start_time": "2022-02-09T20:59:55.600Z"
   },
   {
    "duration": 26,
    "start_time": "2022-02-09T21:00:25.721Z"
   },
   {
    "duration": 139,
    "start_time": "2022-02-09T21:00:28.767Z"
   },
   {
    "duration": 411,
    "start_time": "2022-02-09T21:00:29.816Z"
   },
   {
    "duration": 409,
    "start_time": "2022-02-09T21:00:31.504Z"
   },
   {
    "duration": 431,
    "start_time": "2022-02-09T21:00:32.792Z"
   },
   {
    "duration": 392,
    "start_time": "2022-02-09T21:00:34.974Z"
   },
   {
    "duration": 3,
    "start_time": "2022-02-09T21:00:35.782Z"
   },
   {
    "duration": 13,
    "start_time": "2022-02-09T21:00:41.142Z"
   },
   {
    "duration": 16,
    "start_time": "2022-02-09T21:00:44.414Z"
   },
   {
    "duration": 10,
    "start_time": "2022-02-09T21:00:45.255Z"
   },
   {
    "duration": 15,
    "start_time": "2022-02-09T21:00:51.761Z"
   },
   {
    "duration": 10,
    "start_time": "2022-02-09T21:00:53.375Z"
   },
   {
    "duration": 18,
    "start_time": "2022-02-09T21:00:58.097Z"
   },
   {
    "duration": 10,
    "start_time": "2022-02-09T21:00:59.023Z"
   },
   {
    "duration": 529,
    "start_time": "2022-02-09T21:01:02.339Z"
   },
   {
    "duration": 596,
    "start_time": "2022-02-09T21:01:06.479Z"
   },
   {
    "duration": 53,
    "start_time": "2022-02-09T21:01:09.209Z"
   },
   {
    "duration": 24,
    "start_time": "2022-02-09T21:01:14.456Z"
   },
   {
    "duration": 29,
    "start_time": "2022-02-09T21:02:02.660Z"
   },
   {
    "duration": 117,
    "start_time": "2022-02-09T21:02:34.865Z"
   },
   {
    "duration": 23,
    "start_time": "2022-02-09T21:03:24.818Z"
   },
   {
    "duration": 24,
    "start_time": "2022-02-09T21:03:55.306Z"
   },
   {
    "duration": 23,
    "start_time": "2022-02-09T21:05:05.627Z"
   },
   {
    "duration": 24,
    "start_time": "2022-02-09T21:05:42.091Z"
   },
   {
    "duration": 22,
    "start_time": "2022-02-09T21:06:06.070Z"
   },
   {
    "duration": 6,
    "start_time": "2022-02-09T21:15:37.333Z"
   },
   {
    "duration": 47,
    "start_time": "2022-02-09T21:15:38.278Z"
   },
   {
    "duration": 6,
    "start_time": "2022-02-09T21:16:40.360Z"
   },
   {
    "duration": 133,
    "start_time": "2022-02-09T21:18:32.813Z"
   },
   {
    "duration": 69,
    "start_time": "2022-02-09T21:22:00.787Z"
   },
   {
    "duration": 137,
    "start_time": "2022-02-09T21:22:19.700Z"
   },
   {
    "duration": 206,
    "start_time": "2022-02-09T21:22:39.664Z"
   },
   {
    "duration": 203748,
    "start_time": "2022-02-09T21:26:12.582Z"
   },
   {
    "duration": 7,
    "start_time": "2022-02-09T21:29:42.294Z"
   },
   {
    "duration": 16,
    "start_time": "2022-02-09T21:32:17.052Z"
   },
   {
    "duration": 229,
    "start_time": "2022-02-09T21:36:09.974Z"
   },
   {
    "duration": 17,
    "start_time": "2022-02-09T21:36:37.020Z"
   },
   {
    "duration": 1300,
    "start_time": "2022-02-09T21:38:22.817Z"
   },
   {
    "duration": 5,
    "start_time": "2022-02-09T21:38:24.119Z"
   },
   {
    "duration": 11,
    "start_time": "2022-02-09T21:38:24.126Z"
   },
   {
    "duration": 14,
    "start_time": "2022-02-09T21:38:24.139Z"
   },
   {
    "duration": 1408,
    "start_time": "2022-02-09T21:38:24.155Z"
   },
   {
    "duration": 13662,
    "start_time": "2022-02-09T21:38:25.565Z"
   },
   {
    "duration": 19,
    "start_time": "2022-02-09T21:38:39.229Z"
   },
   {
    "duration": 57,
    "start_time": "2022-02-09T21:38:39.252Z"
   },
   {
    "duration": 4,
    "start_time": "2022-02-09T21:38:39.312Z"
   },
   {
    "duration": 41,
    "start_time": "2022-02-09T21:38:39.318Z"
   },
   {
    "duration": 4,
    "start_time": "2022-02-09T21:38:39.361Z"
   },
   {
    "duration": 67,
    "start_time": "2022-02-09T21:38:39.368Z"
   },
   {
    "duration": 32,
    "start_time": "2022-02-09T21:38:39.437Z"
   },
   {
    "duration": 11,
    "start_time": "2022-02-09T21:38:39.471Z"
   },
   {
    "duration": 27,
    "start_time": "2022-02-09T21:38:39.484Z"
   },
   {
    "duration": 30,
    "start_time": "2022-02-09T21:38:39.513Z"
   },
   {
    "duration": 6,
    "start_time": "2022-02-09T21:38:39.545Z"
   },
   {
    "duration": 19,
    "start_time": "2022-02-09T21:38:39.553Z"
   },
   {
    "duration": 40,
    "start_time": "2022-02-09T21:38:39.574Z"
   },
   {
    "duration": 32,
    "start_time": "2022-02-09T21:38:39.616Z"
   },
   {
    "duration": 19,
    "start_time": "2022-02-09T21:38:39.651Z"
   },
   {
    "duration": 55,
    "start_time": "2022-02-09T21:38:39.672Z"
   },
   {
    "duration": 167,
    "start_time": "2022-02-09T21:38:39.733Z"
   },
   {
    "duration": 406,
    "start_time": "2022-02-09T21:38:39.907Z"
   },
   {
    "duration": 388,
    "start_time": "2022-02-09T21:38:40.315Z"
   },
   {
    "duration": 403,
    "start_time": "2022-02-09T21:38:40.707Z"
   },
   {
    "duration": 402,
    "start_time": "2022-02-09T21:38:41.112Z"
   },
   {
    "duration": 2,
    "start_time": "2022-02-09T21:38:41.516Z"
   },
   {
    "duration": 15,
    "start_time": "2022-02-09T21:38:41.520Z"
   },
   {
    "duration": 16,
    "start_time": "2022-02-09T21:38:41.537Z"
   },
   {
    "duration": 8,
    "start_time": "2022-02-09T21:38:41.555Z"
   },
   {
    "duration": 45,
    "start_time": "2022-02-09T21:38:41.565Z"
   },
   {
    "duration": 8,
    "start_time": "2022-02-09T21:38:41.612Z"
   },
   {
    "duration": 15,
    "start_time": "2022-02-09T21:38:41.622Z"
   },
   {
    "duration": 8,
    "start_time": "2022-02-09T21:38:41.639Z"
   },
   {
    "duration": 506,
    "start_time": "2022-02-09T21:38:41.649Z"
   },
   {
    "duration": 616,
    "start_time": "2022-02-09T21:38:42.157Z"
   },
   {
    "duration": 68,
    "start_time": "2022-02-09T21:38:42.775Z"
   },
   {
    "duration": -3450,
    "start_time": "2022-02-09T21:38:46.295Z"
   },
   {
    "duration": -3477,
    "start_time": "2022-02-09T21:38:46.324Z"
   },
   {
    "duration": -3515,
    "start_time": "2022-02-09T21:38:46.363Z"
   },
   {
    "duration": -3552,
    "start_time": "2022-02-09T21:38:46.401Z"
   },
   {
    "duration": -3560,
    "start_time": "2022-02-09T21:38:46.410Z"
   },
   {
    "duration": -3567,
    "start_time": "2022-02-09T21:38:46.418Z"
   },
   {
    "duration": -3574,
    "start_time": "2022-02-09T21:38:46.426Z"
   },
   {
    "duration": -3581,
    "start_time": "2022-02-09T21:38:46.434Z"
   },
   {
    "duration": -3589,
    "start_time": "2022-02-09T21:38:46.443Z"
   },
   {
    "duration": 26,
    "start_time": "2022-02-09T21:39:07.725Z"
   },
   {
    "duration": 23,
    "start_time": "2022-02-09T21:39:10.772Z"
   },
   {
    "duration": 3,
    "start_time": "2022-02-09T21:39:17.539Z"
   },
   {
    "duration": 6,
    "start_time": "2022-02-09T21:39:21.675Z"
   },
   {
    "duration": 6,
    "start_time": "2022-02-09T21:39:22.765Z"
   },
   {
    "duration": 119,
    "start_time": "2022-02-09T21:39:24.748Z"
   },
   {
    "duration": 278,
    "start_time": "2022-02-09T21:39:32.411Z"
   },
   {
    "duration": 193393,
    "start_time": "2022-02-09T21:39:35.667Z"
   },
   {
    "duration": 7,
    "start_time": "2022-02-09T21:42:49.062Z"
   },
   {
    "duration": 17,
    "start_time": "2022-02-09T21:42:57.220Z"
   },
   {
    "duration": 19,
    "start_time": "2022-02-09T21:43:55.890Z"
   },
   {
    "duration": 18,
    "start_time": "2022-02-09T21:44:48.571Z"
   },
   {
    "duration": 30,
    "start_time": "2022-02-09T21:49:00.183Z"
   },
   {
    "duration": 17,
    "start_time": "2022-02-09T21:52:31.962Z"
   },
   {
    "duration": 17,
    "start_time": "2022-02-09T21:53:00.172Z"
   },
   {
    "duration": 62,
    "start_time": "2022-02-09T21:58:42.559Z"
   },
   {
    "duration": 66,
    "start_time": "2022-02-09T21:58:50.851Z"
   },
   {
    "duration": 64,
    "start_time": "2022-02-09T21:59:55.724Z"
   },
   {
    "duration": 76,
    "start_time": "2022-02-09T22:00:22.244Z"
   },
   {
    "duration": 64,
    "start_time": "2022-02-09T22:01:13.540Z"
   },
   {
    "duration": 66,
    "start_time": "2022-02-09T22:11:23.498Z"
   },
   {
    "duration": 68,
    "start_time": "2022-02-09T22:12:42.130Z"
   },
   {
    "duration": 76,
    "start_time": "2022-02-09T22:19:16.051Z"
   },
   {
    "duration": 152356,
    "start_time": "2022-02-09T22:20:44.299Z"
   },
   {
    "duration": 5,
    "start_time": "2022-02-09T22:23:41.071Z"
   },
   {
    "duration": 5,
    "start_time": "2022-02-09T22:23:51.773Z"
   },
   {
    "duration": 7,
    "start_time": "2022-02-09T22:23:57.211Z"
   },
   {
    "duration": 1637,
    "start_time": "2022-02-10T07:45:36.826Z"
   },
   {
    "duration": 5,
    "start_time": "2022-02-10T07:45:38.465Z"
   },
   {
    "duration": 11,
    "start_time": "2022-02-10T07:45:38.473Z"
   },
   {
    "duration": 13,
    "start_time": "2022-02-10T07:45:38.487Z"
   },
   {
    "duration": 1743,
    "start_time": "2022-02-10T07:45:38.503Z"
   },
   {
    "duration": 19016,
    "start_time": "2022-02-10T07:45:40.249Z"
   },
   {
    "duration": 20,
    "start_time": "2022-02-10T07:45:59.267Z"
   },
   {
    "duration": 53,
    "start_time": "2022-02-10T07:45:59.291Z"
   },
   {
    "duration": 4,
    "start_time": "2022-02-10T07:45:59.370Z"
   },
   {
    "duration": 60,
    "start_time": "2022-02-10T07:45:59.376Z"
   },
   {
    "duration": 31,
    "start_time": "2022-02-10T07:45:59.439Z"
   },
   {
    "duration": 53,
    "start_time": "2022-02-10T07:45:59.473Z"
   },
   {
    "duration": 61,
    "start_time": "2022-02-10T07:45:59.528Z"
   },
   {
    "duration": 8,
    "start_time": "2022-02-10T07:45:59.591Z"
   },
   {
    "duration": 13,
    "start_time": "2022-02-10T07:45:59.601Z"
   },
   {
    "duration": 68,
    "start_time": "2022-02-10T07:45:59.616Z"
   },
   {
    "duration": 17,
    "start_time": "2022-02-10T07:45:59.686Z"
   },
   {
    "duration": 36,
    "start_time": "2022-02-10T07:45:59.706Z"
   },
   {
    "duration": 24,
    "start_time": "2022-02-10T07:45:59.745Z"
   },
   {
    "duration": 40,
    "start_time": "2022-02-10T07:45:59.771Z"
   },
   {
    "duration": 42,
    "start_time": "2022-02-10T07:45:59.814Z"
   },
   {
    "duration": 45,
    "start_time": "2022-02-10T07:45:59.859Z"
   },
   {
    "duration": 231,
    "start_time": "2022-02-10T07:45:59.910Z"
   },
   {
    "duration": 615,
    "start_time": "2022-02-10T07:46:00.145Z"
   },
   {
    "duration": 639,
    "start_time": "2022-02-10T07:46:00.763Z"
   },
   {
    "duration": 628,
    "start_time": "2022-02-10T07:46:01.405Z"
   },
   {
    "duration": 642,
    "start_time": "2022-02-10T07:46:02.035Z"
   },
   {
    "duration": 4,
    "start_time": "2022-02-10T07:46:02.680Z"
   },
   {
    "duration": 37,
    "start_time": "2022-02-10T07:46:02.687Z"
   },
   {
    "duration": 24,
    "start_time": "2022-02-10T07:46:02.727Z"
   },
   {
    "duration": 26,
    "start_time": "2022-02-10T07:46:02.753Z"
   },
   {
    "duration": 23,
    "start_time": "2022-02-10T07:46:02.782Z"
   },
   {
    "duration": 12,
    "start_time": "2022-02-10T07:46:02.808Z"
   },
   {
    "duration": 63,
    "start_time": "2022-02-10T07:46:02.823Z"
   },
   {
    "duration": 14,
    "start_time": "2022-02-10T07:46:02.889Z"
   },
   {
    "duration": 792,
    "start_time": "2022-02-10T07:46:02.906Z"
   },
   {
    "duration": 950,
    "start_time": "2022-02-10T07:46:03.701Z"
   },
   {
    "duration": 46,
    "start_time": "2022-02-10T07:46:04.654Z"
   },
   {
    "duration": 32,
    "start_time": "2022-02-10T07:46:04.703Z"
   },
   {
    "duration": 31,
    "start_time": "2022-02-10T07:46:04.738Z"
   },
   {
    "duration": 10,
    "start_time": "2022-02-10T07:46:04.772Z"
   },
   {
    "duration": 9,
    "start_time": "2022-02-10T07:46:04.785Z"
   },
   {
    "duration": 96,
    "start_time": "2022-02-10T07:46:04.797Z"
   },
   {
    "duration": 176,
    "start_time": "2022-02-10T07:46:04.896Z"
   },
   {
    "duration": 295269,
    "start_time": "2022-02-10T07:46:05.075Z"
   },
   {
    "duration": 7,
    "start_time": "2022-02-10T07:51:00.347Z"
   },
   {
    "duration": 129,
    "start_time": "2022-02-10T07:51:00.357Z"
   },
   {
    "duration": -1804,
    "start_time": "2022-02-10T07:51:02.292Z"
   },
   {
    "duration": -1812,
    "start_time": "2022-02-10T07:51:02.302Z"
   },
   {
    "duration": 225465,
    "start_time": "2022-02-10T07:52:03.388Z"
   },
   {
    "duration": 5,
    "start_time": "2022-02-10T07:55:48.856Z"
   },
   {
    "duration": 95,
    "start_time": "2022-02-10T08:05:39.812Z"
   },
   {
    "duration": 107,
    "start_time": "2022-02-10T08:05:49.434Z"
   },
   {
    "duration": 101,
    "start_time": "2022-02-10T08:08:58.772Z"
   },
   {
    "duration": 112,
    "start_time": "2022-02-10T08:09:16.327Z"
   },
   {
    "duration": 24,
    "start_time": "2022-02-10T08:10:29.877Z"
   },
   {
    "duration": 99,
    "start_time": "2022-02-10T08:11:25.433Z"
   },
   {
    "duration": 24,
    "start_time": "2022-02-10T08:11:30.902Z"
   },
   {
    "duration": 1694,
    "start_time": "2022-02-10T08:12:15.163Z"
   },
   {
    "duration": 10,
    "start_time": "2022-02-10T08:12:16.859Z"
   },
   {
    "duration": 27,
    "start_time": "2022-02-10T08:12:16.872Z"
   },
   {
    "duration": 14,
    "start_time": "2022-02-10T08:12:16.902Z"
   },
   {
    "duration": 2766,
    "start_time": "2022-02-10T08:12:16.918Z"
   },
   {
    "duration": 20626,
    "start_time": "2022-02-10T08:12:19.687Z"
   },
   {
    "duration": 23,
    "start_time": "2022-02-10T08:12:40.315Z"
   },
   {
    "duration": 51,
    "start_time": "2022-02-10T08:12:40.342Z"
   },
   {
    "duration": 4,
    "start_time": "2022-02-10T08:12:40.396Z"
   },
   {
    "duration": 71,
    "start_time": "2022-02-10T08:12:40.402Z"
   },
   {
    "duration": 5,
    "start_time": "2022-02-10T08:12:40.475Z"
   },
   {
    "duration": 49,
    "start_time": "2022-02-10T08:12:40.482Z"
   },
   {
    "duration": 72,
    "start_time": "2022-02-10T08:12:40.533Z"
   },
   {
    "duration": 9,
    "start_time": "2022-02-10T08:12:40.607Z"
   },
   {
    "duration": 14,
    "start_time": "2022-02-10T08:12:40.619Z"
   },
   {
    "duration": 69,
    "start_time": "2022-02-10T08:12:40.635Z"
   },
   {
    "duration": 6,
    "start_time": "2022-02-10T08:12:40.706Z"
   },
   {
    "duration": 17,
    "start_time": "2022-02-10T08:12:40.715Z"
   },
   {
    "duration": 45,
    "start_time": "2022-02-10T08:12:40.735Z"
   },
   {
    "duration": 41,
    "start_time": "2022-02-10T08:12:40.783Z"
   },
   {
    "duration": 54,
    "start_time": "2022-02-10T08:12:40.826Z"
   },
   {
    "duration": 35,
    "start_time": "2022-02-10T08:12:40.882Z"
   },
   {
    "duration": 272,
    "start_time": "2022-02-10T08:12:40.923Z"
   },
   {
    "duration": 606,
    "start_time": "2022-02-10T08:12:41.198Z"
   },
   {
    "duration": 652,
    "start_time": "2022-02-10T08:12:41.806Z"
   },
   {
    "duration": 680,
    "start_time": "2022-02-10T08:12:42.461Z"
   },
   {
    "duration": 625,
    "start_time": "2022-02-10T08:12:43.144Z"
   },
   {
    "duration": 3,
    "start_time": "2022-02-10T08:12:43.772Z"
   },
   {
    "duration": 20,
    "start_time": "2022-02-10T08:12:43.777Z"
   },
   {
    "duration": 23,
    "start_time": "2022-02-10T08:12:43.799Z"
   },
   {
    "duration": 46,
    "start_time": "2022-02-10T08:12:43.825Z"
   },
   {
    "duration": 22,
    "start_time": "2022-02-10T08:12:43.874Z"
   },
   {
    "duration": 11,
    "start_time": "2022-02-10T08:12:43.898Z"
   },
   {
    "duration": 19,
    "start_time": "2022-02-10T08:12:43.912Z"
   },
   {
    "duration": 45,
    "start_time": "2022-02-10T08:12:43.934Z"
   },
   {
    "duration": 806,
    "start_time": "2022-02-10T08:12:43.981Z"
   },
   {
    "duration": 1020,
    "start_time": "2022-02-10T08:12:44.790Z"
   },
   {
    "duration": 35,
    "start_time": "2022-02-10T08:12:45.813Z"
   },
   {
    "duration": 49,
    "start_time": "2022-02-10T08:12:45.850Z"
   },
   {
    "duration": 3,
    "start_time": "2022-02-10T08:12:45.902Z"
   },
   {
    "duration": 8,
    "start_time": "2022-02-10T08:12:45.907Z"
   },
   {
    "duration": 8,
    "start_time": "2022-02-10T08:12:45.917Z"
   },
   {
    "duration": 207,
    "start_time": "2022-02-10T08:12:45.971Z"
   },
   {
    "duration": 277,
    "start_time": "2022-02-10T08:12:46.181Z"
   },
   {
    "duration": 301061,
    "start_time": "2022-02-10T08:12:46.460Z"
   },
   {
    "duration": 7,
    "start_time": "2022-02-10T08:17:47.523Z"
   },
   {
    "duration": 26,
    "start_time": "2022-02-10T08:17:47.533Z"
   },
   {
    "duration": 87296,
    "start_time": "2022-02-10T08:17:47.562Z"
   },
   {
    "duration": -1790,
    "start_time": "2022-02-10T08:19:16.651Z"
   },
   {
    "duration": 109,
    "start_time": "2022-02-10T08:24:57.916Z"
   },
   {
    "duration": 1543,
    "start_time": "2022-02-10T08:25:01.126Z"
   },
   {
    "duration": 338,
    "start_time": "2022-02-10T08:25:02.902Z"
   },
   {
    "duration": 33,
    "start_time": "2022-02-10T08:25:15.535Z"
   },
   {
    "duration": 2036,
    "start_time": "2022-02-10T08:25:25.959Z"
   },
   {
    "duration": 1604,
    "start_time": "2022-02-10T08:25:59.501Z"
   },
   {
    "duration": 1724,
    "start_time": "2022-02-10T08:28:20.035Z"
   },
   {
    "duration": 7,
    "start_time": "2022-02-10T08:28:21.762Z"
   },
   {
    "duration": 9,
    "start_time": "2022-02-10T08:28:21.772Z"
   },
   {
    "duration": 6,
    "start_time": "2022-02-10T08:28:21.784Z"
   },
   {
    "duration": 2763,
    "start_time": "2022-02-10T08:28:21.793Z"
   },
   {
    "duration": 21490,
    "start_time": "2022-02-10T08:28:24.559Z"
   },
   {
    "duration": 21,
    "start_time": "2022-02-10T08:28:46.052Z"
   },
   {
    "duration": 53,
    "start_time": "2022-02-10T08:28:46.077Z"
   },
   {
    "duration": 4,
    "start_time": "2022-02-10T08:28:46.134Z"
   },
   {
    "duration": 52,
    "start_time": "2022-02-10T08:28:46.169Z"
   },
   {
    "duration": 4,
    "start_time": "2022-02-10T08:28:46.223Z"
   },
   {
    "duration": 70,
    "start_time": "2022-02-10T08:28:46.229Z"
   },
   {
    "duration": 45,
    "start_time": "2022-02-10T08:28:46.302Z"
   },
   {
    "duration": 22,
    "start_time": "2022-02-10T08:28:46.349Z"
   },
   {
    "duration": 16,
    "start_time": "2022-02-10T08:28:46.373Z"
   },
   {
    "duration": 44,
    "start_time": "2022-02-10T08:28:46.391Z"
   },
   {
    "duration": 35,
    "start_time": "2022-02-10T08:28:46.438Z"
   },
   {
    "duration": 18,
    "start_time": "2022-02-10T08:28:46.475Z"
   },
   {
    "duration": 11,
    "start_time": "2022-02-10T08:28:46.496Z"
   },
   {
    "duration": 81,
    "start_time": "2022-02-10T08:28:46.509Z"
   },
   {
    "duration": 22,
    "start_time": "2022-02-10T08:28:46.593Z"
   },
   {
    "duration": 64,
    "start_time": "2022-02-10T08:28:46.618Z"
   },
   {
    "duration": 218,
    "start_time": "2022-02-10T08:28:46.688Z"
   },
   {
    "duration": 643,
    "start_time": "2022-02-10T08:28:46.909Z"
   },
   {
    "duration": 614,
    "start_time": "2022-02-10T08:28:47.556Z"
   },
   {
    "duration": 617,
    "start_time": "2022-02-10T08:28:48.173Z"
   },
   {
    "duration": 676,
    "start_time": "2022-02-10T08:28:48.793Z"
   },
   {
    "duration": 3,
    "start_time": "2022-02-10T08:28:49.471Z"
   },
   {
    "duration": 19,
    "start_time": "2022-02-10T08:28:49.477Z"
   },
   {
    "duration": 25,
    "start_time": "2022-02-10T08:28:49.498Z"
   },
   {
    "duration": 47,
    "start_time": "2022-02-10T08:28:49.526Z"
   },
   {
    "duration": 29,
    "start_time": "2022-02-10T08:28:49.576Z"
   },
   {
    "duration": 15,
    "start_time": "2022-02-10T08:28:49.608Z"
   },
   {
    "duration": 59,
    "start_time": "2022-02-10T08:28:49.625Z"
   },
   {
    "duration": 15,
    "start_time": "2022-02-10T08:28:49.687Z"
   },
   {
    "duration": 787,
    "start_time": "2022-02-10T08:28:49.705Z"
   },
   {
    "duration": 898,
    "start_time": "2022-02-10T08:28:50.495Z"
   },
   {
    "duration": 37,
    "start_time": "2022-02-10T08:28:51.396Z"
   },
   {
    "duration": 58,
    "start_time": "2022-02-10T08:28:51.435Z"
   },
   {
    "duration": 3,
    "start_time": "2022-02-10T08:28:51.496Z"
   },
   {
    "duration": 9,
    "start_time": "2022-02-10T08:28:51.502Z"
   },
   {
    "duration": 9,
    "start_time": "2022-02-10T08:28:51.513Z"
   },
   {
    "duration": 215,
    "start_time": "2022-02-10T08:28:51.569Z"
   },
   {
    "duration": 550,
    "start_time": "2022-02-10T08:28:51.788Z"
   },
   {
    "duration": -1758,
    "start_time": "2022-02-10T08:28:54.098Z"
   },
   {
    "duration": -1768,
    "start_time": "2022-02-10T08:28:54.110Z"
   },
   {
    "duration": -1776,
    "start_time": "2022-02-10T08:28:54.119Z"
   },
   {
    "duration": -1782,
    "start_time": "2022-02-10T08:28:54.127Z"
   },
   {
    "duration": -1789,
    "start_time": "2022-02-10T08:28:54.135Z"
   },
   {
    "duration": 616,
    "start_time": "2022-02-10T09:01:00.698Z"
   },
   {
    "duration": 76,
    "start_time": "2022-02-10T09:01:14.912Z"
   },
   {
    "duration": 474,
    "start_time": "2022-02-10T09:01:16.734Z"
   },
   {
    "duration": 35,
    "start_time": "2022-02-10T09:02:49.853Z"
   },
   {
    "duration": 30,
    "start_time": "2022-02-10T09:03:17.641Z"
   },
   {
    "duration": 126,
    "start_time": "2022-02-10T09:03:35.297Z"
   },
   {
    "duration": 509,
    "start_time": "2022-02-10T09:03:39.414Z"
   },
   {
    "duration": 1643,
    "start_time": "2022-02-10T09:11:18.657Z"
   },
   {
    "duration": 5,
    "start_time": "2022-02-10T09:11:21.185Z"
   },
   {
    "duration": 5,
    "start_time": "2022-02-10T09:11:23.202Z"
   },
   {
    "duration": 4,
    "start_time": "2022-02-10T09:11:24.248Z"
   },
   {
    "duration": 1996,
    "start_time": "2022-02-10T09:11:25.546Z"
   },
   {
    "duration": 23086,
    "start_time": "2022-02-10T09:11:27.545Z"
   },
   {
    "duration": 27,
    "start_time": "2022-02-10T09:11:50.634Z"
   },
   {
    "duration": 53,
    "start_time": "2022-02-10T09:11:50.664Z"
   },
   {
    "duration": 4,
    "start_time": "2022-02-10T09:11:50.720Z"
   },
   {
    "duration": 64,
    "start_time": "2022-02-10T09:11:50.726Z"
   },
   {
    "duration": 4,
    "start_time": "2022-02-10T09:12:01.723Z"
   },
   {
    "duration": 53,
    "start_time": "2022-02-10T09:12:02.738Z"
   },
   {
    "duration": 43,
    "start_time": "2022-02-10T09:12:05.746Z"
   },
   {
    "duration": 7,
    "start_time": "2022-02-10T09:12:10.307Z"
   },
   {
    "duration": 13,
    "start_time": "2022-02-10T09:12:13.570Z"
   },
   {
    "duration": 41,
    "start_time": "2022-02-10T09:12:13.937Z"
   },
   {
    "duration": 9,
    "start_time": "2022-02-10T09:12:16.836Z"
   },
   {
    "duration": 23,
    "start_time": "2022-02-10T09:12:17.443Z"
   },
   {
    "duration": 13,
    "start_time": "2022-02-10T09:12:21.171Z"
   },
   {
    "duration": 37,
    "start_time": "2022-02-10T09:12:21.434Z"
   },
   {
    "duration": 22,
    "start_time": "2022-02-10T09:12:22.875Z"
   },
   {
    "duration": 445,
    "start_time": "2022-02-10T09:12:26.282Z"
   },
   {
    "duration": 37,
    "start_time": "2022-02-10T09:13:01.220Z"
   },
   {
    "duration": 1711,
    "start_time": "2022-02-10T09:13:33.030Z"
   },
   {
    "duration": 5,
    "start_time": "2022-02-10T09:13:34.743Z"
   },
   {
    "duration": 4,
    "start_time": "2022-02-10T09:13:35.239Z"
   },
   {
    "duration": 4,
    "start_time": "2022-02-10T09:13:36.526Z"
   },
   {
    "duration": 3229,
    "start_time": "2022-02-10T09:13:37.869Z"
   },
   {
    "duration": 20387,
    "start_time": "2022-02-10T09:13:41.101Z"
   },
   {
    "duration": 24,
    "start_time": "2022-02-10T09:14:01.491Z"
   },
   {
    "duration": 90,
    "start_time": "2022-02-10T09:14:01.518Z"
   },
   {
    "duration": 5,
    "start_time": "2022-02-10T09:14:01.611Z"
   },
   {
    "duration": 92,
    "start_time": "2022-02-10T09:14:01.618Z"
   },
   {
    "duration": 4,
    "start_time": "2022-02-10T09:14:28.271Z"
   },
   {
    "duration": 48,
    "start_time": "2022-02-10T09:14:28.649Z"
   },
   {
    "duration": 41,
    "start_time": "2022-02-10T09:14:29.455Z"
   },
   {
    "duration": 9,
    "start_time": "2022-02-10T09:14:30.311Z"
   },
   {
    "duration": 14,
    "start_time": "2022-02-10T09:14:30.566Z"
   },
   {
    "duration": 43,
    "start_time": "2022-02-10T09:14:31.558Z"
   },
   {
    "duration": 9,
    "start_time": "2022-02-10T09:14:31.822Z"
   },
   {
    "duration": 18,
    "start_time": "2022-02-10T09:14:32.021Z"
   },
   {
    "duration": 13,
    "start_time": "2022-02-10T09:14:39.247Z"
   },
   {
    "duration": 45,
    "start_time": "2022-02-10T09:14:39.582Z"
   },
   {
    "duration": 31,
    "start_time": "2022-02-10T09:14:45.615Z"
   },
   {
    "duration": 36,
    "start_time": "2022-02-10T09:15:00.625Z"
   },
   {
    "duration": 198,
    "start_time": "2022-02-10T09:15:27.697Z"
   },
   {
    "duration": 592,
    "start_time": "2022-02-10T09:15:29.535Z"
   },
   {
    "duration": 687,
    "start_time": "2022-02-10T09:15:30.648Z"
   },
   {
    "duration": 588,
    "start_time": "2022-02-10T09:15:32.137Z"
   },
   {
    "duration": 615,
    "start_time": "2022-02-10T09:15:34.558Z"
   },
   {
    "duration": 3,
    "start_time": "2022-02-10T09:15:36.246Z"
   },
   {
    "duration": 14,
    "start_time": "2022-02-10T09:15:38.935Z"
   },
   {
    "duration": 20,
    "start_time": "2022-02-10T09:15:41.831Z"
   },
   {
    "duration": 12,
    "start_time": "2022-02-10T09:15:42.783Z"
   },
   {
    "duration": 20,
    "start_time": "2022-02-10T09:15:46.424Z"
   },
   {
    "duration": 11,
    "start_time": "2022-02-10T09:15:47.775Z"
   },
   {
    "duration": 19,
    "start_time": "2022-02-10T09:15:50.512Z"
   },
   {
    "duration": 13,
    "start_time": "2022-02-10T09:15:51.409Z"
   },
   {
    "duration": 745,
    "start_time": "2022-02-10T09:15:53.711Z"
   },
   {
    "duration": 965,
    "start_time": "2022-02-10T09:15:56.815Z"
   },
   {
    "duration": 45,
    "start_time": "2022-02-10T09:15:59.271Z"
   },
   {
    "duration": 1632,
    "start_time": "2022-02-10T09:19:47.262Z"
   },
   {
    "duration": 5,
    "start_time": "2022-02-10T09:19:48.952Z"
   },
   {
    "duration": 6,
    "start_time": "2022-02-10T09:19:49.573Z"
   },
   {
    "duration": 4,
    "start_time": "2022-02-10T09:19:50.348Z"
   },
   {
    "duration": 2288,
    "start_time": "2022-02-10T09:19:50.774Z"
   },
   {
    "duration": 21363,
    "start_time": "2022-02-10T09:19:53.065Z"
   },
   {
    "duration": 20,
    "start_time": "2022-02-10T09:20:14.431Z"
   },
   {
    "duration": 69,
    "start_time": "2022-02-10T09:20:14.454Z"
   },
   {
    "duration": 4,
    "start_time": "2022-02-10T09:20:14.525Z"
   },
   {
    "duration": 78,
    "start_time": "2022-02-10T09:20:14.532Z"
   },
   {
    "duration": 5,
    "start_time": "2022-02-10T09:20:34.637Z"
   },
   {
    "duration": 45,
    "start_time": "2022-02-10T09:20:35.576Z"
   },
   {
    "duration": 44,
    "start_time": "2022-02-10T09:20:37.870Z"
   },
   {
    "duration": 7,
    "start_time": "2022-02-10T09:20:38.623Z"
   },
   {
    "duration": 14,
    "start_time": "2022-02-10T09:20:41.873Z"
   },
   {
    "duration": 39,
    "start_time": "2022-02-10T09:20:42.381Z"
   },
   {
    "duration": 7,
    "start_time": "2022-02-10T09:20:42.894Z"
   },
   {
    "duration": 18,
    "start_time": "2022-02-10T09:20:44.507Z"
   },
   {
    "duration": 14,
    "start_time": "2022-02-10T09:20:44.655Z"
   },
   {
    "duration": 38,
    "start_time": "2022-02-10T09:20:47.542Z"
   },
   {
    "duration": 30,
    "start_time": "2022-02-10T09:20:51.623Z"
   },
   {
    "duration": 58,
    "start_time": "2022-02-10T09:21:19.199Z"
   },
   {
    "duration": 263,
    "start_time": "2022-02-10T09:21:40.687Z"
   },
   {
    "duration": 594,
    "start_time": "2022-02-10T09:21:51.195Z"
   },
   {
    "duration": 605,
    "start_time": "2022-02-10T09:21:51.846Z"
   },
   {
    "duration": 819,
    "start_time": "2022-02-10T09:21:53.055Z"
   },
   {
    "duration": 603,
    "start_time": "2022-02-10T09:21:54.911Z"
   },
   {
    "duration": 3,
    "start_time": "2022-02-10T09:21:58.230Z"
   },
   {
    "duration": 13,
    "start_time": "2022-02-10T09:21:59.661Z"
   },
   {
    "duration": 21,
    "start_time": "2022-02-10T09:22:08.894Z"
   },
   {
    "duration": 12,
    "start_time": "2022-02-10T09:22:09.576Z"
   },
   {
    "duration": 22,
    "start_time": "2022-02-10T09:22:10.214Z"
   },
   {
    "duration": 12,
    "start_time": "2022-02-10T09:22:12.431Z"
   },
   {
    "duration": 20,
    "start_time": "2022-02-10T09:22:13.278Z"
   },
   {
    "duration": 13,
    "start_time": "2022-02-10T09:22:22.782Z"
   },
   {
    "duration": 747,
    "start_time": "2022-02-10T09:22:27.959Z"
   },
   {
    "duration": 1244,
    "start_time": "2022-02-10T09:22:37.114Z"
   },
   {
    "duration": 34,
    "start_time": "2022-02-10T09:24:14.643Z"
   },
   {
    "duration": 31,
    "start_time": "2022-02-10T09:27:17.674Z"
   },
   {
    "duration": 3,
    "start_time": "2022-02-10T09:27:47.818Z"
   },
   {
    "duration": 7,
    "start_time": "2022-02-10T09:27:52.200Z"
   },
   {
    "duration": 8,
    "start_time": "2022-02-10T09:27:53.392Z"
   },
   {
    "duration": 116,
    "start_time": "2022-02-10T09:28:16.914Z"
   },
   {
    "duration": 799,
    "start_time": "2022-02-10T09:28:27.403Z"
   },
   {
    "duration": 1509,
    "start_time": "2022-02-10T09:28:45.834Z"
   },
   {
    "duration": 309,
    "start_time": "2022-02-10T09:28:54.089Z"
   },
   {
    "duration": 25,
    "start_time": "2022-02-10T09:29:07.921Z"
   },
   {
    "duration": 1934,
    "start_time": "2022-02-10T09:29:12.817Z"
   },
   {
    "duration": -1742,
    "start_time": "2022-02-10T09:29:16.496Z"
   },
   {
    "duration": 1101,
    "start_time": "2022-02-11T17:51:05.851Z"
   },
   {
    "duration": 4,
    "start_time": "2022-02-11T17:51:07.559Z"
   },
   {
    "duration": 4,
    "start_time": "2022-02-11T17:51:07.795Z"
   },
   {
    "duration": 3,
    "start_time": "2022-02-11T17:51:09.090Z"
   },
   {
    "duration": 1734,
    "start_time": "2022-02-11T17:51:10.438Z"
   },
   {
    "duration": 14978,
    "start_time": "2022-02-11T17:51:12.173Z"
   },
   {
    "duration": 12,
    "start_time": "2022-02-11T17:51:27.153Z"
   },
   {
    "duration": 28,
    "start_time": "2022-02-11T17:51:27.166Z"
   },
   {
    "duration": 2,
    "start_time": "2022-02-11T17:51:27.195Z"
   },
   {
    "duration": 27,
    "start_time": "2022-02-11T17:51:27.199Z"
   },
   {
    "duration": 3,
    "start_time": "2022-02-11T17:52:04.583Z"
   },
   {
    "duration": 35,
    "start_time": "2022-02-11T17:52:06.024Z"
   },
   {
    "duration": 25,
    "start_time": "2022-02-11T17:52:06.802Z"
   },
   {
    "duration": 6,
    "start_time": "2022-02-11T17:52:07.810Z"
   },
   {
    "duration": 11,
    "start_time": "2022-02-11T17:52:10.788Z"
   },
   {
    "duration": 23,
    "start_time": "2022-02-11T17:52:11.448Z"
   },
   {
    "duration": 5,
    "start_time": "2022-02-11T17:52:14.381Z"
   },
   {
    "duration": 12,
    "start_time": "2022-02-11T17:52:14.899Z"
   },
   {
    "duration": 9,
    "start_time": "2022-02-11T17:52:15.443Z"
   },
   {
    "duration": 11,
    "start_time": "2022-02-11T17:52:22.315Z"
   },
   {
    "duration": 8,
    "start_time": "2022-02-11T17:52:31.495Z"
   },
   {
    "duration": 1161,
    "start_time": "2022-02-11T17:52:50.576Z"
   },
   {
    "duration": 3,
    "start_time": "2022-02-11T17:52:51.739Z"
   },
   {
    "duration": 3,
    "start_time": "2022-02-11T17:52:51.914Z"
   },
   {
    "duration": 2,
    "start_time": "2022-02-11T17:52:52.536Z"
   },
   {
    "duration": 1564,
    "start_time": "2022-02-11T17:52:53.503Z"
   },
   {
    "duration": 13571,
    "start_time": "2022-02-11T17:52:55.069Z"
   },
   {
    "duration": 12,
    "start_time": "2022-02-11T17:53:08.641Z"
   },
   {
    "duration": 26,
    "start_time": "2022-02-11T17:53:08.655Z"
   },
   {
    "duration": 2,
    "start_time": "2022-02-11T17:53:08.682Z"
   },
   {
    "duration": 27,
    "start_time": "2022-02-11T17:53:08.686Z"
   },
   {
    "duration": 3,
    "start_time": "2022-02-11T17:53:08.715Z"
   },
   {
    "duration": 53,
    "start_time": "2022-02-11T17:53:08.721Z"
   },
   {
    "duration": 24,
    "start_time": "2022-02-11T17:53:08.776Z"
   },
   {
    "duration": 6,
    "start_time": "2022-02-11T17:53:08.801Z"
   },
   {
    "duration": 10,
    "start_time": "2022-02-11T17:53:08.809Z"
   },
   {
    "duration": 55,
    "start_time": "2022-02-11T17:53:08.821Z"
   },
   {
    "duration": 6,
    "start_time": "2022-02-11T17:53:08.878Z"
   },
   {
    "duration": 12,
    "start_time": "2022-02-11T17:53:08.886Z"
   },
   {
    "duration": 9,
    "start_time": "2022-02-11T17:53:08.900Z"
   },
   {
    "duration": 24,
    "start_time": "2022-02-11T17:53:08.910Z"
   },
   {
    "duration": 47,
    "start_time": "2022-02-11T17:53:08.935Z"
   },
   {
    "duration": 18,
    "start_time": "2022-02-11T17:53:08.983Z"
   },
   {
    "duration": 135,
    "start_time": "2022-02-11T17:53:09.003Z"
   },
   {
    "duration": 315,
    "start_time": "2022-02-11T17:53:09.140Z"
   },
   {
    "duration": 324,
    "start_time": "2022-02-11T17:53:09.457Z"
   },
   {
    "duration": 340,
    "start_time": "2022-02-11T17:53:09.783Z"
   },
   {
    "duration": 3,
    "start_time": "2022-02-11T17:53:10.126Z"
   },
   {
    "duration": 6,
    "start_time": "2022-02-11T17:53:10.131Z"
   },
   {
    "duration": 320,
    "start_time": "2022-02-11T17:53:10.139Z"
   },
   {
    "duration": 325,
    "start_time": "2022-02-11T17:53:14.168Z"
   },
   {
    "duration": 5,
    "start_time": "2022-02-11T17:53:18.279Z"
   },
   {
    "duration": 1131,
    "start_time": "2022-02-11T17:53:50.616Z"
   },
   {
    "duration": 3,
    "start_time": "2022-02-11T17:53:52.073Z"
   },
   {
    "duration": 3,
    "start_time": "2022-02-11T17:53:52.256Z"
   },
   {
    "duration": 3,
    "start_time": "2022-02-11T17:53:52.720Z"
   },
   {
    "duration": 1357,
    "start_time": "2022-02-11T17:53:54.169Z"
   },
   {
    "duration": 14386,
    "start_time": "2022-02-11T17:53:55.528Z"
   },
   {
    "duration": 11,
    "start_time": "2022-02-11T17:54:09.916Z"
   },
   {
    "duration": 26,
    "start_time": "2022-02-11T17:54:09.929Z"
   },
   {
    "duration": 3,
    "start_time": "2022-02-11T17:54:09.956Z"
   },
   {
    "duration": 25,
    "start_time": "2022-02-11T17:54:09.961Z"
   },
   {
    "duration": 3,
    "start_time": "2022-02-11T17:54:57.398Z"
   },
   {
    "duration": 35,
    "start_time": "2022-02-11T17:54:58.847Z"
   },
   {
    "duration": 21,
    "start_time": "2022-02-11T17:55:27.747Z"
   },
   {
    "duration": 5,
    "start_time": "2022-02-11T17:55:31.850Z"
   },
   {
    "duration": 10,
    "start_time": "2022-02-11T17:55:34.857Z"
   },
   {
    "duration": 22,
    "start_time": "2022-02-11T17:55:37.983Z"
   },
   {
    "duration": 6,
    "start_time": "2022-02-11T17:55:41.328Z"
   },
   {
    "duration": 11,
    "start_time": "2022-02-11T17:55:43.936Z"
   },
   {
    "duration": 10,
    "start_time": "2022-02-11T17:55:48.258Z"
   },
   {
    "duration": 24,
    "start_time": "2022-02-11T17:55:53.936Z"
   },
   {
    "duration": 15,
    "start_time": "2022-02-11T17:56:05.081Z"
   },
   {
    "duration": 22,
    "start_time": "2022-02-11T17:56:33.424Z"
   },
   {
    "duration": 4,
    "start_time": "2022-02-11T18:00:59.152Z"
   },
   {
    "duration": 29,
    "start_time": "2022-02-11T18:01:19.415Z"
   },
   {
    "duration": 104,
    "start_time": "2022-02-11T18:01:42.043Z"
   },
   {
    "duration": 306,
    "start_time": "2022-02-11T18:01:43.019Z"
   },
   {
    "duration": 316,
    "start_time": "2022-02-11T18:01:46.228Z"
   },
   {
    "duration": 332,
    "start_time": "2022-02-11T18:01:46.546Z"
   },
   {
    "duration": 4,
    "start_time": "2022-02-11T18:01:47.643Z"
   },
   {
    "duration": 4,
    "start_time": "2022-02-11T18:01:48.509Z"
   },
   {
    "duration": 297,
    "start_time": "2022-02-11T18:02:08.820Z"
   },
   {
    "duration": 321,
    "start_time": "2022-02-11T18:03:25.622Z"
   },
   {
    "duration": 2,
    "start_time": "2022-02-11T18:03:28.949Z"
   },
   {
    "duration": 11,
    "start_time": "2022-02-11T18:03:30.779Z"
   },
   {
    "duration": 12,
    "start_time": "2022-02-11T18:03:31.428Z"
   },
   {
    "duration": 7,
    "start_time": "2022-02-11T18:03:32.309Z"
   },
   {
    "duration": 14,
    "start_time": "2022-02-11T18:03:33.333Z"
   },
   {
    "duration": 8,
    "start_time": "2022-02-11T18:03:34.060Z"
   },
   {
    "duration": 14,
    "start_time": "2022-02-11T18:03:34.278Z"
   },
   {
    "duration": 7,
    "start_time": "2022-02-11T18:03:35.187Z"
   },
   {
    "duration": 14,
    "start_time": "2022-02-11T18:03:36.015Z"
   },
   {
    "duration": 8,
    "start_time": "2022-02-11T18:03:36.843Z"
   },
   {
    "duration": 472,
    "start_time": "2022-02-11T18:03:37.517Z"
   },
   {
    "duration": 569,
    "start_time": "2022-02-11T18:03:37.992Z"
   },
   {
    "duration": 28,
    "start_time": "2022-02-11T18:03:38.562Z"
   },
   {
    "duration": 33,
    "start_time": "2022-02-11T18:03:38.591Z"
   },
   {
    "duration": 3,
    "start_time": "2022-02-11T18:03:40.738Z"
   },
   {
    "duration": 4,
    "start_time": "2022-02-11T18:03:42.791Z"
   },
   {
    "duration": 5,
    "start_time": "2022-02-11T18:03:43.476Z"
   },
   {
    "duration": 109,
    "start_time": "2022-02-11T18:03:44.142Z"
   },
   {
    "duration": 208,
    "start_time": "2022-02-11T18:03:45.489Z"
   },
   {
    "duration": 2,
    "start_time": "2022-02-11T18:03:47.115Z"
   },
   {
    "duration": 4409,
    "start_time": "2022-02-11T18:03:47.363Z"
   },
   {
    "duration": 5,
    "start_time": "2022-02-11T18:03:51.774Z"
   },
   {
    "duration": 92,
    "start_time": "2022-02-11T18:03:56.259Z"
   },
   {
    "duration": 87,
    "start_time": "2022-02-11T18:04:12.669Z"
   },
   {
    "duration": 3037,
    "start_time": "2022-02-11T18:04:21.763Z"
   },
   {
    "duration": 4,
    "start_time": "2022-02-11T18:04:24.801Z"
   },
   {
    "duration": 15,
    "start_time": "2022-02-11T18:04:57.886Z"
   },
   {
    "duration": 81,
    "start_time": "2022-02-11T18:05:33.217Z"
   },
   {
    "duration": 17,
    "start_time": "2022-02-11T18:06:40.671Z"
   },
   {
    "duration": 15,
    "start_time": "2022-02-11T18:06:51.651Z"
   },
   {
    "duration": 92,
    "start_time": "2022-02-11T18:10:07.608Z"
   },
   {
    "duration": 101,
    "start_time": "2022-02-11T18:10:16.713Z"
   },
   {
    "duration": 16,
    "start_time": "2022-02-11T18:10:24.864Z"
   },
   {
    "duration": 98,
    "start_time": "2022-02-11T18:36:55.042Z"
   },
   {
    "duration": 98,
    "start_time": "2022-02-11T18:37:10.209Z"
   },
   {
    "duration": 100,
    "start_time": "2022-02-11T18:37:28.220Z"
   },
   {
    "duration": 15,
    "start_time": "2022-02-11T18:37:37.797Z"
   },
   {
    "duration": 94,
    "start_time": "2022-02-11T18:38:01.086Z"
   },
   {
    "duration": 104,
    "start_time": "2022-02-11T18:38:06.027Z"
   },
   {
    "duration": 97,
    "start_time": "2022-02-11T18:38:26.237Z"
   },
   {
    "duration": 14,
    "start_time": "2022-02-11T18:38:39.009Z"
   },
   {
    "duration": 116,
    "start_time": "2022-02-11T18:39:39.575Z"
   },
   {
    "duration": 14,
    "start_time": "2022-02-11T18:52:05.961Z"
   },
   {
    "duration": 1407,
    "start_time": "2022-02-11T18:52:17.285Z"
   },
   {
    "duration": 4,
    "start_time": "2022-02-11T18:52:18.694Z"
   },
   {
    "duration": 6,
    "start_time": "2022-02-11T18:52:18.700Z"
   },
   {
    "duration": 4,
    "start_time": "2022-02-11T18:52:18.708Z"
   },
   {
    "duration": 1547,
    "start_time": "2022-02-11T18:52:18.714Z"
   },
   {
    "duration": 14958,
    "start_time": "2022-02-11T18:52:20.263Z"
   },
   {
    "duration": 18,
    "start_time": "2022-02-11T18:52:35.224Z"
   },
   {
    "duration": 49,
    "start_time": "2022-02-11T18:52:35.246Z"
   },
   {
    "duration": 3,
    "start_time": "2022-02-11T18:52:35.298Z"
   },
   {
    "duration": 49,
    "start_time": "2022-02-11T18:52:35.303Z"
   },
   {
    "duration": 11,
    "start_time": "2022-02-11T18:52:35.354Z"
   },
   {
    "duration": 39,
    "start_time": "2022-02-11T18:52:35.366Z"
   },
   {
    "duration": 50,
    "start_time": "2022-02-11T18:52:35.407Z"
   },
   {
    "duration": 19,
    "start_time": "2022-02-11T18:52:35.458Z"
   },
   {
    "duration": 14,
    "start_time": "2022-02-11T18:52:35.479Z"
   },
   {
    "duration": 29,
    "start_time": "2022-02-11T18:52:35.495Z"
   },
   {
    "duration": 19,
    "start_time": "2022-02-11T18:52:35.526Z"
   },
   {
    "duration": 16,
    "start_time": "2022-02-11T18:52:35.547Z"
   },
   {
    "duration": 14,
    "start_time": "2022-02-11T18:52:35.564Z"
   },
   {
    "duration": 23,
    "start_time": "2022-02-11T18:52:35.580Z"
   },
   {
    "duration": 19,
    "start_time": "2022-02-11T18:52:35.604Z"
   },
   {
    "duration": 25,
    "start_time": "2022-02-11T18:52:35.625Z"
   },
   {
    "duration": 126,
    "start_time": "2022-02-11T18:52:35.654Z"
   },
   {
    "duration": 433,
    "start_time": "2022-02-11T18:52:35.782Z"
   },
   {
    "duration": 331,
    "start_time": "2022-02-11T18:52:36.217Z"
   },
   {
    "duration": 356,
    "start_time": "2022-02-11T18:52:36.550Z"
   },
   {
    "duration": 5,
    "start_time": "2022-02-11T18:52:36.908Z"
   },
   {
    "duration": 21,
    "start_time": "2022-02-11T18:52:36.914Z"
   },
   {
    "duration": 335,
    "start_time": "2022-02-11T18:52:36.936Z"
   },
   {
    "duration": 353,
    "start_time": "2022-02-11T18:52:37.273Z"
   },
   {
    "duration": 2,
    "start_time": "2022-02-11T18:52:37.628Z"
   },
   {
    "duration": 41,
    "start_time": "2022-02-11T18:52:37.632Z"
   },
   {
    "duration": 18,
    "start_time": "2022-02-11T18:52:37.675Z"
   },
   {
    "duration": 18,
    "start_time": "2022-02-11T18:52:37.695Z"
   },
   {
    "duration": 40,
    "start_time": "2022-02-11T18:52:37.715Z"
   },
   {
    "duration": 16,
    "start_time": "2022-02-11T18:52:37.757Z"
   },
   {
    "duration": 37,
    "start_time": "2022-02-11T18:52:37.775Z"
   },
   {
    "duration": 18,
    "start_time": "2022-02-11T18:52:37.814Z"
   },
   {
    "duration": 33,
    "start_time": "2022-02-11T18:52:37.834Z"
   },
   {
    "duration": 18,
    "start_time": "2022-02-11T18:52:37.869Z"
   },
   {
    "duration": 423,
    "start_time": "2022-02-11T18:52:37.888Z"
   },
   {
    "duration": 562,
    "start_time": "2022-02-11T18:52:38.312Z"
   },
   {
    "duration": 18,
    "start_time": "2022-02-11T18:52:38.876Z"
   },
   {
    "duration": 26,
    "start_time": "2022-02-11T18:52:38.895Z"
   },
   {
    "duration": 2,
    "start_time": "2022-02-11T18:52:38.922Z"
   },
   {
    "duration": 6,
    "start_time": "2022-02-11T18:52:38.926Z"
   },
   {
    "duration": 5,
    "start_time": "2022-02-11T18:52:38.933Z"
   },
   {
    "duration": 153,
    "start_time": "2022-02-11T18:52:38.939Z"
   },
   {
    "duration": 295,
    "start_time": "2022-02-11T18:52:39.094Z"
   },
   {
    "duration": 2,
    "start_time": "2022-02-11T18:52:39.391Z"
   },
   {
    "duration": 4292,
    "start_time": "2022-02-11T18:52:39.395Z"
   },
   {
    "duration": 6,
    "start_time": "2022-02-11T18:52:43.689Z"
   },
   {
    "duration": 17,
    "start_time": "2022-02-11T18:52:43.697Z"
   },
   {
    "duration": 2993,
    "start_time": "2022-02-11T18:52:43.716Z"
   },
   {
    "duration": 4,
    "start_time": "2022-02-11T18:52:46.711Z"
   },
   {
    "duration": 1091,
    "start_time": "2022-02-11T19:23:49.250Z"
   },
   {
    "duration": 3,
    "start_time": "2022-02-11T19:23:51.231Z"
   },
   {
    "duration": 3,
    "start_time": "2022-02-11T19:23:51.414Z"
   },
   {
    "duration": 5,
    "start_time": "2022-02-11T19:23:52.996Z"
   },
   {
    "duration": 1653,
    "start_time": "2022-02-11T19:23:54.670Z"
   },
   {
    "duration": 15263,
    "start_time": "2022-02-11T19:23:56.325Z"
   },
   {
    "duration": 14,
    "start_time": "2022-02-11T19:24:11.590Z"
   },
   {
    "duration": 28,
    "start_time": "2022-02-11T19:24:11.606Z"
   },
   {
    "duration": 3,
    "start_time": "2022-02-11T19:24:11.636Z"
   },
   {
    "duration": 51,
    "start_time": "2022-02-11T19:24:11.640Z"
   },
   {
    "duration": 3,
    "start_time": "2022-02-11T19:24:11.693Z"
   },
   {
    "duration": 35,
    "start_time": "2022-02-11T19:24:11.699Z"
   },
   {
    "duration": 42,
    "start_time": "2022-02-11T19:24:11.736Z"
   },
   {
    "duration": 5,
    "start_time": "2022-02-11T19:24:11.779Z"
   },
   {
    "duration": 11,
    "start_time": "2022-02-11T19:24:16.079Z"
   },
   {
    "duration": 24,
    "start_time": "2022-02-11T19:24:16.301Z"
   },
   {
    "duration": 5,
    "start_time": "2022-02-11T19:24:16.614Z"
   },
   {
    "duration": 11,
    "start_time": "2022-02-11T19:24:23.951Z"
   },
   {
    "duration": 9,
    "start_time": "2022-02-11T19:24:26.446Z"
   },
   {
    "duration": 22,
    "start_time": "2022-02-11T19:24:26.701Z"
   },
   {
    "duration": 14,
    "start_time": "2022-02-11T19:24:32.543Z"
   },
   {
    "duration": 22,
    "start_time": "2022-02-11T19:24:54.329Z"
   },
   {
    "duration": 109,
    "start_time": "2022-02-11T19:25:07.205Z"
   },
   {
    "duration": 327,
    "start_time": "2022-02-11T19:25:11.639Z"
   },
   {
    "duration": 308,
    "start_time": "2022-02-11T19:25:12.384Z"
   },
   {
    "duration": 322,
    "start_time": "2022-02-11T19:25:13.535Z"
   },
   {
    "duration": 300,
    "start_time": "2022-02-11T19:25:14.407Z"
   },
   {
    "duration": 336,
    "start_time": "2022-02-11T19:25:15.550Z"
   },
   {
    "duration": 10,
    "start_time": "2022-02-11T19:25:19.726Z"
   },
   {
    "duration": 13,
    "start_time": "2022-02-11T19:25:21.374Z"
   },
   {
    "duration": 8,
    "start_time": "2022-02-11T19:25:24.871Z"
   },
   {
    "duration": 13,
    "start_time": "2022-02-11T19:25:25.455Z"
   },
   {
    "duration": 8,
    "start_time": "2022-02-11T19:25:28.608Z"
   },
   {
    "duration": 419,
    "start_time": "2022-02-11T19:25:28.617Z"
   },
   {
    "duration": 557,
    "start_time": "2022-02-11T19:25:31.990Z"
   },
   {
    "duration": 18,
    "start_time": "2022-02-11T19:25:32.823Z"
   },
   {
    "duration": 25,
    "start_time": "2022-02-11T19:26:00.731Z"
   },
   {
    "duration": 5,
    "start_time": "2022-02-11T19:26:08.558Z"
   },
   {
    "duration": 5,
    "start_time": "2022-02-11T19:26:09.998Z"
   },
   {
    "duration": 126,
    "start_time": "2022-02-11T19:26:12.512Z"
   },
   {
    "duration": 133,
    "start_time": "2022-02-11T19:27:25.688Z"
   },
   {
    "duration": 182,
    "start_time": "2022-02-11T19:27:37.464Z"
   },
   {
    "duration": 3,
    "start_time": "2022-02-11T19:27:53.442Z"
   },
   {
    "duration": 4357,
    "start_time": "2022-02-11T19:27:54.064Z"
   },
   {
    "duration": 5,
    "start_time": "2022-02-11T19:27:58.423Z"
   },
   {
    "duration": 18,
    "start_time": "2022-02-11T19:27:58.430Z"
   },
   {
    "duration": 2717,
    "start_time": "2022-02-11T19:28:11.488Z"
   },
   {
    "duration": 4,
    "start_time": "2022-02-11T19:28:14.207Z"
   },
   {
    "duration": 95,
    "start_time": "2022-02-11T19:28:37.246Z"
   },
   {
    "duration": 1099,
    "start_time": "2022-02-11T19:28:56.645Z"
   },
   {
    "duration": 4,
    "start_time": "2022-02-11T19:28:57.849Z"
   },
   {
    "duration": 3,
    "start_time": "2022-02-11T19:28:58.857Z"
   },
   {
    "duration": 3,
    "start_time": "2022-02-11T19:29:00.336Z"
   },
   {
    "duration": 1542,
    "start_time": "2022-02-11T19:29:01.009Z"
   },
   {
    "duration": 14511,
    "start_time": "2022-02-11T19:29:02.553Z"
   },
   {
    "duration": 15,
    "start_time": "2022-02-11T19:29:17.066Z"
   },
   {
    "duration": 33,
    "start_time": "2022-02-11T19:29:17.083Z"
   },
   {
    "duration": 2,
    "start_time": "2022-02-11T19:29:17.118Z"
   },
   {
    "duration": 28,
    "start_time": "2022-02-11T19:29:17.121Z"
   },
   {
    "duration": 3,
    "start_time": "2022-02-11T19:29:17.151Z"
   },
   {
    "duration": 36,
    "start_time": "2022-02-11T19:29:17.172Z"
   },
   {
    "duration": 21,
    "start_time": "2022-02-11T19:29:17.210Z"
   },
   {
    "duration": 5,
    "start_time": "2022-02-11T19:29:17.233Z"
   },
   {
    "duration": 38,
    "start_time": "2022-02-11T19:29:17.240Z"
   },
   {
    "duration": 23,
    "start_time": "2022-02-11T19:29:17.280Z"
   },
   {
    "duration": 5,
    "start_time": "2022-02-11T19:29:17.304Z"
   },
   {
    "duration": 10,
    "start_time": "2022-02-11T19:29:17.311Z"
   },
   {
    "duration": 7,
    "start_time": "2022-02-11T19:29:17.322Z"
   },
   {
    "duration": 51,
    "start_time": "2022-02-11T19:29:17.331Z"
   },
   {
    "duration": 15,
    "start_time": "2022-02-11T19:29:22.268Z"
   },
   {
    "duration": 23,
    "start_time": "2022-02-11T19:29:34.921Z"
   },
   {
    "duration": 108,
    "start_time": "2022-02-11T19:29:45.778Z"
   },
   {
    "duration": 326,
    "start_time": "2022-02-11T19:29:46.754Z"
   },
   {
    "duration": 317,
    "start_time": "2022-02-11T19:29:47.457Z"
   },
   {
    "duration": 338,
    "start_time": "2022-02-11T19:29:48.194Z"
   },
   {
    "duration": 297,
    "start_time": "2022-02-11T19:29:49.441Z"
   },
   {
    "duration": 327,
    "start_time": "2022-02-11T19:29:50.833Z"
   },
   {
    "duration": 11,
    "start_time": "2022-02-11T19:30:02.565Z"
   },
   {
    "duration": 14,
    "start_time": "2022-02-11T19:30:05.219Z"
   },
   {
    "duration": 7,
    "start_time": "2022-02-11T19:30:06.265Z"
   },
   {
    "duration": 16,
    "start_time": "2022-02-11T19:30:14.849Z"
   },
   {
    "duration": 8,
    "start_time": "2022-02-11T19:30:15.545Z"
   },
   {
    "duration": 436,
    "start_time": "2022-02-11T19:30:18.971Z"
   },
   {
    "duration": 551,
    "start_time": "2022-02-11T19:30:27.641Z"
   },
   {
    "duration": 18,
    "start_time": "2022-02-11T19:30:30.761Z"
   },
   {
    "duration": 27,
    "start_time": "2022-02-11T19:30:50.874Z"
   },
   {
    "duration": 5,
    "start_time": "2022-02-11T19:31:00.393Z"
   },
   {
    "duration": 5,
    "start_time": "2022-02-11T19:31:04.322Z"
   },
   {
    "duration": 88,
    "start_time": "2022-02-11T19:31:13.715Z"
   },
   {
    "duration": 223,
    "start_time": "2022-02-11T19:31:28.458Z"
   },
   {
    "duration": 3,
    "start_time": "2022-02-11T19:32:29.842Z"
   },
   {
    "duration": 4018,
    "start_time": "2022-02-11T19:32:31.490Z"
   },
   {
    "duration": 5,
    "start_time": "2022-02-11T19:32:36.720Z"
   },
   {
    "duration": 15,
    "start_time": "2022-02-11T19:32:39.955Z"
   },
   {
    "duration": 2942,
    "start_time": "2022-02-11T19:33:20.754Z"
   },
   {
    "duration": 4,
    "start_time": "2022-02-11T19:33:24.890Z"
   },
   {
    "duration": 76,
    "start_time": "2022-02-12T17:08:52.312Z"
   },
   {
    "duration": 91,
    "start_time": "2022-02-12T17:08:57.657Z"
   },
   {
    "duration": 67,
    "start_time": "2022-02-12T17:09:28.403Z"
   },
   {
    "duration": 460,
    "start_time": "2022-02-12T17:15:21.585Z"
   },
   {
    "duration": 1741,
    "start_time": "2022-02-12T17:15:54.873Z"
   },
   {
    "duration": 6,
    "start_time": "2022-02-12T17:15:56.620Z"
   },
   {
    "duration": 10,
    "start_time": "2022-02-12T17:15:56.628Z"
   },
   {
    "duration": 7,
    "start_time": "2022-02-12T17:15:56.641Z"
   },
   {
    "duration": 1493,
    "start_time": "2022-02-12T17:15:56.650Z"
   },
   {
    "duration": 12774,
    "start_time": "2022-02-12T17:15:58.145Z"
   },
   {
    "duration": 17,
    "start_time": "2022-02-12T17:16:10.921Z"
   },
   {
    "duration": 39,
    "start_time": "2022-02-12T17:16:10.942Z"
   },
   {
    "duration": 3,
    "start_time": "2022-02-12T17:16:11.009Z"
   },
   {
    "duration": 36,
    "start_time": "2022-02-12T17:16:11.014Z"
   },
   {
    "duration": 9,
    "start_time": "2022-02-12T17:16:11.052Z"
   },
   {
    "duration": 62,
    "start_time": "2022-02-12T17:16:11.063Z"
   },
   {
    "duration": 32,
    "start_time": "2022-02-12T17:16:11.128Z"
   },
   {
    "duration": 6,
    "start_time": "2022-02-12T17:16:11.161Z"
   },
   {
    "duration": 15,
    "start_time": "2022-02-12T17:16:11.170Z"
   },
   {
    "duration": 47,
    "start_time": "2022-02-12T17:16:11.187Z"
   },
   {
    "duration": 6,
    "start_time": "2022-02-12T17:16:11.235Z"
   },
   {
    "duration": 15,
    "start_time": "2022-02-12T17:16:11.242Z"
   },
   {
    "duration": 9,
    "start_time": "2022-02-12T17:16:11.260Z"
   },
   {
    "duration": 63,
    "start_time": "2022-02-12T17:16:11.271Z"
   },
   {
    "duration": 19,
    "start_time": "2022-02-12T17:16:11.336Z"
   },
   {
    "duration": 26,
    "start_time": "2022-02-12T17:16:11.356Z"
   },
   {
    "duration": 166,
    "start_time": "2022-02-12T17:16:11.384Z"
   },
   {
    "duration": 1237,
    "start_time": "2022-02-12T17:16:25.364Z"
   },
   {
    "duration": 4,
    "start_time": "2022-02-12T17:16:27.784Z"
   },
   {
    "duration": 4,
    "start_time": "2022-02-12T17:16:28.863Z"
   },
   {
    "duration": 3,
    "start_time": "2022-02-12T17:16:29.441Z"
   },
   {
    "duration": 1425,
    "start_time": "2022-02-12T17:16:30.995Z"
   },
   {
    "duration": 12494,
    "start_time": "2022-02-12T17:16:32.422Z"
   },
   {
    "duration": 17,
    "start_time": "2022-02-12T17:16:44.918Z"
   },
   {
    "duration": 36,
    "start_time": "2022-02-12T17:16:56.043Z"
   },
   {
    "duration": 3,
    "start_time": "2022-02-12T17:16:58.620Z"
   },
   {
    "duration": 31,
    "start_time": "2022-02-12T17:17:00.517Z"
   },
   {
    "duration": 4,
    "start_time": "2022-02-12T17:17:03.973Z"
   },
   {
    "duration": 42,
    "start_time": "2022-02-12T17:17:04.755Z"
   },
   {
    "duration": 27,
    "start_time": "2022-02-12T17:17:07.061Z"
   },
   {
    "duration": 6,
    "start_time": "2022-02-12T17:17:07.524Z"
   },
   {
    "duration": 13,
    "start_time": "2022-02-12T17:17:10.012Z"
   },
   {
    "duration": 28,
    "start_time": "2022-02-12T17:17:10.693Z"
   },
   {
    "duration": 7,
    "start_time": "2022-02-12T17:17:13.748Z"
   },
   {
    "duration": 14,
    "start_time": "2022-02-12T17:17:14.464Z"
   },
   {
    "duration": 11,
    "start_time": "2022-02-12T17:17:17.144Z"
   },
   {
    "duration": 29,
    "start_time": "2022-02-12T17:17:19.686Z"
   },
   {
    "duration": 17,
    "start_time": "2022-02-12T17:17:25.053Z"
   },
   {
    "duration": 28,
    "start_time": "2022-02-12T17:17:45.322Z"
   },
   {
    "duration": 143,
    "start_time": "2022-02-12T17:17:51.239Z"
   },
   {
    "duration": 394,
    "start_time": "2022-02-12T17:17:52.575Z"
   },
   {
    "duration": 383,
    "start_time": "2022-02-12T17:17:53.108Z"
   },
   {
    "duration": 401,
    "start_time": "2022-02-12T17:17:53.955Z"
   },
   {
    "duration": 386,
    "start_time": "2022-02-12T17:17:55.826Z"
   },
   {
    "duration": 427,
    "start_time": "2022-02-12T17:17:58.996Z"
   },
   {
    "duration": 12,
    "start_time": "2022-02-12T17:18:04.278Z"
   },
   {
    "duration": 15,
    "start_time": "2022-02-12T17:18:07.364Z"
   },
   {
    "duration": 10,
    "start_time": "2022-02-12T17:18:08.040Z"
   },
   {
    "duration": 17,
    "start_time": "2022-02-12T17:18:10.955Z"
   },
   {
    "duration": 9,
    "start_time": "2022-02-12T17:18:11.805Z"
   },
   {
    "duration": 512,
    "start_time": "2022-02-12T17:18:14.014Z"
   },
   {
    "duration": 582,
    "start_time": "2022-02-12T17:18:16.931Z"
   },
   {
    "duration": 22,
    "start_time": "2022-02-12T17:18:24.785Z"
   },
   {
    "duration": 31,
    "start_time": "2022-02-12T17:18:34.573Z"
   },
   {
    "duration": 7,
    "start_time": "2022-02-12T17:19:06.608Z"
   },
   {
    "duration": 6,
    "start_time": "2022-02-12T17:19:08.508Z"
   },
   {
    "duration": 207,
    "start_time": "2022-02-12T17:19:42.454Z"
   },
   {
    "duration": 198,
    "start_time": "2022-02-12T17:20:08.786Z"
   },
   {
    "duration": 4,
    "start_time": "2022-02-12T17:20:19.557Z"
   },
   {
    "duration": 4302,
    "start_time": "2022-02-12T17:20:23.340Z"
   },
   {
    "duration": 6,
    "start_time": "2022-02-12T17:20:29.708Z"
   },
   {
    "duration": 23,
    "start_time": "2022-02-12T17:20:32.052Z"
   },
   {
    "duration": 2421,
    "start_time": "2022-02-12T17:20:46.364Z"
   },
   {
    "duration": 3,
    "start_time": "2022-02-12T17:20:48.787Z"
   },
   {
    "duration": 21,
    "start_time": "2022-02-12T17:28:50.444Z"
   },
   {
    "duration": 2632,
    "start_time": "2022-02-12T17:33:15.307Z"
   },
   {
    "duration": 4,
    "start_time": "2022-02-12T17:33:28.073Z"
   },
   {
    "duration": 4,
    "start_time": "2022-02-12T17:33:37.111Z"
   },
   {
    "duration": 5,
    "start_time": "2022-02-12T17:33:52.695Z"
   },
   {
    "duration": 4,
    "start_time": "2022-02-12T17:35:27.436Z"
   },
   {
    "duration": 1335,
    "start_time": "2022-02-12T17:36:59.890Z"
   },
   {
    "duration": 4,
    "start_time": "2022-02-12T17:37:01.509Z"
   },
   {
    "duration": 4,
    "start_time": "2022-02-12T17:37:01.862Z"
   },
   {
    "duration": 3,
    "start_time": "2022-02-12T17:37:03.262Z"
   },
   {
    "duration": 1669,
    "start_time": "2022-02-12T17:37:03.779Z"
   },
   {
    "duration": 12727,
    "start_time": "2022-02-12T17:37:05.450Z"
   },
   {
    "duration": 18,
    "start_time": "2022-02-12T17:37:18.179Z"
   },
   {
    "duration": 44,
    "start_time": "2022-02-12T17:37:18.199Z"
   },
   {
    "duration": 3,
    "start_time": "2022-02-12T17:37:18.245Z"
   },
   {
    "duration": 34,
    "start_time": "2022-02-12T17:37:18.250Z"
   },
   {
    "duration": 6,
    "start_time": "2022-02-12T17:37:18.286Z"
   },
   {
    "duration": 55,
    "start_time": "2022-02-12T17:37:18.295Z"
   },
   {
    "duration": 26,
    "start_time": "2022-02-12T17:37:18.353Z"
   },
   {
    "duration": 6,
    "start_time": "2022-02-12T17:37:18.407Z"
   },
   {
    "duration": 17,
    "start_time": "2022-02-12T17:37:18.415Z"
   },
   {
    "duration": 29,
    "start_time": "2022-02-12T17:37:18.434Z"
   },
   {
    "duration": 9,
    "start_time": "2022-02-12T17:37:18.465Z"
   },
   {
    "duration": 35,
    "start_time": "2022-02-12T17:37:18.476Z"
   },
   {
    "duration": 11,
    "start_time": "2022-02-12T17:37:19.053Z"
   },
   {
    "duration": 28,
    "start_time": "2022-02-12T17:37:23.290Z"
   },
   {
    "duration": 20,
    "start_time": "2022-02-12T17:37:26.867Z"
   },
   {
    "duration": 27,
    "start_time": "2022-02-12T17:37:40.728Z"
   },
   {
    "duration": 136,
    "start_time": "2022-02-12T17:37:54.346Z"
   },
   {
    "duration": 446,
    "start_time": "2022-02-12T17:37:55.064Z"
   },
   {
    "duration": 394,
    "start_time": "2022-02-12T17:37:55.695Z"
   },
   {
    "duration": 423,
    "start_time": "2022-02-12T17:37:56.092Z"
   },
   {
    "duration": 378,
    "start_time": "2022-02-12T17:37:56.855Z"
   },
   {
    "duration": 425,
    "start_time": "2022-02-12T17:37:57.637Z"
   },
   {
    "duration": 13,
    "start_time": "2022-02-12T17:38:02.152Z"
   },
   {
    "duration": 16,
    "start_time": "2022-02-12T17:38:04.913Z"
   },
   {
    "duration": 9,
    "start_time": "2022-02-12T17:38:06.777Z"
   },
   {
    "duration": 18,
    "start_time": "2022-02-12T17:38:09.840Z"
   },
   {
    "duration": 8,
    "start_time": "2022-02-12T17:38:11.535Z"
   },
   {
    "duration": 535,
    "start_time": "2022-02-12T17:38:18.872Z"
   },
   {
    "duration": 573,
    "start_time": "2022-02-12T17:38:21.825Z"
   },
   {
    "duration": 23,
    "start_time": "2022-02-12T17:38:29.372Z"
   },
   {
    "duration": 30,
    "start_time": "2022-02-12T17:38:35.919Z"
   },
   {
    "duration": 5,
    "start_time": "2022-02-12T17:38:45.623Z"
   },
   {
    "duration": 6,
    "start_time": "2022-02-12T17:38:46.975Z"
   },
   {
    "duration": 381,
    "start_time": "2022-02-12T17:38:51.768Z"
   },
   {
    "duration": 213,
    "start_time": "2022-02-12T17:38:56.511Z"
   },
   {
    "duration": 4,
    "start_time": "2022-02-12T17:39:11.572Z"
   },
   {
    "duration": 4656,
    "start_time": "2022-02-12T17:39:14.619Z"
   },
   {
    "duration": 5,
    "start_time": "2022-02-12T17:39:19.278Z"
   },
   {
    "duration": 21,
    "start_time": "2022-02-12T17:39:21.001Z"
   },
   {
    "duration": 2606,
    "start_time": "2022-02-12T17:39:38.523Z"
   },
   {
    "duration": 5,
    "start_time": "2022-02-12T17:39:41.131Z"
   },
   {
    "duration": 1314,
    "start_time": "2022-02-12T18:48:14.516Z"
   },
   {
    "duration": 3,
    "start_time": "2022-02-12T18:48:15.833Z"
   },
   {
    "duration": 4,
    "start_time": "2022-02-12T18:48:16.474Z"
   },
   {
    "duration": 3,
    "start_time": "2022-02-12T18:48:16.932Z"
   },
   {
    "duration": 1539,
    "start_time": "2022-02-12T18:48:17.387Z"
   },
   {
    "duration": 13015,
    "start_time": "2022-02-12T18:48:18.928Z"
   },
   {
    "duration": 17,
    "start_time": "2022-02-12T18:48:31.945Z"
   },
   {
    "duration": 36,
    "start_time": "2022-02-12T18:48:31.965Z"
   },
   {
    "duration": 4,
    "start_time": "2022-02-12T18:48:32.004Z"
   },
   {
    "duration": 53,
    "start_time": "2022-02-12T18:48:32.009Z"
   },
   {
    "duration": 4,
    "start_time": "2022-02-12T18:48:32.065Z"
   },
   {
    "duration": 67,
    "start_time": "2022-02-12T18:48:32.072Z"
   },
   {
    "duration": 62,
    "start_time": "2022-02-12T18:48:32.142Z"
   },
   {
    "duration": 21,
    "start_time": "2022-02-12T18:48:32.207Z"
   },
   {
    "duration": 36,
    "start_time": "2022-02-12T18:48:32.231Z"
   },
   {
    "duration": 39,
    "start_time": "2022-02-12T18:48:32.269Z"
   },
   {
    "duration": 7,
    "start_time": "2022-02-12T18:48:32.309Z"
   },
   {
    "duration": 18,
    "start_time": "2022-02-12T18:48:32.317Z"
   },
   {
    "duration": 15,
    "start_time": "2022-02-12T18:48:32.337Z"
   },
   {
    "duration": 37,
    "start_time": "2022-02-12T18:48:32.354Z"
   },
   {
    "duration": 18,
    "start_time": "2022-02-12T18:49:08.456Z"
   },
   {
    "duration": 33,
    "start_time": "2022-02-12T18:49:23.795Z"
   },
   {
    "duration": 140,
    "start_time": "2022-02-12T18:49:31.376Z"
   },
   {
    "duration": 394,
    "start_time": "2022-02-12T18:49:32.655Z"
   },
   {
    "duration": 396,
    "start_time": "2022-02-12T18:49:33.051Z"
   },
   {
    "duration": 414,
    "start_time": "2022-02-12T18:49:33.449Z"
   },
   {
    "duration": 366,
    "start_time": "2022-02-12T18:49:34.413Z"
   },
   {
    "duration": 389,
    "start_time": "2022-02-12T18:49:35.272Z"
   },
   {
    "duration": 13,
    "start_time": "2022-02-12T18:49:39.212Z"
   },
   {
    "duration": 18,
    "start_time": "2022-02-12T18:49:40.059Z"
   },
   {
    "duration": 9,
    "start_time": "2022-02-12T18:49:40.796Z"
   },
   {
    "duration": 17,
    "start_time": "2022-02-12T18:49:43.844Z"
   },
   {
    "duration": 9,
    "start_time": "2022-02-12T18:49:44.388Z"
   },
   {
    "duration": 511,
    "start_time": "2022-02-12T18:49:46.529Z"
   },
   {
    "duration": 588,
    "start_time": "2022-02-12T18:49:50.300Z"
   },
   {
    "duration": 23,
    "start_time": "2022-02-12T18:49:54.884Z"
   },
   {
    "duration": 31,
    "start_time": "2022-02-12T18:49:59.909Z"
   },
   {
    "duration": 6,
    "start_time": "2022-02-12T18:50:12.587Z"
   },
   {
    "duration": 6,
    "start_time": "2022-02-12T18:50:13.205Z"
   },
   {
    "duration": 167,
    "start_time": "2022-02-12T18:50:19.142Z"
   },
   {
    "duration": 140,
    "start_time": "2022-02-12T18:50:22.148Z"
   },
   {
    "duration": 3,
    "start_time": "2022-02-12T18:50:31.174Z"
   },
   {
    "duration": 3286,
    "start_time": "2022-02-12T18:50:32.924Z"
   },
   {
    "duration": 5,
    "start_time": "2022-02-12T18:50:36.212Z"
   },
   {
    "duration": 20,
    "start_time": "2022-02-12T18:50:40.657Z"
   },
   {
    "duration": 2533,
    "start_time": "2022-02-12T18:50:50.893Z"
   },
   {
    "duration": 4,
    "start_time": "2022-02-12T18:50:53.428Z"
   }
  ],
  "kernelspec": {
   "display_name": "Python 3",
   "language": "python",
   "name": "python3"
  },
  "language_info": {
   "codemirror_mode": {
    "name": "ipython",
    "version": 3
   },
   "file_extension": ".py",
   "mimetype": "text/x-python",
   "name": "python",
   "nbconvert_exporter": "python",
   "pygments_lexer": "ipython3",
   "version": "3.7.8"
  },
  "toc": {
   "base_numbering": 1,
   "nav_menu": {},
   "number_sections": true,
   "sideBar": true,
   "skip_h1_title": true,
   "title_cell": "Table of Contents",
   "title_sidebar": "Contents",
   "toc_cell": false,
   "toc_position": {},
   "toc_section_display": true,
   "toc_window_display": false
  }
 },
 "nbformat": 4,
 "nbformat_minor": 4
}
